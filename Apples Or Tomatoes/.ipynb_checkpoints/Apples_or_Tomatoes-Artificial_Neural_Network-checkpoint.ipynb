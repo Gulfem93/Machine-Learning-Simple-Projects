{
 "cells": [
  {
   "cell_type": "markdown",
   "id": "5f8cf17a",
   "metadata": {},
   "source": [
    "# Apple or Tomatoes - Artificial Neural Network"
   ]
  },
  {
   "cell_type": "markdown",
   "id": "db1a0e61",
   "metadata": {},
   "source": [
    "## Import"
   ]
  },
  {
   "cell_type": "code",
   "execution_count": 1,
   "id": "b58c0ac3",
   "metadata": {},
   "outputs": [],
   "source": [
    "import os\n",
    "import numpy as np\n",
    "\n",
    "import matplotlib.pyplot as plt\n",
    "from PIL import Image\n",
    "import re"
   ]
  },
  {
   "cell_type": "markdown",
   "id": "cd34235c",
   "metadata": {},
   "source": [
    "#### Rename ımage"
   ]
  },
  {
   "cell_type": "code",
   "execution_count": 2,
   "id": "62d177f7",
   "metadata": {},
   "outputs": [
    {
     "name": "stdout",
     "output_type": "stream",
     "text": [
      "[WinError 183] Halen varolan bir dosya oluşturulamaz: 'test//apples//apples10.jpeg' -> 'test//apples//apples2.jpeg'\n",
      "[WinError 183] Halen varolan bir dosya oluşturulamaz: 'test//apples//apples11.jpeg' -> 'test//apples//apples3.jpeg'\n",
      "[WinError 183] Halen varolan bir dosya oluşturulamaz: 'test//apples//apples12.jpeg' -> 'test//apples//apples4.jpeg'\n",
      "[WinError 183] Halen varolan bir dosya oluşturulamaz: 'test//apples//apples13.jpeg' -> 'test//apples//apples5.jpeg'\n",
      "[WinError 183] Halen varolan bir dosya oluşturulamaz: 'test//apples//apples14.jpeg' -> 'test//apples//apples6.jpeg'\n",
      "[WinError 183] Halen varolan bir dosya oluşturulamaz: 'test//apples//apples15.jpeg' -> 'test//apples//apples7.jpeg'\n",
      "[WinError 183] Halen varolan bir dosya oluşturulamaz: 'test//apples//apples16.jpeg' -> 'test//apples//apples8.jpeg'\n",
      "[WinError 183] Halen varolan bir dosya oluşturulamaz: 'test//apples//apples17.jpeg' -> 'test//apples//apples9.jpeg'\n",
      "[WinError 183] Halen varolan bir dosya oluşturulamaz: 'test//apples//apples18.jpeg' -> 'test//apples//apples10.jpeg'\n",
      "[WinError 183] Halen varolan bir dosya oluşturulamaz: 'test//apples//apples19.jpeg' -> 'test//apples//apples11.jpeg'\n",
      "[WinError 183] Halen varolan bir dosya oluşturulamaz: 'test//apples//apples2.jpeg' -> 'test//apples//apples12.jpeg'\n",
      "[WinError 183] Halen varolan bir dosya oluşturulamaz: 'test//apples//apples20.jpeg' -> 'test//apples//apples13.jpeg'\n",
      "[WinError 183] Halen varolan bir dosya oluşturulamaz: 'test//apples//apples21.jpeg' -> 'test//apples//apples14.jpeg'\n",
      "[WinError 183] Halen varolan bir dosya oluşturulamaz: 'test//apples//apples22.jpeg' -> 'test//apples//apples15.jpeg'\n",
      "[WinError 183] Halen varolan bir dosya oluşturulamaz: 'test//apples//apples23.jpeg' -> 'test//apples//apples16.jpeg'\n",
      "[WinError 183] Halen varolan bir dosya oluşturulamaz: 'test//apples//apples24.jpeg' -> 'test//apples//apples17.jpeg'\n",
      "[WinError 183] Halen varolan bir dosya oluşturulamaz: 'test//apples//apples25.jpeg' -> 'test//apples//apples18.jpeg'\n",
      "[WinError 183] Halen varolan bir dosya oluşturulamaz: 'test//apples//apples26.jpeg' -> 'test//apples//apples19.jpeg'\n",
      "[WinError 183] Halen varolan bir dosya oluşturulamaz: 'test//apples//apples27.jpeg' -> 'test//apples//apples20.jpeg'\n",
      "[WinError 183] Halen varolan bir dosya oluşturulamaz: 'test//apples//apples28.jpeg' -> 'test//apples//apples21.jpeg'\n",
      "[WinError 183] Halen varolan bir dosya oluşturulamaz: 'test//apples//apples29.jpeg' -> 'test//apples//apples22.jpeg'\n",
      "[WinError 183] Halen varolan bir dosya oluşturulamaz: 'test//apples//apples3.jpeg' -> 'test//apples//apples23.jpeg'\n",
      "[WinError 183] Halen varolan bir dosya oluşturulamaz: 'test//apples//apples30.jpeg' -> 'test//apples//apples24.jpeg'\n",
      "[WinError 183] Halen varolan bir dosya oluşturulamaz: 'test//apples//apples31.jpeg' -> 'test//apples//apples25.jpeg'\n",
      "[WinError 183] Halen varolan bir dosya oluşturulamaz: 'test//apples//apples32.jpeg' -> 'test//apples//apples26.jpeg'\n",
      "[WinError 183] Halen varolan bir dosya oluşturulamaz: 'test//apples//apples33.jpeg' -> 'test//apples//apples27.jpeg'\n",
      "[WinError 183] Halen varolan bir dosya oluşturulamaz: 'test//apples//apples34.jpeg' -> 'test//apples//apples28.jpeg'\n",
      "[WinError 183] Halen varolan bir dosya oluşturulamaz: 'test//apples//apples35.jpeg' -> 'test//apples//apples29.jpeg'\n",
      "[WinError 183] Halen varolan bir dosya oluşturulamaz: 'test//apples//apples36.jpeg' -> 'test//apples//apples30.jpeg'\n",
      "[WinError 183] Halen varolan bir dosya oluşturulamaz: 'test//apples//apples37.jpeg' -> 'test//apples//apples31.jpeg'\n",
      "[WinError 183] Halen varolan bir dosya oluşturulamaz: 'test//apples//apples38.jpeg' -> 'test//apples//apples32.jpeg'\n",
      "[WinError 183] Halen varolan bir dosya oluşturulamaz: 'test//apples//apples39.jpeg' -> 'test//apples//apples33.jpeg'\n",
      "[WinError 183] Halen varolan bir dosya oluşturulamaz: 'test//apples//apples4.jpeg' -> 'test//apples//apples34.jpeg'\n",
      "[WinError 183] Halen varolan bir dosya oluşturulamaz: 'test//apples//apples40.jpeg' -> 'test//apples//apples35.jpeg'\n",
      "[WinError 183] Halen varolan bir dosya oluşturulamaz: 'test//apples//apples41.jpeg' -> 'test//apples//apples36.jpeg'\n",
      "[WinError 183] Halen varolan bir dosya oluşturulamaz: 'test//apples//apples42.jpeg' -> 'test//apples//apples37.jpeg'\n",
      "[WinError 183] Halen varolan bir dosya oluşturulamaz: 'test//apples//apples43.jpeg' -> 'test//apples//apples38.jpeg'\n",
      "[WinError 183] Halen varolan bir dosya oluşturulamaz: 'test//apples//apples44.jpeg' -> 'test//apples//apples39.jpeg'\n",
      "[WinError 183] Halen varolan bir dosya oluşturulamaz: 'test//apples//apples45.jpeg' -> 'test//apples//apples40.jpeg'\n",
      "[WinError 183] Halen varolan bir dosya oluşturulamaz: 'test//apples//apples46.jpeg' -> 'test//apples//apples41.jpeg'\n",
      "[WinError 183] Halen varolan bir dosya oluşturulamaz: 'test//apples//apples47.jpeg' -> 'test//apples//apples42.jpeg'\n",
      "[WinError 183] Halen varolan bir dosya oluşturulamaz: 'test//apples//apples48.jpeg' -> 'test//apples//apples43.jpeg'\n",
      "[WinError 183] Halen varolan bir dosya oluşturulamaz: 'test//apples//apples49.jpeg' -> 'test//apples//apples44.jpeg'\n",
      "[WinError 183] Halen varolan bir dosya oluşturulamaz: 'test//apples//apples5.jpeg' -> 'test//apples//apples45.jpeg'\n",
      "[WinError 183] Halen varolan bir dosya oluşturulamaz: 'test//apples//apples50.jpeg' -> 'test//apples//apples46.jpeg'\n",
      "[WinError 183] Halen varolan bir dosya oluşturulamaz: 'test//apples//apples51.jpeg' -> 'test//apples//apples47.jpeg'\n",
      "[WinError 183] Halen varolan bir dosya oluşturulamaz: 'test//apples//apples52.jpeg' -> 'test//apples//apples48.jpeg'\n",
      "[WinError 183] Halen varolan bir dosya oluşturulamaz: 'test//apples//apples53.jpeg' -> 'test//apples//apples49.jpeg'\n",
      "[WinError 183] Halen varolan bir dosya oluşturulamaz: 'test//apples//apples54.jpeg' -> 'test//apples//apples50.jpeg'\n",
      "[WinError 183] Halen varolan bir dosya oluşturulamaz: 'test//apples//apples6.jpeg' -> 'test//apples//apples51.jpeg'\n",
      "[WinError 183] Halen varolan bir dosya oluşturulamaz: 'test//apples//apples7.jpeg' -> 'test//apples//apples52.jpeg'\n",
      "[WinError 183] Halen varolan bir dosya oluşturulamaz: 'test//apples//apples8.jpeg' -> 'test//apples//apples53.jpeg'\n",
      "[WinError 183] Halen varolan bir dosya oluşturulamaz: 'test//apples//apples9.jpeg' -> 'test//apples//apples54.jpeg'\n",
      "[WinError 183] Halen varolan bir dosya oluşturulamaz: 'train//apples//apples10.jpeg' -> 'train//apples//apples2.jpeg'\n",
      "[WinError 183] Halen varolan bir dosya oluşturulamaz: 'train//apples//apples100.jpeg' -> 'train//apples//apples3.jpeg'\n",
      "[WinError 183] Halen varolan bir dosya oluşturulamaz: 'train//apples//apples101.jpeg' -> 'train//apples//apples4.jpeg'\n",
      "[WinError 183] Halen varolan bir dosya oluşturulamaz: 'train//apples//apples102.jpeg' -> 'train//apples//apples5.jpeg'\n",
      "[WinError 183] Halen varolan bir dosya oluşturulamaz: 'train//apples//apples103.jpeg' -> 'train//apples//apples6.jpeg'\n",
      "[WinError 183] Halen varolan bir dosya oluşturulamaz: 'train//apples//apples104.jpeg' -> 'train//apples//apples7.jpeg'\n",
      "[WinError 183] Halen varolan bir dosya oluşturulamaz: 'train//apples//apples105.jpeg' -> 'train//apples//apples8.jpeg'\n",
      "[WinError 183] Halen varolan bir dosya oluşturulamaz: 'train//apples//apples106.jpeg' -> 'train//apples//apples9.jpeg'\n",
      "[WinError 183] Halen varolan bir dosya oluşturulamaz: 'train//apples//apples107.jpeg' -> 'train//apples//apples10.jpeg'\n",
      "[WinError 183] Halen varolan bir dosya oluşturulamaz: 'train//apples//apples108.jpeg' -> 'train//apples//apples11.jpeg'\n",
      "[WinError 183] Halen varolan bir dosya oluşturulamaz: 'train//apples//apples109.jpeg' -> 'train//apples//apples12.jpeg'\n",
      "[WinError 183] Halen varolan bir dosya oluşturulamaz: 'train//apples//apples11.jpeg' -> 'train//apples//apples13.jpeg'\n",
      "[WinError 183] Halen varolan bir dosya oluşturulamaz: 'train//apples//apples110.jpeg' -> 'train//apples//apples14.jpeg'\n",
      "[WinError 183] Halen varolan bir dosya oluşturulamaz: 'train//apples//apples111.jpeg' -> 'train//apples//apples15.jpeg'\n",
      "[WinError 183] Halen varolan bir dosya oluşturulamaz: 'train//apples//apples112.jpeg' -> 'train//apples//apples16.jpeg'\n",
      "[WinError 183] Halen varolan bir dosya oluşturulamaz: 'train//apples//apples113.jpeg' -> 'train//apples//apples17.jpeg'\n",
      "[WinError 183] Halen varolan bir dosya oluşturulamaz: 'train//apples//apples114.jpeg' -> 'train//apples//apples18.jpeg'\n",
      "[WinError 183] Halen varolan bir dosya oluşturulamaz: 'train//apples//apples115.jpeg' -> 'train//apples//apples19.jpeg'\n",
      "[WinError 183] Halen varolan bir dosya oluşturulamaz: 'train//apples//apples116.jpeg' -> 'train//apples//apples20.jpeg'\n",
      "[WinError 183] Halen varolan bir dosya oluşturulamaz: 'train//apples//apples117.jpeg' -> 'train//apples//apples21.jpeg'\n",
      "[WinError 183] Halen varolan bir dosya oluşturulamaz: 'train//apples//apples118.jpeg' -> 'train//apples//apples22.jpeg'\n",
      "[WinError 183] Halen varolan bir dosya oluşturulamaz: 'train//apples//apples119.jpeg' -> 'train//apples//apples23.jpeg'\n",
      "[WinError 183] Halen varolan bir dosya oluşturulamaz: 'train//apples//apples12.jpeg' -> 'train//apples//apples24.jpeg'\n",
      "[WinError 183] Halen varolan bir dosya oluşturulamaz: 'train//apples//apples120.jpeg' -> 'train//apples//apples25.jpeg'\n",
      "[WinError 183] Halen varolan bir dosya oluşturulamaz: 'train//apples//apples121.jpeg' -> 'train//apples//apples26.jpeg'\n",
      "[WinError 183] Halen varolan bir dosya oluşturulamaz: 'train//apples//apples122.jpeg' -> 'train//apples//apples27.jpeg'\n",
      "[WinError 183] Halen varolan bir dosya oluşturulamaz: 'train//apples//apples123.jpeg' -> 'train//apples//apples28.jpeg'\n",
      "[WinError 183] Halen varolan bir dosya oluşturulamaz: 'train//apples//apples124.jpeg' -> 'train//apples//apples29.jpeg'\n",
      "[WinError 183] Halen varolan bir dosya oluşturulamaz: 'train//apples//apples125.jpeg' -> 'train//apples//apples30.jpeg'\n",
      "[WinError 183] Halen varolan bir dosya oluşturulamaz: 'train//apples//apples126.jpeg' -> 'train//apples//apples31.jpeg'\n",
      "[WinError 183] Halen varolan bir dosya oluşturulamaz: 'train//apples//apples127.jpeg' -> 'train//apples//apples32.jpeg'\n",
      "[WinError 183] Halen varolan bir dosya oluşturulamaz: 'train//apples//apples128.jpeg' -> 'train//apples//apples33.jpeg'\n",
      "[WinError 183] Halen varolan bir dosya oluşturulamaz: 'train//apples//apples129.jpeg' -> 'train//apples//apples34.jpeg'\n",
      "[WinError 183] Halen varolan bir dosya oluşturulamaz: 'train//apples//apples13.jpeg' -> 'train//apples//apples35.jpeg'\n",
      "[WinError 183] Halen varolan bir dosya oluşturulamaz: 'train//apples//apples130.jpeg' -> 'train//apples//apples36.jpeg'\n",
      "[WinError 183] Halen varolan bir dosya oluşturulamaz: 'train//apples//apples131.jpeg' -> 'train//apples//apples37.jpeg'\n",
      "[WinError 183] Halen varolan bir dosya oluşturulamaz: 'train//apples//apples132.jpeg' -> 'train//apples//apples38.jpeg'\n",
      "[WinError 183] Halen varolan bir dosya oluşturulamaz: 'train//apples//apples133.jpeg' -> 'train//apples//apples39.jpeg'\n",
      "[WinError 183] Halen varolan bir dosya oluşturulamaz: 'train//apples//apples134.jpeg' -> 'train//apples//apples40.jpeg'\n",
      "[WinError 183] Halen varolan bir dosya oluşturulamaz: 'train//apples//apples135.jpeg' -> 'train//apples//apples41.jpeg'\n",
      "[WinError 183] Halen varolan bir dosya oluşturulamaz: 'train//apples//apples136.jpeg' -> 'train//apples//apples42.jpeg'\n",
      "[WinError 183] Halen varolan bir dosya oluşturulamaz: 'train//apples//apples137.jpeg' -> 'train//apples//apples43.jpeg'\n",
      "[WinError 183] Halen varolan bir dosya oluşturulamaz: 'train//apples//apples138.jpeg' -> 'train//apples//apples44.jpeg'\n",
      "[WinError 183] Halen varolan bir dosya oluşturulamaz: 'train//apples//apples139.jpeg' -> 'train//apples//apples45.jpeg'\n",
      "[WinError 183] Halen varolan bir dosya oluşturulamaz: 'train//apples//apples14.jpeg' -> 'train//apples//apples46.jpeg'\n",
      "[WinError 183] Halen varolan bir dosya oluşturulamaz: 'train//apples//apples140.jpeg' -> 'train//apples//apples47.jpeg'\n",
      "[WinError 183] Halen varolan bir dosya oluşturulamaz: 'train//apples//apples141.jpeg' -> 'train//apples//apples48.jpeg'\n",
      "[WinError 183] Halen varolan bir dosya oluşturulamaz: 'train//apples//apples142.jpeg' -> 'train//apples//apples49.jpeg'\n",
      "[WinError 183] Halen varolan bir dosya oluşturulamaz: 'train//apples//apples143.jpeg' -> 'train//apples//apples50.jpeg'\n",
      "[WinError 183] Halen varolan bir dosya oluşturulamaz: 'train//apples//apples144.jpeg' -> 'train//apples//apples51.jpeg'\n",
      "[WinError 183] Halen varolan bir dosya oluşturulamaz: 'train//apples//apples145.jpeg' -> 'train//apples//apples52.jpeg'\n",
      "[WinError 183] Halen varolan bir dosya oluşturulamaz: 'train//apples//apples146.jpeg' -> 'train//apples//apples53.jpeg'\n",
      "[WinError 183] Halen varolan bir dosya oluşturulamaz: 'train//apples//apples147.jpeg' -> 'train//apples//apples54.jpeg'\n",
      "[WinError 183] Halen varolan bir dosya oluşturulamaz: 'train//apples//apples148.jpeg' -> 'train//apples//apples55.jpeg'\n",
      "[WinError 183] Halen varolan bir dosya oluşturulamaz: 'train//apples//apples149.jpeg' -> 'train//apples//apples56.jpeg'\n",
      "[WinError 183] Halen varolan bir dosya oluşturulamaz: 'train//apples//apples15.jpeg' -> 'train//apples//apples57.jpeg'\n",
      "[WinError 183] Halen varolan bir dosya oluşturulamaz: 'train//apples//apples150.jpeg' -> 'train//apples//apples58.jpeg'\n",
      "[WinError 183] Halen varolan bir dosya oluşturulamaz: 'train//apples//apples151.jpeg' -> 'train//apples//apples59.jpeg'\n",
      "[WinError 183] Halen varolan bir dosya oluşturulamaz: 'train//apples//apples152.jpeg' -> 'train//apples//apples60.jpeg'\n",
      "[WinError 183] Halen varolan bir dosya oluşturulamaz: 'train//apples//apples153.jpeg' -> 'train//apples//apples61.jpeg'\n",
      "[WinError 183] Halen varolan bir dosya oluşturulamaz: 'train//apples//apples154.jpeg' -> 'train//apples//apples62.jpeg'\n",
      "[WinError 183] Halen varolan bir dosya oluşturulamaz: 'train//apples//apples155.jpeg' -> 'train//apples//apples63.jpeg'\n",
      "[WinError 183] Halen varolan bir dosya oluşturulamaz: 'train//apples//apples156.jpeg' -> 'train//apples//apples64.jpeg'\n",
      "[WinError 183] Halen varolan bir dosya oluşturulamaz: 'train//apples//apples157.jpeg' -> 'train//apples//apples65.jpeg'\n",
      "[WinError 183] Halen varolan bir dosya oluşturulamaz: 'train//apples//apples158.jpeg' -> 'train//apples//apples66.jpeg'\n",
      "[WinError 183] Halen varolan bir dosya oluşturulamaz: 'train//apples//apples159.jpeg' -> 'train//apples//apples67.jpeg'\n",
      "[WinError 183] Halen varolan bir dosya oluşturulamaz: 'train//apples//apples16.jpeg' -> 'train//apples//apples68.jpeg'\n",
      "[WinError 183] Halen varolan bir dosya oluşturulamaz: 'train//apples//apples160.jpeg' -> 'train//apples//apples69.jpeg'\n",
      "[WinError 183] Halen varolan bir dosya oluşturulamaz: 'train//apples//apples17.jpeg' -> 'train//apples//apples70.jpeg'\n",
      "[WinError 183] Halen varolan bir dosya oluşturulamaz: 'train//apples//apples18.jpeg' -> 'train//apples//apples71.jpeg'\n",
      "[WinError 183] Halen varolan bir dosya oluşturulamaz: 'train//apples//apples19.jpeg' -> 'train//apples//apples72.jpeg'\n",
      "[WinError 183] Halen varolan bir dosya oluşturulamaz: 'train//apples//apples2.jpeg' -> 'train//apples//apples73.jpeg'\n",
      "[WinError 183] Halen varolan bir dosya oluşturulamaz: 'train//apples//apples20.jpeg' -> 'train//apples//apples74.jpeg'\n",
      "[WinError 183] Halen varolan bir dosya oluşturulamaz: 'train//apples//apples21.jpeg' -> 'train//apples//apples75.jpeg'\n",
      "[WinError 183] Halen varolan bir dosya oluşturulamaz: 'train//apples//apples22.jpeg' -> 'train//apples//apples76.jpeg'\n",
      "[WinError 183] Halen varolan bir dosya oluşturulamaz: 'train//apples//apples23.jpeg' -> 'train//apples//apples77.jpeg'\n",
      "[WinError 183] Halen varolan bir dosya oluşturulamaz: 'train//apples//apples24.jpeg' -> 'train//apples//apples78.jpeg'\n",
      "[WinError 183] Halen varolan bir dosya oluşturulamaz: 'train//apples//apples25.jpeg' -> 'train//apples//apples79.jpeg'\n",
      "[WinError 183] Halen varolan bir dosya oluşturulamaz: 'train//apples//apples26.jpeg' -> 'train//apples//apples80.jpeg'\n",
      "[WinError 183] Halen varolan bir dosya oluşturulamaz: 'train//apples//apples27.jpeg' -> 'train//apples//apples81.jpeg'\n",
      "[WinError 183] Halen varolan bir dosya oluşturulamaz: 'train//apples//apples28.jpeg' -> 'train//apples//apples82.jpeg'\n",
      "[WinError 183] Halen varolan bir dosya oluşturulamaz: 'train//apples//apples29.jpeg' -> 'train//apples//apples83.jpeg'\n",
      "[WinError 183] Halen varolan bir dosya oluşturulamaz: 'train//apples//apples3.jpeg' -> 'train//apples//apples84.jpeg'\n",
      "[WinError 183] Halen varolan bir dosya oluşturulamaz: 'train//apples//apples30.jpeg' -> 'train//apples//apples85.jpeg'\n",
      "[WinError 183] Halen varolan bir dosya oluşturulamaz: 'train//apples//apples31.jpeg' -> 'train//apples//apples86.jpeg'\n",
      "[WinError 183] Halen varolan bir dosya oluşturulamaz: 'train//apples//apples32.jpeg' -> 'train//apples//apples87.jpeg'\n",
      "[WinError 183] Halen varolan bir dosya oluşturulamaz: 'train//apples//apples33.jpeg' -> 'train//apples//apples88.jpeg'\n",
      "[WinError 183] Halen varolan bir dosya oluşturulamaz: 'train//apples//apples34.jpeg' -> 'train//apples//apples89.jpeg'\n",
      "[WinError 183] Halen varolan bir dosya oluşturulamaz: 'train//apples//apples35.jpeg' -> 'train//apples//apples90.jpeg'\n",
      "[WinError 183] Halen varolan bir dosya oluşturulamaz: 'train//apples//apples36.jpeg' -> 'train//apples//apples91.jpeg'\n",
      "[WinError 183] Halen varolan bir dosya oluşturulamaz: 'train//apples//apples37.jpeg' -> 'train//apples//apples92.jpeg'\n",
      "[WinError 183] Halen varolan bir dosya oluşturulamaz: 'train//apples//apples38.jpeg' -> 'train//apples//apples93.jpeg'\n",
      "[WinError 183] Halen varolan bir dosya oluşturulamaz: 'train//apples//apples39.jpeg' -> 'train//apples//apples94.jpeg'\n",
      "[WinError 183] Halen varolan bir dosya oluşturulamaz: 'train//apples//apples4.jpeg' -> 'train//apples//apples95.jpeg'\n",
      "[WinError 183] Halen varolan bir dosya oluşturulamaz: 'train//apples//apples40.jpeg' -> 'train//apples//apples96.jpeg'\n",
      "[WinError 183] Halen varolan bir dosya oluşturulamaz: 'train//apples//apples41.jpeg' -> 'train//apples//apples97.jpeg'\n",
      "[WinError 183] Halen varolan bir dosya oluşturulamaz: 'train//apples//apples42.jpeg' -> 'train//apples//apples98.jpeg'\n",
      "[WinError 183] Halen varolan bir dosya oluşturulamaz: 'train//apples//apples43.jpeg' -> 'train//apples//apples99.jpeg'\n",
      "[WinError 183] Halen varolan bir dosya oluşturulamaz: 'train//apples//apples44.jpeg' -> 'train//apples//apples100.jpeg'\n",
      "[WinError 183] Halen varolan bir dosya oluşturulamaz: 'train//apples//apples45.jpeg' -> 'train//apples//apples101.jpeg'\n",
      "[WinError 183] Halen varolan bir dosya oluşturulamaz: 'train//apples//apples46.jpeg' -> 'train//apples//apples102.jpeg'\n",
      "[WinError 183] Halen varolan bir dosya oluşturulamaz: 'train//apples//apples47.jpeg' -> 'train//apples//apples103.jpeg'\n",
      "[WinError 183] Halen varolan bir dosya oluşturulamaz: 'train//apples//apples48.jpeg' -> 'train//apples//apples104.jpeg'\n",
      "[WinError 183] Halen varolan bir dosya oluşturulamaz: 'train//apples//apples49.jpeg' -> 'train//apples//apples105.jpeg'\n",
      "[WinError 183] Halen varolan bir dosya oluşturulamaz: 'train//apples//apples5.jpeg' -> 'train//apples//apples106.jpeg'\n",
      "[WinError 183] Halen varolan bir dosya oluşturulamaz: 'train//apples//apples50.jpeg' -> 'train//apples//apples107.jpeg'\n",
      "[WinError 183] Halen varolan bir dosya oluşturulamaz: 'train//apples//apples51.jpeg' -> 'train//apples//apples108.jpeg'\n",
      "[WinError 183] Halen varolan bir dosya oluşturulamaz: 'train//apples//apples52.jpeg' -> 'train//apples//apples109.jpeg'\n",
      "[WinError 183] Halen varolan bir dosya oluşturulamaz: 'train//apples//apples53.jpeg' -> 'train//apples//apples110.jpeg'\n",
      "[WinError 183] Halen varolan bir dosya oluşturulamaz: 'train//apples//apples54.jpeg' -> 'train//apples//apples111.jpeg'\n",
      "[WinError 183] Halen varolan bir dosya oluşturulamaz: 'train//apples//apples55.jpeg' -> 'train//apples//apples112.jpeg'\n",
      "[WinError 183] Halen varolan bir dosya oluşturulamaz: 'train//apples//apples56.jpeg' -> 'train//apples//apples113.jpeg'\n",
      "[WinError 183] Halen varolan bir dosya oluşturulamaz: 'train//apples//apples57.jpeg' -> 'train//apples//apples114.jpeg'\n",
      "[WinError 183] Halen varolan bir dosya oluşturulamaz: 'train//apples//apples58.jpeg' -> 'train//apples//apples115.jpeg'\n",
      "[WinError 183] Halen varolan bir dosya oluşturulamaz: 'train//apples//apples59.jpeg' -> 'train//apples//apples116.jpeg'\n",
      "[WinError 183] Halen varolan bir dosya oluşturulamaz: 'train//apples//apples6.jpeg' -> 'train//apples//apples117.jpeg'\n",
      "[WinError 183] Halen varolan bir dosya oluşturulamaz: 'train//apples//apples60.jpeg' -> 'train//apples//apples118.jpeg'\n",
      "[WinError 183] Halen varolan bir dosya oluşturulamaz: 'train//apples//apples61.jpeg' -> 'train//apples//apples119.jpeg'\n",
      "[WinError 183] Halen varolan bir dosya oluşturulamaz: 'train//apples//apples62.jpeg' -> 'train//apples//apples120.jpeg'\n",
      "[WinError 183] Halen varolan bir dosya oluşturulamaz: 'train//apples//apples63.jpeg' -> 'train//apples//apples121.jpeg'\n",
      "[WinError 183] Halen varolan bir dosya oluşturulamaz: 'train//apples//apples64.jpeg' -> 'train//apples//apples122.jpeg'\n",
      "[WinError 183] Halen varolan bir dosya oluşturulamaz: 'train//apples//apples65.jpeg' -> 'train//apples//apples123.jpeg'\n",
      "[WinError 183] Halen varolan bir dosya oluşturulamaz: 'train//apples//apples66.jpeg' -> 'train//apples//apples124.jpeg'\n",
      "[WinError 183] Halen varolan bir dosya oluşturulamaz: 'train//apples//apples67.jpeg' -> 'train//apples//apples125.jpeg'\n",
      "[WinError 183] Halen varolan bir dosya oluşturulamaz: 'train//apples//apples68.jpeg' -> 'train//apples//apples126.jpeg'\n",
      "[WinError 183] Halen varolan bir dosya oluşturulamaz: 'train//apples//apples69.jpeg' -> 'train//apples//apples127.jpeg'\n",
      "[WinError 183] Halen varolan bir dosya oluşturulamaz: 'train//apples//apples7.jpeg' -> 'train//apples//apples128.jpeg'\n",
      "[WinError 183] Halen varolan bir dosya oluşturulamaz: 'train//apples//apples70.jpeg' -> 'train//apples//apples129.jpeg'\n",
      "[WinError 183] Halen varolan bir dosya oluşturulamaz: 'train//apples//apples71.jpeg' -> 'train//apples//apples130.jpeg'\n",
      "[WinError 183] Halen varolan bir dosya oluşturulamaz: 'train//apples//apples72.jpeg' -> 'train//apples//apples131.jpeg'\n",
      "[WinError 183] Halen varolan bir dosya oluşturulamaz: 'train//apples//apples73.jpeg' -> 'train//apples//apples132.jpeg'\n",
      "[WinError 183] Halen varolan bir dosya oluşturulamaz: 'train//apples//apples74.jpeg' -> 'train//apples//apples133.jpeg'\n",
      "[WinError 183] Halen varolan bir dosya oluşturulamaz: 'train//apples//apples75.jpeg' -> 'train//apples//apples134.jpeg'\n",
      "[WinError 183] Halen varolan bir dosya oluşturulamaz: 'train//apples//apples76.jpeg' -> 'train//apples//apples135.jpeg'\n",
      "[WinError 183] Halen varolan bir dosya oluşturulamaz: 'train//apples//apples77.jpeg' -> 'train//apples//apples136.jpeg'\n",
      "[WinError 183] Halen varolan bir dosya oluşturulamaz: 'train//apples//apples78.jpeg' -> 'train//apples//apples137.jpeg'\n",
      "[WinError 183] Halen varolan bir dosya oluşturulamaz: 'train//apples//apples79.jpeg' -> 'train//apples//apples138.jpeg'\n",
      "[WinError 183] Halen varolan bir dosya oluşturulamaz: 'train//apples//apples8.jpeg' -> 'train//apples//apples139.jpeg'\n",
      "[WinError 183] Halen varolan bir dosya oluşturulamaz: 'train//apples//apples80.jpeg' -> 'train//apples//apples140.jpeg'\n",
      "[WinError 183] Halen varolan bir dosya oluşturulamaz: 'train//apples//apples81.jpeg' -> 'train//apples//apples141.jpeg'\n",
      "[WinError 183] Halen varolan bir dosya oluşturulamaz: 'train//apples//apples82.jpeg' -> 'train//apples//apples142.jpeg'\n",
      "[WinError 183] Halen varolan bir dosya oluşturulamaz: 'train//apples//apples83.jpeg' -> 'train//apples//apples143.jpeg'\n",
      "[WinError 183] Halen varolan bir dosya oluşturulamaz: 'train//apples//apples84.jpeg' -> 'train//apples//apples144.jpeg'\n",
      "[WinError 183] Halen varolan bir dosya oluşturulamaz: 'train//apples//apples85.jpeg' -> 'train//apples//apples145.jpeg'\n",
      "[WinError 183] Halen varolan bir dosya oluşturulamaz: 'train//apples//apples86.jpeg' -> 'train//apples//apples146.jpeg'\n",
      "[WinError 183] Halen varolan bir dosya oluşturulamaz: 'train//apples//apples87.jpeg' -> 'train//apples//apples147.jpeg'\n",
      "[WinError 183] Halen varolan bir dosya oluşturulamaz: 'train//apples//apples88.jpeg' -> 'train//apples//apples148.jpeg'\n",
      "[WinError 183] Halen varolan bir dosya oluşturulamaz: 'train//apples//apples89.jpeg' -> 'train//apples//apples149.jpeg'\n",
      "[WinError 183] Halen varolan bir dosya oluşturulamaz: 'train//apples//apples9.jpeg' -> 'train//apples//apples150.jpeg'\n",
      "[WinError 183] Halen varolan bir dosya oluşturulamaz: 'train//apples//apples90.jpeg' -> 'train//apples//apples151.jpeg'\n",
      "[WinError 183] Halen varolan bir dosya oluşturulamaz: 'train//apples//apples91.jpeg' -> 'train//apples//apples152.jpeg'\n",
      "[WinError 183] Halen varolan bir dosya oluşturulamaz: 'train//apples//apples92.jpeg' -> 'train//apples//apples153.jpeg'\n",
      "[WinError 183] Halen varolan bir dosya oluşturulamaz: 'train//apples//apples93.jpeg' -> 'train//apples//apples154.jpeg'\n",
      "[WinError 183] Halen varolan bir dosya oluşturulamaz: 'train//apples//apples94.jpeg' -> 'train//apples//apples155.jpeg'\n",
      "[WinError 183] Halen varolan bir dosya oluşturulamaz: 'train//apples//apples95.jpeg' -> 'train//apples//apples156.jpeg'\n",
      "[WinError 183] Halen varolan bir dosya oluşturulamaz: 'train//apples//apples96.jpeg' -> 'train//apples//apples157.jpeg'\n",
      "[WinError 183] Halen varolan bir dosya oluşturulamaz: 'train//apples//apples97.jpeg' -> 'train//apples//apples158.jpeg'\n",
      "[WinError 183] Halen varolan bir dosya oluşturulamaz: 'train//apples//apples98.jpeg' -> 'train//apples//apples159.jpeg'\n",
      "[WinError 183] Halen varolan bir dosya oluşturulamaz: 'train//apples//apples99.jpeg' -> 'train//apples//apples160.jpeg'\n",
      "[WinError 183] Halen varolan bir dosya oluşturulamaz: 'test//tomatoes//tomatoes10.jpeg' -> 'test//tomatoes//tomatoes2.jpeg'\n",
      "[WinError 183] Halen varolan bir dosya oluşturulamaz: 'test//tomatoes//tomatoes11.jpeg' -> 'test//tomatoes//tomatoes3.jpeg'\n",
      "[WinError 183] Halen varolan bir dosya oluşturulamaz: 'test//tomatoes//tomatoes12.jpeg' -> 'test//tomatoes//tomatoes4.jpeg'\n",
      "[WinError 183] Halen varolan bir dosya oluşturulamaz: 'test//tomatoes//tomatoes13.jpeg' -> 'test//tomatoes//tomatoes5.jpeg'\n",
      "[WinError 183] Halen varolan bir dosya oluşturulamaz: 'test//tomatoes//tomatoes14.jpeg' -> 'test//tomatoes//tomatoes6.jpeg'\n",
      "[WinError 183] Halen varolan bir dosya oluşturulamaz: 'test//tomatoes//tomatoes15.jpeg' -> 'test//tomatoes//tomatoes7.jpeg'\n",
      "[WinError 183] Halen varolan bir dosya oluşturulamaz: 'test//tomatoes//tomatoes16.jpeg' -> 'test//tomatoes//tomatoes8.jpeg'\n",
      "[WinError 183] Halen varolan bir dosya oluşturulamaz: 'test//tomatoes//tomatoes17.jpeg' -> 'test//tomatoes//tomatoes9.jpeg'\n",
      "[WinError 183] Halen varolan bir dosya oluşturulamaz: 'test//tomatoes//tomatoes18.jpeg' -> 'test//tomatoes//tomatoes10.jpeg'\n",
      "[WinError 183] Halen varolan bir dosya oluşturulamaz: 'test//tomatoes//tomatoes19.jpeg' -> 'test//tomatoes//tomatoes11.jpeg'\n",
      "[WinError 183] Halen varolan bir dosya oluşturulamaz: 'test//tomatoes//tomatoes2.jpeg' -> 'test//tomatoes//tomatoes12.jpeg'\n",
      "[WinError 183] Halen varolan bir dosya oluşturulamaz: 'test//tomatoes//tomatoes20.jpeg' -> 'test//tomatoes//tomatoes13.jpeg'\n",
      "[WinError 183] Halen varolan bir dosya oluşturulamaz: 'test//tomatoes//tomatoes21.jpeg' -> 'test//tomatoes//tomatoes14.jpeg'\n",
      "[WinError 183] Halen varolan bir dosya oluşturulamaz: 'test//tomatoes//tomatoes22.jpeg' -> 'test//tomatoes//tomatoes15.jpeg'\n",
      "[WinError 183] Halen varolan bir dosya oluşturulamaz: 'test//tomatoes//tomatoes23.jpeg' -> 'test//tomatoes//tomatoes16.jpeg'\n",
      "[WinError 183] Halen varolan bir dosya oluşturulamaz: 'test//tomatoes//tomatoes24.jpeg' -> 'test//tomatoes//tomatoes17.jpeg'\n",
      "[WinError 183] Halen varolan bir dosya oluşturulamaz: 'test//tomatoes//tomatoes25.jpeg' -> 'test//tomatoes//tomatoes18.jpeg'\n",
      "[WinError 183] Halen varolan bir dosya oluşturulamaz: 'test//tomatoes//tomatoes26.jpeg' -> 'test//tomatoes//tomatoes19.jpeg'\n",
      "[WinError 183] Halen varolan bir dosya oluşturulamaz: 'test//tomatoes//tomatoes27.jpeg' -> 'test//tomatoes//tomatoes20.jpeg'\n",
      "[WinError 183] Halen varolan bir dosya oluşturulamaz: 'test//tomatoes//tomatoes28.jpeg' -> 'test//tomatoes//tomatoes21.jpeg'\n",
      "[WinError 183] Halen varolan bir dosya oluşturulamaz: 'test//tomatoes//tomatoes29.jpeg' -> 'test//tomatoes//tomatoes22.jpeg'\n",
      "[WinError 183] Halen varolan bir dosya oluşturulamaz: 'test//tomatoes//tomatoes3.jpeg' -> 'test//tomatoes//tomatoes23.jpeg'\n",
      "[WinError 183] Halen varolan bir dosya oluşturulamaz: 'test//tomatoes//tomatoes30.jpeg' -> 'test//tomatoes//tomatoes24.jpeg'\n",
      "[WinError 183] Halen varolan bir dosya oluşturulamaz: 'test//tomatoes//tomatoes31.jpeg' -> 'test//tomatoes//tomatoes25.jpeg'\n",
      "[WinError 183] Halen varolan bir dosya oluşturulamaz: 'test//tomatoes//tomatoes32.jpeg' -> 'test//tomatoes//tomatoes26.jpeg'\n",
      "[WinError 183] Halen varolan bir dosya oluşturulamaz: 'test//tomatoes//tomatoes33.jpeg' -> 'test//tomatoes//tomatoes27.jpeg'\n",
      "[WinError 183] Halen varolan bir dosya oluşturulamaz: 'test//tomatoes//tomatoes34.jpeg' -> 'test//tomatoes//tomatoes28.jpeg'\n",
      "[WinError 183] Halen varolan bir dosya oluşturulamaz: 'test//tomatoes//tomatoes35.jpeg' -> 'test//tomatoes//tomatoes29.jpeg'\n",
      "[WinError 183] Halen varolan bir dosya oluşturulamaz: 'test//tomatoes//tomatoes36.jpeg' -> 'test//tomatoes//tomatoes30.jpeg'\n",
      "[WinError 183] Halen varolan bir dosya oluşturulamaz: 'test//tomatoes//tomatoes37.jpeg' -> 'test//tomatoes//tomatoes31.jpeg'\n",
      "[WinError 183] Halen varolan bir dosya oluşturulamaz: 'test//tomatoes//tomatoes38.jpeg' -> 'test//tomatoes//tomatoes32.jpeg'\n",
      "[WinError 183] Halen varolan bir dosya oluşturulamaz: 'test//tomatoes//tomatoes39.jpeg' -> 'test//tomatoes//tomatoes33.jpeg'\n",
      "[WinError 183] Halen varolan bir dosya oluşturulamaz: 'test//tomatoes//tomatoes4.jpeg' -> 'test//tomatoes//tomatoes34.jpeg'\n",
      "[WinError 183] Halen varolan bir dosya oluşturulamaz: 'test//tomatoes//tomatoes40.jpeg' -> 'test//tomatoes//tomatoes35.jpeg'\n",
      "[WinError 183] Halen varolan bir dosya oluşturulamaz: 'test//tomatoes//tomatoes41.jpeg' -> 'test//tomatoes//tomatoes36.jpeg'\n",
      "[WinError 183] Halen varolan bir dosya oluşturulamaz: 'test//tomatoes//tomatoes42.jpeg' -> 'test//tomatoes//tomatoes37.jpeg'\n",
      "[WinError 183] Halen varolan bir dosya oluşturulamaz: 'test//tomatoes//tomatoes43.jpeg' -> 'test//tomatoes//tomatoes38.jpeg'\n",
      "[WinError 183] Halen varolan bir dosya oluşturulamaz: 'test//tomatoes//tomatoes5.jpeg' -> 'test//tomatoes//tomatoes39.jpeg'\n",
      "[WinError 183] Halen varolan bir dosya oluşturulamaz: 'test//tomatoes//tomatoes6.jpeg' -> 'test//tomatoes//tomatoes40.jpeg'\n",
      "[WinError 183] Halen varolan bir dosya oluşturulamaz: 'test//tomatoes//tomatoes7.jpeg' -> 'test//tomatoes//tomatoes41.jpeg'\n",
      "[WinError 183] Halen varolan bir dosya oluşturulamaz: 'test//tomatoes//tomatoes8.jpeg' -> 'test//tomatoes//tomatoes42.jpeg'\n",
      "[WinError 183] Halen varolan bir dosya oluşturulamaz: 'test//tomatoes//tomatoes9.jpeg' -> 'test//tomatoes//tomatoes43.jpeg'\n",
      "[WinError 183] Halen varolan bir dosya oluşturulamaz: 'train//tomatoes//tomatoes10.jpeg' -> 'train//tomatoes//tomatoes2.jpeg'\n",
      "[WinError 183] Halen varolan bir dosya oluşturulamaz: 'train//tomatoes//tomatoes100.jpeg' -> 'train//tomatoes//tomatoes3.jpeg'\n",
      "[WinError 183] Halen varolan bir dosya oluşturulamaz: 'train//tomatoes//tomatoes101.jpeg' -> 'train//tomatoes//tomatoes4.jpeg'\n",
      "[WinError 183] Halen varolan bir dosya oluşturulamaz: 'train//tomatoes//tomatoes102.jpeg' -> 'train//tomatoes//tomatoes5.jpeg'\n",
      "[WinError 183] Halen varolan bir dosya oluşturulamaz: 'train//tomatoes//tomatoes103.jpeg' -> 'train//tomatoes//tomatoes6.jpeg'\n",
      "[WinError 183] Halen varolan bir dosya oluşturulamaz: 'train//tomatoes//tomatoes104.jpeg' -> 'train//tomatoes//tomatoes7.jpeg'\n",
      "[WinError 183] Halen varolan bir dosya oluşturulamaz: 'train//tomatoes//tomatoes105.jpeg' -> 'train//tomatoes//tomatoes8.jpeg'\n",
      "[WinError 183] Halen varolan bir dosya oluşturulamaz: 'train//tomatoes//tomatoes106.jpeg' -> 'train//tomatoes//tomatoes9.jpeg'\n",
      "[WinError 183] Halen varolan bir dosya oluşturulamaz: 'train//tomatoes//tomatoes107.jpeg' -> 'train//tomatoes//tomatoes10.jpeg'\n",
      "[WinError 183] Halen varolan bir dosya oluşturulamaz: 'train//tomatoes//tomatoes108.jpeg' -> 'train//tomatoes//tomatoes11.jpeg'\n",
      "[WinError 183] Halen varolan bir dosya oluşturulamaz: 'train//tomatoes//tomatoes109.jpeg' -> 'train//tomatoes//tomatoes12.jpeg'\n",
      "[WinError 183] Halen varolan bir dosya oluşturulamaz: 'train//tomatoes//tomatoes11.jpeg' -> 'train//tomatoes//tomatoes13.jpeg'\n",
      "[WinError 183] Halen varolan bir dosya oluşturulamaz: 'train//tomatoes//tomatoes110.jpeg' -> 'train//tomatoes//tomatoes14.jpeg'\n",
      "[WinError 183] Halen varolan bir dosya oluşturulamaz: 'train//tomatoes//tomatoes111.jpeg' -> 'train//tomatoes//tomatoes15.jpeg'\n",
      "[WinError 183] Halen varolan bir dosya oluşturulamaz: 'train//tomatoes//tomatoes112.jpeg' -> 'train//tomatoes//tomatoes16.jpeg'\n",
      "[WinError 183] Halen varolan bir dosya oluşturulamaz: 'train//tomatoes//tomatoes113.jpeg' -> 'train//tomatoes//tomatoes17.jpeg'\n",
      "[WinError 183] Halen varolan bir dosya oluşturulamaz: 'train//tomatoes//tomatoes114.jpeg' -> 'train//tomatoes//tomatoes18.jpeg'\n",
      "[WinError 183] Halen varolan bir dosya oluşturulamaz: 'train//tomatoes//tomatoes115.jpeg' -> 'train//tomatoes//tomatoes19.jpeg'\n",
      "[WinError 183] Halen varolan bir dosya oluşturulamaz: 'train//tomatoes//tomatoes116.jpeg' -> 'train//tomatoes//tomatoes20.jpeg'\n",
      "[WinError 183] Halen varolan bir dosya oluşturulamaz: 'train//tomatoes//tomatoes117.jpeg' -> 'train//tomatoes//tomatoes21.jpeg'\n",
      "[WinError 183] Halen varolan bir dosya oluşturulamaz: 'train//tomatoes//tomatoes118.jpeg' -> 'train//tomatoes//tomatoes22.jpeg'\n",
      "[WinError 183] Halen varolan bir dosya oluşturulamaz: 'train//tomatoes//tomatoes119.jpeg' -> 'train//tomatoes//tomatoes23.jpeg'\n",
      "[WinError 183] Halen varolan bir dosya oluşturulamaz: 'train//tomatoes//tomatoes12.jpeg' -> 'train//tomatoes//tomatoes24.jpeg'\n",
      "[WinError 183] Halen varolan bir dosya oluşturulamaz: 'train//tomatoes//tomatoes120.jpeg' -> 'train//tomatoes//tomatoes25.jpeg'\n",
      "[WinError 183] Halen varolan bir dosya oluşturulamaz: 'train//tomatoes//tomatoes121.jpeg' -> 'train//tomatoes//tomatoes26.jpeg'\n",
      "[WinError 183] Halen varolan bir dosya oluşturulamaz: 'train//tomatoes//tomatoes122.jpeg' -> 'train//tomatoes//tomatoes27.jpeg'\n",
      "[WinError 183] Halen varolan bir dosya oluşturulamaz: 'train//tomatoes//tomatoes123.jpeg' -> 'train//tomatoes//tomatoes28.jpeg'\n",
      "[WinError 183] Halen varolan bir dosya oluşturulamaz: 'train//tomatoes//tomatoes124.jpeg' -> 'train//tomatoes//tomatoes29.jpeg'\n",
      "[WinError 183] Halen varolan bir dosya oluşturulamaz: 'train//tomatoes//tomatoes125.jpeg' -> 'train//tomatoes//tomatoes30.jpeg'\n",
      "[WinError 183] Halen varolan bir dosya oluşturulamaz: 'train//tomatoes//tomatoes126.jpeg' -> 'train//tomatoes//tomatoes31.jpeg'\n",
      "[WinError 183] Halen varolan bir dosya oluşturulamaz: 'train//tomatoes//tomatoes127.jpeg' -> 'train//tomatoes//tomatoes32.jpeg'\n",
      "[WinError 183] Halen varolan bir dosya oluşturulamaz: 'train//tomatoes//tomatoes128.jpeg' -> 'train//tomatoes//tomatoes33.jpeg'\n",
      "[WinError 183] Halen varolan bir dosya oluşturulamaz: 'train//tomatoes//tomatoes129.jpeg' -> 'train//tomatoes//tomatoes34.jpeg'\n",
      "[WinError 183] Halen varolan bir dosya oluşturulamaz: 'train//tomatoes//tomatoes13.jpeg' -> 'train//tomatoes//tomatoes35.jpeg'\n",
      "[WinError 183] Halen varolan bir dosya oluşturulamaz: 'train//tomatoes//tomatoes130.jpeg' -> 'train//tomatoes//tomatoes36.jpeg'\n",
      "[WinError 183] Halen varolan bir dosya oluşturulamaz: 'train//tomatoes//tomatoes14.jpeg' -> 'train//tomatoes//tomatoes37.jpeg'\n",
      "[WinError 183] Halen varolan bir dosya oluşturulamaz: 'train//tomatoes//tomatoes15.jpeg' -> 'train//tomatoes//tomatoes38.jpeg'\n",
      "[WinError 183] Halen varolan bir dosya oluşturulamaz: 'train//tomatoes//tomatoes16.jpeg' -> 'train//tomatoes//tomatoes39.jpeg'\n",
      "[WinError 183] Halen varolan bir dosya oluşturulamaz: 'train//tomatoes//tomatoes17.jpeg' -> 'train//tomatoes//tomatoes40.jpeg'\n",
      "[WinError 183] Halen varolan bir dosya oluşturulamaz: 'train//tomatoes//tomatoes18.jpeg' -> 'train//tomatoes//tomatoes41.jpeg'\n",
      "[WinError 183] Halen varolan bir dosya oluşturulamaz: 'train//tomatoes//tomatoes19.jpeg' -> 'train//tomatoes//tomatoes42.jpeg'\n",
      "[WinError 183] Halen varolan bir dosya oluşturulamaz: 'train//tomatoes//tomatoes2.jpeg' -> 'train//tomatoes//tomatoes43.jpeg'\n",
      "[WinError 183] Halen varolan bir dosya oluşturulamaz: 'train//tomatoes//tomatoes20.jpeg' -> 'train//tomatoes//tomatoes44.jpeg'\n",
      "[WinError 183] Halen varolan bir dosya oluşturulamaz: 'train//tomatoes//tomatoes21.jpeg' -> 'train//tomatoes//tomatoes45.jpeg'\n",
      "[WinError 183] Halen varolan bir dosya oluşturulamaz: 'train//tomatoes//tomatoes22.jpeg' -> 'train//tomatoes//tomatoes46.jpeg'\n",
      "[WinError 183] Halen varolan bir dosya oluşturulamaz: 'train//tomatoes//tomatoes23.jpeg' -> 'train//tomatoes//tomatoes47.jpeg'\n",
      "[WinError 183] Halen varolan bir dosya oluşturulamaz: 'train//tomatoes//tomatoes24.jpeg' -> 'train//tomatoes//tomatoes48.jpeg'\n",
      "[WinError 183] Halen varolan bir dosya oluşturulamaz: 'train//tomatoes//tomatoes25.jpeg' -> 'train//tomatoes//tomatoes49.jpeg'\n",
      "[WinError 183] Halen varolan bir dosya oluşturulamaz: 'train//tomatoes//tomatoes26.jpeg' -> 'train//tomatoes//tomatoes50.jpeg'\n",
      "[WinError 183] Halen varolan bir dosya oluşturulamaz: 'train//tomatoes//tomatoes27.jpeg' -> 'train//tomatoes//tomatoes51.jpeg'\n",
      "[WinError 183] Halen varolan bir dosya oluşturulamaz: 'train//tomatoes//tomatoes28.jpeg' -> 'train//tomatoes//tomatoes52.jpeg'\n",
      "[WinError 183] Halen varolan bir dosya oluşturulamaz: 'train//tomatoes//tomatoes29.jpeg' -> 'train//tomatoes//tomatoes53.jpeg'\n",
      "[WinError 183] Halen varolan bir dosya oluşturulamaz: 'train//tomatoes//tomatoes3.jpeg' -> 'train//tomatoes//tomatoes54.jpeg'\n",
      "[WinError 183] Halen varolan bir dosya oluşturulamaz: 'train//tomatoes//tomatoes30.jpeg' -> 'train//tomatoes//tomatoes55.jpeg'\n",
      "[WinError 183] Halen varolan bir dosya oluşturulamaz: 'train//tomatoes//tomatoes31.jpeg' -> 'train//tomatoes//tomatoes56.jpeg'\n",
      "[WinError 183] Halen varolan bir dosya oluşturulamaz: 'train//tomatoes//tomatoes32.jpeg' -> 'train//tomatoes//tomatoes57.jpeg'\n",
      "[WinError 183] Halen varolan bir dosya oluşturulamaz: 'train//tomatoes//tomatoes33.jpeg' -> 'train//tomatoes//tomatoes58.jpeg'\n",
      "[WinError 183] Halen varolan bir dosya oluşturulamaz: 'train//tomatoes//tomatoes34.jpeg' -> 'train//tomatoes//tomatoes59.jpeg'\n",
      "[WinError 183] Halen varolan bir dosya oluşturulamaz: 'train//tomatoes//tomatoes35.jpeg' -> 'train//tomatoes//tomatoes60.jpeg'\n",
      "[WinError 183] Halen varolan bir dosya oluşturulamaz: 'train//tomatoes//tomatoes36.jpeg' -> 'train//tomatoes//tomatoes61.jpeg'\n",
      "[WinError 183] Halen varolan bir dosya oluşturulamaz: 'train//tomatoes//tomatoes37.jpeg' -> 'train//tomatoes//tomatoes62.jpeg'\n",
      "[WinError 183] Halen varolan bir dosya oluşturulamaz: 'train//tomatoes//tomatoes38.jpeg' -> 'train//tomatoes//tomatoes63.jpeg'\n",
      "[WinError 183] Halen varolan bir dosya oluşturulamaz: 'train//tomatoes//tomatoes39.jpeg' -> 'train//tomatoes//tomatoes64.jpeg'\n",
      "[WinError 183] Halen varolan bir dosya oluşturulamaz: 'train//tomatoes//tomatoes4.jpeg' -> 'train//tomatoes//tomatoes65.jpeg'\n",
      "[WinError 183] Halen varolan bir dosya oluşturulamaz: 'train//tomatoes//tomatoes40.jpeg' -> 'train//tomatoes//tomatoes66.jpeg'\n",
      "[WinError 183] Halen varolan bir dosya oluşturulamaz: 'train//tomatoes//tomatoes41.jpeg' -> 'train//tomatoes//tomatoes67.jpeg'\n",
      "[WinError 183] Halen varolan bir dosya oluşturulamaz: 'train//tomatoes//tomatoes42.jpeg' -> 'train//tomatoes//tomatoes68.jpeg'\n",
      "[WinError 183] Halen varolan bir dosya oluşturulamaz: 'train//tomatoes//tomatoes43.jpeg' -> 'train//tomatoes//tomatoes69.jpeg'\n",
      "[WinError 183] Halen varolan bir dosya oluşturulamaz: 'train//tomatoes//tomatoes44.jpeg' -> 'train//tomatoes//tomatoes70.jpeg'\n",
      "[WinError 183] Halen varolan bir dosya oluşturulamaz: 'train//tomatoes//tomatoes45.jpeg' -> 'train//tomatoes//tomatoes71.jpeg'\n",
      "[WinError 183] Halen varolan bir dosya oluşturulamaz: 'train//tomatoes//tomatoes46.jpeg' -> 'train//tomatoes//tomatoes72.jpeg'\n",
      "[WinError 183] Halen varolan bir dosya oluşturulamaz: 'train//tomatoes//tomatoes47.jpeg' -> 'train//tomatoes//tomatoes73.jpeg'\n",
      "[WinError 183] Halen varolan bir dosya oluşturulamaz: 'train//tomatoes//tomatoes48.jpeg' -> 'train//tomatoes//tomatoes74.jpeg'\n",
      "[WinError 183] Halen varolan bir dosya oluşturulamaz: 'train//tomatoes//tomatoes49.jpeg' -> 'train//tomatoes//tomatoes75.jpeg'\n",
      "[WinError 183] Halen varolan bir dosya oluşturulamaz: 'train//tomatoes//tomatoes5.jpeg' -> 'train//tomatoes//tomatoes76.jpeg'\n",
      "[WinError 183] Halen varolan bir dosya oluşturulamaz: 'train//tomatoes//tomatoes50.jpeg' -> 'train//tomatoes//tomatoes77.jpeg'\n",
      "[WinError 183] Halen varolan bir dosya oluşturulamaz: 'train//tomatoes//tomatoes51.jpeg' -> 'train//tomatoes//tomatoes78.jpeg'\n",
      "[WinError 183] Halen varolan bir dosya oluşturulamaz: 'train//tomatoes//tomatoes52.jpeg' -> 'train//tomatoes//tomatoes79.jpeg'\n",
      "[WinError 183] Halen varolan bir dosya oluşturulamaz: 'train//tomatoes//tomatoes53.jpeg' -> 'train//tomatoes//tomatoes80.jpeg'\n",
      "[WinError 183] Halen varolan bir dosya oluşturulamaz: 'train//tomatoes//tomatoes54.jpeg' -> 'train//tomatoes//tomatoes81.jpeg'\n",
      "[WinError 183] Halen varolan bir dosya oluşturulamaz: 'train//tomatoes//tomatoes55.jpeg' -> 'train//tomatoes//tomatoes82.jpeg'\n",
      "[WinError 183] Halen varolan bir dosya oluşturulamaz: 'train//tomatoes//tomatoes56.jpeg' -> 'train//tomatoes//tomatoes83.jpeg'\n",
      "[WinError 183] Halen varolan bir dosya oluşturulamaz: 'train//tomatoes//tomatoes57.jpeg' -> 'train//tomatoes//tomatoes84.jpeg'\n",
      "[WinError 183] Halen varolan bir dosya oluşturulamaz: 'train//tomatoes//tomatoes58.jpeg' -> 'train//tomatoes//tomatoes85.jpeg'\n",
      "[WinError 183] Halen varolan bir dosya oluşturulamaz: 'train//tomatoes//tomatoes59.jpeg' -> 'train//tomatoes//tomatoes86.jpeg'\n",
      "[WinError 183] Halen varolan bir dosya oluşturulamaz: 'train//tomatoes//tomatoes6.jpeg' -> 'train//tomatoes//tomatoes87.jpeg'\n",
      "[WinError 183] Halen varolan bir dosya oluşturulamaz: 'train//tomatoes//tomatoes60.jpeg' -> 'train//tomatoes//tomatoes88.jpeg'\n",
      "[WinError 183] Halen varolan bir dosya oluşturulamaz: 'train//tomatoes//tomatoes61.jpeg' -> 'train//tomatoes//tomatoes89.jpeg'\n",
      "[WinError 183] Halen varolan bir dosya oluşturulamaz: 'train//tomatoes//tomatoes62.jpeg' -> 'train//tomatoes//tomatoes90.jpeg'\n",
      "[WinError 183] Halen varolan bir dosya oluşturulamaz: 'train//tomatoes//tomatoes63.jpeg' -> 'train//tomatoes//tomatoes91.jpeg'\n",
      "[WinError 183] Halen varolan bir dosya oluşturulamaz: 'train//tomatoes//tomatoes64.jpeg' -> 'train//tomatoes//tomatoes92.jpeg'\n",
      "[WinError 183] Halen varolan bir dosya oluşturulamaz: 'train//tomatoes//tomatoes65.jpeg' -> 'train//tomatoes//tomatoes93.jpeg'\n",
      "[WinError 183] Halen varolan bir dosya oluşturulamaz: 'train//tomatoes//tomatoes66.jpeg' -> 'train//tomatoes//tomatoes94.jpeg'\n",
      "[WinError 183] Halen varolan bir dosya oluşturulamaz: 'train//tomatoes//tomatoes67.jpeg' -> 'train//tomatoes//tomatoes95.jpeg'\n",
      "[WinError 183] Halen varolan bir dosya oluşturulamaz: 'train//tomatoes//tomatoes68.jpeg' -> 'train//tomatoes//tomatoes96.jpeg'\n",
      "[WinError 183] Halen varolan bir dosya oluşturulamaz: 'train//tomatoes//tomatoes69.jpeg' -> 'train//tomatoes//tomatoes97.jpeg'\n",
      "[WinError 183] Halen varolan bir dosya oluşturulamaz: 'train//tomatoes//tomatoes7.jpeg' -> 'train//tomatoes//tomatoes98.jpeg'\n",
      "[WinError 183] Halen varolan bir dosya oluşturulamaz: 'train//tomatoes//tomatoes70.jpeg' -> 'train//tomatoes//tomatoes99.jpeg'\n",
      "[WinError 183] Halen varolan bir dosya oluşturulamaz: 'train//tomatoes//tomatoes71.jpeg' -> 'train//tomatoes//tomatoes100.jpeg'\n",
      "[WinError 183] Halen varolan bir dosya oluşturulamaz: 'train//tomatoes//tomatoes72.jpeg' -> 'train//tomatoes//tomatoes101.jpeg'\n",
      "[WinError 183] Halen varolan bir dosya oluşturulamaz: 'train//tomatoes//tomatoes73.jpeg' -> 'train//tomatoes//tomatoes102.jpeg'\n",
      "[WinError 183] Halen varolan bir dosya oluşturulamaz: 'train//tomatoes//tomatoes74.jpeg' -> 'train//tomatoes//tomatoes103.jpeg'\n",
      "[WinError 183] Halen varolan bir dosya oluşturulamaz: 'train//tomatoes//tomatoes75.jpeg' -> 'train//tomatoes//tomatoes104.jpeg'\n",
      "[WinError 183] Halen varolan bir dosya oluşturulamaz: 'train//tomatoes//tomatoes76.jpeg' -> 'train//tomatoes//tomatoes105.jpeg'\n",
      "[WinError 183] Halen varolan bir dosya oluşturulamaz: 'train//tomatoes//tomatoes77.jpeg' -> 'train//tomatoes//tomatoes106.jpeg'\n",
      "[WinError 183] Halen varolan bir dosya oluşturulamaz: 'train//tomatoes//tomatoes78.jpeg' -> 'train//tomatoes//tomatoes107.jpeg'\n",
      "[WinError 183] Halen varolan bir dosya oluşturulamaz: 'train//tomatoes//tomatoes79.jpeg' -> 'train//tomatoes//tomatoes108.jpeg'\n",
      "[WinError 183] Halen varolan bir dosya oluşturulamaz: 'train//tomatoes//tomatoes8.jpeg' -> 'train//tomatoes//tomatoes109.jpeg'\n",
      "[WinError 183] Halen varolan bir dosya oluşturulamaz: 'train//tomatoes//tomatoes80.jpeg' -> 'train//tomatoes//tomatoes110.jpeg'\n",
      "[WinError 183] Halen varolan bir dosya oluşturulamaz: 'train//tomatoes//tomatoes81.jpeg' -> 'train//tomatoes//tomatoes111.jpeg'\n",
      "[WinError 183] Halen varolan bir dosya oluşturulamaz: 'train//tomatoes//tomatoes82.jpeg' -> 'train//tomatoes//tomatoes112.jpeg'\n",
      "[WinError 183] Halen varolan bir dosya oluşturulamaz: 'train//tomatoes//tomatoes83.jpeg' -> 'train//tomatoes//tomatoes113.jpeg'\n",
      "[WinError 183] Halen varolan bir dosya oluşturulamaz: 'train//tomatoes//tomatoes84.jpeg' -> 'train//tomatoes//tomatoes114.jpeg'\n",
      "[WinError 183] Halen varolan bir dosya oluşturulamaz: 'train//tomatoes//tomatoes85.jpeg' -> 'train//tomatoes//tomatoes115.jpeg'\n",
      "[WinError 183] Halen varolan bir dosya oluşturulamaz: 'train//tomatoes//tomatoes86.jpeg' -> 'train//tomatoes//tomatoes116.jpeg'\n",
      "[WinError 183] Halen varolan bir dosya oluşturulamaz: 'train//tomatoes//tomatoes87.jpeg' -> 'train//tomatoes//tomatoes117.jpeg'\n",
      "[WinError 183] Halen varolan bir dosya oluşturulamaz: 'train//tomatoes//tomatoes88.jpeg' -> 'train//tomatoes//tomatoes118.jpeg'\n",
      "[WinError 183] Halen varolan bir dosya oluşturulamaz: 'train//tomatoes//tomatoes89.jpeg' -> 'train//tomatoes//tomatoes119.jpeg'\n",
      "[WinError 183] Halen varolan bir dosya oluşturulamaz: 'train//tomatoes//tomatoes9.jpeg' -> 'train//tomatoes//tomatoes120.jpeg'\n",
      "[WinError 183] Halen varolan bir dosya oluşturulamaz: 'train//tomatoes//tomatoes90.jpeg' -> 'train//tomatoes//tomatoes121.jpeg'\n",
      "[WinError 183] Halen varolan bir dosya oluşturulamaz: 'train//tomatoes//tomatoes91.jpeg' -> 'train//tomatoes//tomatoes122.jpeg'\n",
      "[WinError 183] Halen varolan bir dosya oluşturulamaz: 'train//tomatoes//tomatoes92.jpeg' -> 'train//tomatoes//tomatoes123.jpeg'\n",
      "[WinError 183] Halen varolan bir dosya oluşturulamaz: 'train//tomatoes//tomatoes93.jpeg' -> 'train//tomatoes//tomatoes124.jpeg'\n",
      "[WinError 183] Halen varolan bir dosya oluşturulamaz: 'train//tomatoes//tomatoes94.jpeg' -> 'train//tomatoes//tomatoes125.jpeg'\n",
      "[WinError 183] Halen varolan bir dosya oluşturulamaz: 'train//tomatoes//tomatoes95.jpeg' -> 'train//tomatoes//tomatoes126.jpeg'\n",
      "[WinError 183] Halen varolan bir dosya oluşturulamaz: 'train//tomatoes//tomatoes96.jpeg' -> 'train//tomatoes//tomatoes127.jpeg'\n",
      "[WinError 183] Halen varolan bir dosya oluşturulamaz: 'train//tomatoes//tomatoes97.jpeg' -> 'train//tomatoes//tomatoes128.jpeg'\n",
      "[WinError 183] Halen varolan bir dosya oluşturulamaz: 'train//tomatoes//tomatoes98.jpeg' -> 'train//tomatoes//tomatoes129.jpeg'\n",
      "[WinError 183] Halen varolan bir dosya oluşturulamaz: 'train//tomatoes//tomatoes99.jpeg' -> 'train//tomatoes//tomatoes130.jpeg'\n"
     ]
    }
   ],
   "source": [
    "def renamed_image(path, line):\n",
    "    i = 1\n",
    "    for filename in os.listdir(path):\n",
    "        try:\n",
    "        \n",
    "            f, extension = os.path.splitext(filename)\n",
    "            name = path + filename\n",
    "            new_name = path + line + str(i) + extension\n",
    "            os.rename(name, new_name)\n",
    "            i = i + 1\n",
    "        except Exception as e:\n",
    "            i = i + 1\n",
    "            print(e)\n",
    "            continue\n",
    "            \n",
    "apples = \"apples\"\n",
    "tomatoes = \"tomatoes\"\n",
    "\n",
    "path_test_apples = \"test//apples//\"\n",
    "path_train_apples = \"train//apples//\"\n",
    "path_test_tomatoes = \"test//tomatoes//\"\n",
    "path_train_tomatoes = \"train//tomatoes//\"\n",
    "\n",
    "renamed_image(path_test_apples, apples)\n",
    "renamed_image(path_train_apples, apples)\n",
    "renamed_image(path_test_tomatoes, tomatoes)\n",
    "renamed_image(path_train_tomatoes, tomatoes)"
   ]
  },
  {
   "cell_type": "markdown",
   "id": "ef03ba57",
   "metadata": {},
   "source": [
    "#### Resize Image"
   ]
  },
  {
   "cell_type": "code",
   "execution_count": 3,
   "id": "fd691056",
   "metadata": {},
   "outputs": [],
   "source": [
    "def resized_imaged(path):\n",
    "    for filename in os.listdir(path):\n",
    "        try:\n",
    "            img = Image.open(path + filename)\n",
    "            new_img = img.resize((64, 64))\n",
    "            new_img.save(path + filename)\n",
    "        except Exception as e:\n",
    "            continue\n",
    "            \n",
    "resized_imaged(path_test_tomatoes)\n",
    "resized_imaged(path_train_tomatoes)\n",
    "resized_imaged(path_test_apples)\n",
    "resized_imaged(path_train_apples)"
   ]
  },
  {
   "cell_type": "markdown",
   "id": "e8bc591d",
   "metadata": {},
   "source": [
    "#### Eğitim sürecini yeniden boyutlandır."
   ]
  },
  {
   "cell_type": "code",
   "execution_count": 4,
   "id": "513a832b",
   "metadata": {},
   "outputs": [],
   "source": [
    "def get_image(path):\n",
    "    all_image_array = []\n",
    "    label_array = []\n",
    "    \n",
    "    for filename in os.listdir(path):\n",
    "        try:\n",
    "            if re.match(r\"apples\", filename):\n",
    "                label_array.append(1)\n",
    "            else:\n",
    "                label_array.append(0)\n",
    "\n",
    "            img = Image.open(path + filename)\n",
    "            img_array = np.asarray(img)\n",
    "\n",
    "            all_image_array.append(img_array)\n",
    "        except Exception as e:\n",
    "            continue\n",
    "    return np.array(all_image_array), np.array(label_array).reshape(1, -1)\n",
    "\n",
    "x_test_apples, y_test_apples = get_image(path_test_apples)\n",
    "x_train_apples, y_train_apples = get_image(path_train_apples)\n",
    "x_test_tomatoes, y_test_tomatoes = get_image(path_test_tomatoes)\n",
    "x_train_tomatoes, y_train_tomatoes = get_image(path_train_tomatoes)"
   ]
  },
  {
   "cell_type": "code",
   "execution_count": 5,
   "id": "a4ea2ea3",
   "metadata": {},
   "outputs": [
    {
     "name": "stdout",
     "output_type": "stream",
     "text": [
      "x_test_apples:  (54, 64, 64, 3)\n",
      "x_train_apples:  (160, 64, 64, 3)\n",
      "x_test_tomatoes:  (43, 64, 64, 3)\n",
      "x_train_tomatoes:  (130, 64, 64, 3)\n",
      "-----------------------------\n",
      "y_test_apples:  (1, 54)\n",
      "y_train_apples:  (1, 160)\n",
      "y_test_tomatoes:  (1, 43)\n",
      "y_train_tomatoes:  (1, 130)\n"
     ]
    }
   ],
   "source": [
    "print(\"x_test_apples: \", x_test_apples.shape)\n",
    "print(\"x_train_apples: \", x_train_apples.shape)\n",
    "print(\"x_test_tomatoes: \", x_test_tomatoes.shape)\n",
    "print(\"x_train_tomatoes: \", x_train_tomatoes.shape)\n",
    "\n",
    "print(\"-----------------------------\")\n",
    "\n",
    "print(\"y_test_apples: \", y_test_apples.shape)\n",
    "print(\"y_train_apples: \", y_train_apples.shape)\n",
    "print(\"y_test_tomatoes: \", y_test_tomatoes.shape)\n",
    "print(\"y_train_tomatoes: \", y_train_tomatoes.shape)"
   ]
  },
  {
   "cell_type": "code",
   "execution_count": 6,
   "id": "201ae2fc",
   "metadata": {},
   "outputs": [
    {
     "name": "stdout",
     "output_type": "stream",
     "text": [
      "x_train shape:  (290, 64, 64, 3)\n",
      "x_test shape:  (97, 64, 64, 3)\n",
      "y_train shape:  (1, 290)\n",
      "y_test shape:  (1, 97)\n"
     ]
    }
   ],
   "source": [
    "x_train = np.concatenate((x_train_apples, x_train_tomatoes), axis = 0)\n",
    "print(\"x_train shape: \", x_train.shape)\n",
    "\n",
    "x_test = np.concatenate((x_test_apples, x_test_tomatoes), axis = 0)\n",
    "print(\"x_test shape: \", x_test.shape)\n",
    "\n",
    "y_train = np.concatenate((y_train_apples.T, y_train_tomatoes.T), axis = 0)\n",
    "y_train = y_train.T\n",
    "print(\"y_train shape: \", y_train.shape)\n",
    "\n",
    "y_test = np.concatenate((y_test_apples.T, y_test_tomatoes.T), axis = 0)\n",
    "y_test = y_test.T\n",
    "print(\"y_test shape: \", y_test.shape)"
   ]
  },
  {
   "cell_type": "markdown",
   "id": "4558070a",
   "metadata": {},
   "source": [
    "#### Create classes"
   ]
  },
  {
   "cell_type": "code",
   "execution_count": 7,
   "id": "0298e16c",
   "metadata": {},
   "outputs": [],
   "source": [
    "class_list = [\"tomatoes\", \"apples\"]\n",
    "classes = np.array(class_list)"
   ]
  },
  {
   "cell_type": "code",
   "execution_count": 8,
   "id": "c1b5d441",
   "metadata": {},
   "outputs": [
    {
     "name": "stdout",
     "output_type": "stream",
     "text": [
      "y: [0]  It is a tomatoes\n"
     ]
    },
    {
     "data": {
      "image/png": "[encoded data removed]",
      "text/plain": [
       "<Figure size 432x288 with 1 Axes>"
      ]
     },
     "metadata": {
      "needs_background": "light"
     },
     "output_type": "display_data"
    }
   ],
   "source": [
    "index = 200\n",
    "plt.imshow(x_train[index])\n",
    "plt.axis(\"off\")\n",
    "print(\"y: \" + str(y_train[:, index]) + \"  It is a \" + str(np.squeeze(classes[y_train[:, index]])))\n",
    "plt.show()"
   ]
  },
  {
   "cell_type": "markdown",
   "id": "fa24b235",
   "metadata": {},
   "source": [
    "#### Flatten Image"
   ]
  },
  {
   "cell_type": "code",
   "execution_count": 9,
   "id": "1934dcdc",
   "metadata": {},
   "outputs": [
    {
     "name": "stdout",
     "output_type": "stream",
     "text": [
      "x_test shape:  (12288, 97)\n",
      "x_train shape:  (12288, 290)\n"
     ]
    }
   ],
   "source": [
    "x_train_flatten = x_train.reshape(x_train.shape[0], -1).T\n",
    "x_test_flatten = x_test.reshape(x_test.shape[0], -1).T\n",
    "\n",
    "print(\"x_test shape: \", x_test_flatten.shape)\n",
    "print(\"x_train shape: \", x_train_flatten.shape)"
   ]
  },
  {
   "cell_type": "code",
   "execution_count": 10,
   "id": "45abbfd2",
   "metadata": {},
   "outputs": [],
   "source": [
    "x_train = x_train_flatten / 255\n",
    "x_test = x_test_flatten / 255"
   ]
  },
  {
   "cell_type": "code",
   "execution_count": 11,
   "id": "9cba9b45",
   "metadata": {},
   "outputs": [
    {
     "name": "stdout",
     "output_type": "stream",
     "text": [
      "x_test shape:  (12288, 97)\n",
      "x_train shape:  (12288, 290)\n"
     ]
    }
   ],
   "source": [
    "print(\"x_test shape: \", x_test.shape)\n",
    "print(\"x_train shape: \", x_train.shape)\n"
   ]
  },
  {
   "cell_type": "markdown",
   "id": "c7e1fb92",
   "metadata": {},
   "source": [
    "## Artificial Neural Network"
   ]
  },
  {
   "cell_type": "markdown",
   "id": "99272ec2",
   "metadata": {},
   "source": [
    "### 1. Initialize paramaters"
   ]
  },
  {
   "cell_type": "code",
   "execution_count": 12,
   "id": "b9e30f7a",
   "metadata": {},
   "outputs": [],
   "source": [
    "def initialize_weight_and_bias_NN(x_train, y_train):\n",
    "    paramaters = {\n",
    "        \"w1\": np.random.randn(3, x_train.shape[0]) * 0.1,\n",
    "        \"b1\": np.zeros((3, 1)),\n",
    "        \"w2\": np.random.randn(y_train.shape[0], 3) * 0.1,\n",
    "        \"b2\": np.zeros((y_train.shape[0], 1))\n",
    "    }\n",
    "    return paramaters"
   ]
  },
  {
   "cell_type": "markdown",
   "id": "791b5703",
   "metadata": {},
   "source": [
    "### 2. Sigmoid Function"
   ]
  },
  {
   "cell_type": "code",
   "execution_count": 13,
   "id": "4feadad2",
   "metadata": {},
   "outputs": [],
   "source": [
    "def sigmoid_NN(z):\n",
    "    y_head = 1 / (1 + np.exp(-z))\n",
    "    return y_head"
   ]
  },
  {
   "cell_type": "markdown",
   "id": "d46d9648",
   "metadata": {},
   "source": [
    "### 3. Forward Propogation"
   ]
  },
  {
   "cell_type": "code",
   "execution_count": 14,
   "id": "05a9d7d4",
   "metadata": {},
   "outputs": [],
   "source": [
    "def forward_propogation_NN(x_train, paramaters):\n",
    "    Z1 = np.dot(paramaters[\"w1\"], x_train) + paramaters[\"b1\"]\n",
    "    A1 = np.tanh(Z1)\n",
    "    \n",
    "    Z2 = np.dot(paramaters[\"w2\"], A1) + paramaters[\"b2\"]\n",
    "    A2 = sigmoid_NN(Z2)\n",
    "    \n",
    "    cache = {\n",
    "        \"A1\": A1,\n",
    "        \"Z1\": Z1,\n",
    "        \"A2\": A2,\n",
    "        \"Z2\": Z2\n",
    "    }\n",
    "    \n",
    "    return A2, cache"
   ]
  },
  {
   "cell_type": "markdown",
   "id": "5ced9a75",
   "metadata": {},
   "source": [
    "### 4. Cost Function "
   ]
  },
  {
   "cell_type": "code",
   "execution_count": 15,
   "id": "2a046689",
   "metadata": {},
   "outputs": [],
   "source": [
    "def cost_function_NN(y_train, A2):\n",
    "    loss = np.multiply(np.log(A2), y_train)\n",
    "    cost = - np.sum(loss)/y_train.shape[1]\n",
    "    return cost"
   ]
  },
  {
   "cell_type": "markdown",
   "id": "a32d2a7f",
   "metadata": {},
   "source": [
    "### 5. Backward Propogation "
   ]
  },
  {
   "cell_type": "code",
   "execution_count": 16,
   "id": "fadf87f1",
   "metadata": {},
   "outputs": [],
   "source": [
    "def backward_propogation_NN(x_train, y_train, cache, paramaters):\n",
    "    dz2 = cache[\"A2\"] - y_train\n",
    "    dw2 = np.dot(dz2, cache[\"A1\"].T)/x_train.shape[1]\n",
    "    db2 = np.sum(dz2, axis = 1, keepdims = True) / x_train.shape[1]\n",
    "    \n",
    "    dz1 = np.dot(paramaters[\"w2\"].T, dz2) * (1 - np.power(cache[\"A1\"], 2))\n",
    "    dw1 = np.dot(dz1, x_train.T) / x_train.shape[1]\n",
    "    db1 = np.sum(dz1, axis = 1, keepdims = True) / x_train.shape[1]    \n",
    "    \n",
    "    grads = {\n",
    "        \"dw1\": dw1,\n",
    "        \"db1\": db1,\n",
    "        \"dw2\": dw2,\n",
    "        \"db2\": db2\n",
    "    }\n",
    "    \n",
    "    return grads"
   ]
  },
  {
   "cell_type": "markdown",
   "id": "6f8cf8f7",
   "metadata": {},
   "source": [
    "### 6. Update"
   ]
  },
  {
   "cell_type": "code",
   "execution_count": 17,
   "id": "aad1add2",
   "metadata": {},
   "outputs": [],
   "source": [
    "def update_NN(grads, paramaters, learning_rate):\n",
    "    paramaters = {\n",
    "        \"w1\": paramaters[\"w1\"] - grads[\"dw1\"] * learning_rate,\n",
    "        \"b1\": paramaters[\"b1\"] - grads[\"db1\"] * learning_rate,\n",
    "        \"w2\": paramaters[\"w2\"] - grads[\"dw2\"] * learning_rate,\n",
    "        \"b2\": paramaters[\"b2\"] - grads[\"db2\"] * learning_rate\n",
    "    }\n",
    "    return paramaters"
   ]
  },
  {
   "cell_type": "markdown",
   "id": "d7a14778",
   "metadata": {},
   "source": [
    "### 7. Predict"
   ]
  },
  {
   "cell_type": "code",
   "execution_count": 18,
   "id": "420f1ff9",
   "metadata": {},
   "outputs": [],
   "source": [
    "def predict_NN(x_test, paramaters):\n",
    "    A2, cache = forward_propogation_NN(x_test, paramaters)\n",
    "    y_predict = np.zeros((1, x_test.shape[1]))\n",
    "    \n",
    "    for i in range(A2.shape[1]):\n",
    "        if A2[0, i] >= 0.5:\n",
    "            y_predict[0, i] = 1\n",
    "        else:\n",
    "            y_predict[0, i] = 0\n",
    "    return y_predict   "
   ]
  },
  {
   "cell_type": "markdown",
   "id": "b20b1d16",
   "metadata": {},
   "source": [
    "### Arficial Neural Network"
   ]
  },
  {
   "cell_type": "code",
   "execution_count": 19,
   "id": "5fa1ceab",
   "metadata": {},
   "outputs": [],
   "source": [
    "def artificial_neural_network(x_train, y_train, x_test, y_test, learning_rate, number_iteration, print_cost):\n",
    "    paramaters = initialize_weight_and_bias_NN(x_train, y_train)\n",
    "    cost_list = []\n",
    "    index_list = []\n",
    "    \n",
    "    for i in range(number_iteration):\n",
    "        # forward propogation\n",
    "        A2, cache = forward_propogation_NN(x_train, paramaters)\n",
    "        \n",
    "        # cost function\n",
    "        cost = cost_function_NN(y_train, A2)\n",
    "        \n",
    "        # backwark propogation\n",
    "        grads = backward_propogation_NN(x_train, y_train, cache, paramaters)\n",
    "        \n",
    "        # update\n",
    "        paramaters = update_NN(grads, paramaters, learning_rate)\n",
    "        \n",
    "        if i%100 == 0:\n",
    "            cost_list.append(cost)\n",
    "            index_list.append(i)\n",
    "            if print_cost: \n",
    "                print(\"Number iteration {}:{}\".format(i, cost))\n",
    "            \n",
    "    \n",
    "    plt.plot(index_list, cost_list)\n",
    "    plt.ylabel(\"Cost\")\n",
    "    plt.xlabel(\"Number iteration\")\n",
    "    plt.show()\n",
    "    \n",
    "    y_predict_train = predict_NN(x_train, paramaters)\n",
    "    y_predict_test = predict_NN(x_test, paramaters)\n",
    "    \n",
    "    print(\"Test accuracy: {}\".format(100 - np.mean(np.abs(y_predict_test - y_test)) * 100))\n",
    "    print(\"Train accuracy: {}\".format(100 - np.mean(np.abs(y_predict_train - y_train)) * 100))\n",
    "    \n",
    "    d = {\n",
    "        \"cost\": cost,\n",
    "        \"cache\": cache,\n",
    "        \"grads\": grads,\n",
    "        \"paramaters\": paramaters\n",
    "    }\n",
    "    return d"
   ]
  },
  {
   "cell_type": "code",
   "execution_count": 20,
   "id": "a6296866",
   "metadata": {},
   "outputs": [
    {
     "name": "stdout",
     "output_type": "stream",
     "text": [
      "Number iteration 0:0.43543265002993103\n",
      "Number iteration 100:0.42443316207014137\n",
      "Number iteration 200:0.414626516840238\n",
      "Number iteration 300:0.4058741206523439\n",
      "Number iteration 400:0.39805430526633034\n",
      "Number iteration 500:0.3910602759611214\n",
      "Number iteration 600:0.3847982534296059\n",
      "Number iteration 700:0.3791858134108249\n",
      "Number iteration 800:0.37415041641233726\n",
      "Number iteration 900:0.3696281133292312\n",
      "Number iteration 1000:0.36556240992754185\n",
      "Number iteration 1100:0.36190327358452756\n",
      "Number iteration 1200:0.35860627029942854\n",
      "Number iteration 1300:0.3556318322679026\n",
      "Number iteration 1400:0.35294468432288967\n",
      "Number iteration 1500:0.3505135160968609\n",
      "Number iteration 1600:0.34831109281959055\n",
      "Number iteration 1700:0.34631513046458146\n",
      "Number iteration 1800:0.3445101978956442\n",
      "Number iteration 1900:0.342889765549476\n",
      "Number iteration 2000:0.34145323997650934\n",
      "Number iteration 2100:0.3401871617513576\n",
      "Number iteration 2200:0.3390389536728504\n",
      "Number iteration 2300:0.3379350754861217\n",
      "Number iteration 2400:0.33683388731084\n"
     ]
    },
    {
     "data": {
      "image/png": "[encoded data removed]",
      "text/plain": [
       "<Figure size 432x288 with 1 Axes>"
      ]
     },
     "metadata": {
      "needs_background": "light"
     },
     "output_type": "display_data"
    },
    {
     "name": "stdout",
     "output_type": "stream",
     "text": [
      "Test accuracy: 56.70103092783505\n",
      "Train accuracy: 56.896551724137936\n"
     ]
    }
   ],
   "source": [
    "d = artificial_neural_network(x_train, y_train, x_test, y_test, learning_rate = 0.001, number_iteration = 2500, print_cost = True)"
   ]
  },
  {
   "cell_type": "markdown",
   "id": "e6db71ef",
   "metadata": {},
   "source": [
    "### Learning Rate Plot"
   ]
  },
  {
   "cell_type": "code",
   "execution_count": 21,
   "id": "269f9de6",
   "metadata": {},
   "outputs": [
    {
     "name": "stdout",
     "output_type": "stream",
     "text": [
      "learning rate:  0.01\n"
     ]
    },
    {
     "data": {
      "image/png": "[encoded data removed]",
      "text/plain": [
       "<Figure size 432x288 with 1 Axes>"
      ]
     },
     "metadata": {
      "needs_background": "light"
     },
     "output_type": "display_data"
    },
    {
     "name": "stdout",
     "output_type": "stream",
     "text": [
      "Test accuracy: 63.91752577319588\n",
      "Train accuracy: 86.89655172413794\n",
      "\n",
      " ------------------ \n",
      "\n",
      "learning rate:  0.001\n"
     ]
    },
    {
     "data": {
      "image/png": "[encoded data removed]",
      "text/plain": [
       "<Figure size 432x288 with 1 Axes>"
      ]
     },
     "metadata": {
      "needs_background": "light"
     },
     "output_type": "display_data"
    },
    {
     "name": "stdout",
     "output_type": "stream",
     "text": [
      "Test accuracy: 57.7319587628866\n",
      "Train accuracy: 56.896551724137936\n",
      "\n",
      " ------------------ \n",
      "\n",
      "learning rate:  0.0001\n"
     ]
    },
    {
     "data": {
      "image/png": "[encoded data removed]",
      "text/plain": [
       "<Figure size 432x288 with 1 Axes>"
      ]
     },
     "metadata": {
      "needs_background": "light"
     },
     "output_type": "display_data"
    },
    {
     "name": "stdout",
     "output_type": "stream",
     "text": [
      "Test accuracy: 53.608247422680414\n",
      "Train accuracy: 55.172413793103445\n",
      "\n",
      " ------------------ \n",
      "\n"
     ]
    }
   ],
   "source": [
    "learning_rates = [0.01, 0.001, 0.0001]\n",
    "models = {}\n",
    "for i in learning_rates:\n",
    "    print(\"learning rate: \", i)\n",
    "    models[str(i)] = artificial_neural_network(x_train, y_train, x_test, y_test, learning_rate = i, number_iteration = 2500, print_cost = False)\n",
    "    print(\"\\n ------------------ \\n\")"
   ]
  },
  {
   "cell_type": "markdown",
   "id": "276603f3",
   "metadata": {},
   "source": [
    "## My image prediction "
   ]
  },
  {
   "cell_type": "code",
   "execution_count": 35,
   "id": "6e817648",
   "metadata": {},
   "outputs": [
    {
     "name": "stdout",
     "output_type": "stream",
     "text": [
      "İt is a 76% apples\n"
     ]
    },
    {
     "data": {
      "image/png": "[encoded data removed]",
      "text/plain": [
       "<Figure size 432x288 with 1 Axes>"
      ]
     },
     "metadata": {
      "needs_background": "light"
     },
     "output_type": "display_data"
    }
   ],
   "source": [
    "my_image = Image.open(\"test//apples//apples30.jpeg\")\n",
    "\n",
    "img_resize = my_image.resize((64, 64))\n",
    "np_array = np.asarray(img_resize)\n",
    "\n",
    "img_flatten = np_array / 255\n",
    "my_image = img_flatten.reshape(1, -1).T\n",
    "\n",
    "my_image_predict = predict_NN(my_image, d[\"paramaters\"]) \n",
    "print(\"İt is a \" + str(int(100-np.mean(np.abs(my_image_predict - my_image)) * 100)) + \"% \" + classes[int(np.squeeze(my_image_predict))])\n",
    "plt.imshow(img_resize)\n",
    "plt.axis(\"off\")\n",
    "plt.show()"
   ]
  },
  {
   "cell_type": "code",
   "execution_count": null,
   "id": "4b649d93",
   "metadata": {},
   "outputs": [],
   "source": []
  }
 ],
 "metadata": {
  "kernelspec": {
   "display_name": "Python 3 (ipykernel)",
   "language": "python",
   "name": "python3"
  },
  "language_info": {
   "codemirror_mode": {
    "name": "ipython",
    "version": 3
   },
   "file_extension": ".py",
   "mimetype": "text/x-python",
   "name": "python",
   "nbconvert_exporter": "python",
   "pygments_lexer": "ipython3",
   "version": "3.9.6"
  }
 },
 "nbformat": 4,
 "nbformat_minor": 5
}
