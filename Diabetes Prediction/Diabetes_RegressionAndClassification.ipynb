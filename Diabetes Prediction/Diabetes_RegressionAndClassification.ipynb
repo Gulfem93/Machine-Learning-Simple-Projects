{
 "cells": [
  {
   "cell_type": "markdown",
   "id": "176fd747",
   "metadata": {},
   "source": [
    "# DIABETES "
   ]
  },
  {
   "cell_type": "markdown",
   "id": "54a95a11",
   "metadata": {},
   "source": [
    "1. [Import Dataset](#1)\n",
    "    1. [Logistic Regression](#2)\n",
    "        1. [Cross Validation](#3)\n",
    "        1. [Data Visualization](#4)\n",
    "        1. [Predict](#5)\n",
    "    1. [SVM (Support Vector Machine)](#6)\n",
    "        1. [Cross Validation](#7)\n",
    "        1. [Predict](#8)\n",
    "        1. [Data Visualization](#9)"
   ]
  },
  {
   "cell_type": "markdown",
   "id": "9eeed68b",
   "metadata": {},
   "source": [
    "<a id = \"1\"></a><b>\n",
    "### Import Dataset"
   ]
  },
  {
   "cell_type": "code",
   "execution_count": 1,
   "id": "e81bb92b",
   "metadata": {},
   "outputs": [],
   "source": [
    "import pandas as pd\n",
    "import numpy as np"
   ]
  },
  {
   "cell_type": "code",
   "execution_count": 2,
   "id": "4de2e73e",
   "metadata": {},
   "outputs": [
    {
     "data": {
      "text/html": [
       "<div>\n",
       "<style scoped>\n",
       "    .dataframe tbody tr th:only-of-type {\n",
       "        vertical-align: middle;\n",
       "    }\n",
       "\n",
       "    .dataframe tbody tr th {\n",
       "        vertical-align: top;\n",
       "    }\n",
       "\n",
       "    .dataframe thead th {\n",
       "        text-align: right;\n",
       "    }\n",
       "</style>\n",
       "<table border=\"1\" class=\"dataframe\">\n",
       "  <thead>\n",
       "    <tr style=\"text-align: right;\">\n",
       "      <th></th>\n",
       "      <th>Pregnancies</th>\n",
       "      <th>Glucose</th>\n",
       "      <th>BloodPressure</th>\n",
       "      <th>SkinThickness</th>\n",
       "      <th>Insulin</th>\n",
       "      <th>BMI</th>\n",
       "      <th>DiabetesPedigreeFunction</th>\n",
       "      <th>Age</th>\n",
       "      <th>Outcome</th>\n",
       "    </tr>\n",
       "  </thead>\n",
       "  <tbody>\n",
       "    <tr>\n",
       "      <th>0</th>\n",
       "      <td>6</td>\n",
       "      <td>148</td>\n",
       "      <td>72</td>\n",
       "      <td>35</td>\n",
       "      <td>0</td>\n",
       "      <td>33.6</td>\n",
       "      <td>0.627</td>\n",
       "      <td>50</td>\n",
       "      <td>1</td>\n",
       "    </tr>\n",
       "    <tr>\n",
       "      <th>1</th>\n",
       "      <td>1</td>\n",
       "      <td>85</td>\n",
       "      <td>66</td>\n",
       "      <td>29</td>\n",
       "      <td>0</td>\n",
       "      <td>26.6</td>\n",
       "      <td>0.351</td>\n",
       "      <td>31</td>\n",
       "      <td>0</td>\n",
       "    </tr>\n",
       "    <tr>\n",
       "      <th>2</th>\n",
       "      <td>8</td>\n",
       "      <td>183</td>\n",
       "      <td>64</td>\n",
       "      <td>0</td>\n",
       "      <td>0</td>\n",
       "      <td>23.3</td>\n",
       "      <td>0.672</td>\n",
       "      <td>32</td>\n",
       "      <td>1</td>\n",
       "    </tr>\n",
       "    <tr>\n",
       "      <th>3</th>\n",
       "      <td>1</td>\n",
       "      <td>89</td>\n",
       "      <td>66</td>\n",
       "      <td>23</td>\n",
       "      <td>94</td>\n",
       "      <td>28.1</td>\n",
       "      <td>0.167</td>\n",
       "      <td>21</td>\n",
       "      <td>0</td>\n",
       "    </tr>\n",
       "    <tr>\n",
       "      <th>4</th>\n",
       "      <td>0</td>\n",
       "      <td>137</td>\n",
       "      <td>40</td>\n",
       "      <td>35</td>\n",
       "      <td>168</td>\n",
       "      <td>43.1</td>\n",
       "      <td>2.288</td>\n",
       "      <td>33</td>\n",
       "      <td>1</td>\n",
       "    </tr>\n",
       "  </tbody>\n",
       "</table>\n",
       "</div>"
      ],
      "text/plain": [
       "   Pregnancies  Glucose  BloodPressure  SkinThickness  Insulin   BMI  \\\n",
       "0            6      148             72             35        0  33.6   \n",
       "1            1       85             66             29        0  26.6   \n",
       "2            8      183             64              0        0  23.3   \n",
       "3            1       89             66             23       94  28.1   \n",
       "4            0      137             40             35      168  43.1   \n",
       "\n",
       "   DiabetesPedigreeFunction  Age  Outcome  \n",
       "0                     0.627   50        1  \n",
       "1                     0.351   31        0  \n",
       "2                     0.672   32        1  \n",
       "3                     0.167   21        0  \n",
       "4                     2.288   33        1  "
      ]
     },
     "execution_count": 2,
     "metadata": {},
     "output_type": "execute_result"
    }
   ],
   "source": [
    "df = pd.read_csv(\"diabetes.csv\")\n",
    "df.head()"
   ]
  },
  {
   "cell_type": "code",
   "execution_count": 3,
   "id": "72ab6b82",
   "metadata": {},
   "outputs": [
    {
     "data": {
      "text/plain": [
       "Pregnancies                 0\n",
       "Glucose                     0\n",
       "BloodPressure               0\n",
       "SkinThickness               0\n",
       "Insulin                     0\n",
       "BMI                         0\n",
       "DiabetesPedigreeFunction    0\n",
       "Age                         0\n",
       "Outcome                     0\n",
       "dtype: int64"
      ]
     },
     "execution_count": 3,
     "metadata": {},
     "output_type": "execute_result"
    }
   ],
   "source": [
    "df.isnull().sum()"
   ]
  },
  {
   "cell_type": "markdown",
   "id": "e90ff56f",
   "metadata": {},
   "source": [
    "<a id = \"2\"></a><b>\n",
    "## 1. Logistic Regression"
   ]
  },
  {
   "cell_type": "markdown",
   "id": "8e70b6df",
   "metadata": {},
   "source": [
    "<a id = \"3\"></a><b>\n",
    "### Cross Validation"
   ]
  },
  {
   "cell_type": "code",
   "execution_count": 4,
   "id": "52c8c384",
   "metadata": {},
   "outputs": [],
   "source": [
    "from sklearn.preprocessing import StandardScaler\n",
    "from sklearn.model_selection import train_test_split"
   ]
  },
  {
   "cell_type": "code",
   "execution_count": 5,
   "id": "4ddfe435",
   "metadata": {},
   "outputs": [],
   "source": [
    "scaller = StandardScaler()"
   ]
  },
  {
   "cell_type": "code",
   "execution_count": 6,
   "id": "5ed994d9",
   "metadata": {},
   "outputs": [],
   "source": [
    "df_log = df.copy()\n",
    "x = df_log.drop([\"Outcome\"], axis = 1)\n",
    "y = df_log[\"Outcome\"]"
   ]
  },
  {
   "cell_type": "code",
   "execution_count": 7,
   "id": "fd145475",
   "metadata": {},
   "outputs": [],
   "source": [
    "x = scaller.fit_transform(x)"
   ]
  },
  {
   "cell_type": "code",
   "execution_count": 8,
   "id": "be0f0f84",
   "metadata": {},
   "outputs": [],
   "source": [
    "x_train, x_test, y_train, y_test = train_test_split(x, y, test_size = 0.33, random_state = 66)"
   ]
  },
  {
   "cell_type": "markdown",
   "id": "5853a41c",
   "metadata": {},
   "source": [
    "<a id = \"3\"></a><b>\n",
    "### Logistic Regression"
   ]
  },
  {
   "cell_type": "code",
   "execution_count": 9,
   "id": "02cdc9a9",
   "metadata": {},
   "outputs": [],
   "source": [
    "from sklearn.linear_model import LogisticRegression\n",
    "from sklearn.metrics import accuracy_score"
   ]
  },
  {
   "cell_type": "code",
   "execution_count": 10,
   "id": "427634ac",
   "metadata": {},
   "outputs": [],
   "source": [
    "log_reg = LogisticRegression(random_state = 0)\n",
    "log_reg = log_reg.fit(x_train, y_train)\n",
    "log_predict = log_reg.predict(x_test)\n",
    "log_accuracy = accuracy_score(log_predict, y_test)"
   ]
  },
  {
   "cell_type": "code",
   "execution_count": 11,
   "id": "2da4cb79",
   "metadata": {},
   "outputs": [
    {
     "data": {
      "text/plain": [
       "0.7755905511811023"
      ]
     },
     "execution_count": 11,
     "metadata": {},
     "output_type": "execute_result"
    }
   ],
   "source": [
    "log_accuracy"
   ]
  },
  {
   "cell_type": "markdown",
   "id": "65b50b96",
   "metadata": {},
   "source": [
    "<a id = \"4\"></a><b>\n",
    "### Data Visualization"
   ]
  },
  {
   "cell_type": "code",
   "execution_count": 12,
   "id": "f616241c",
   "metadata": {},
   "outputs": [],
   "source": [
    "import seaborn as sns\n",
    "import matplotlib.pyplot as plt"
   ]
  },
  {
   "cell_type": "code",
   "execution_count": 13,
   "id": "13e37740",
   "metadata": {},
   "outputs": [
    {
     "data": {
      "text/plain": [
       "Index(['Pregnancies', 'Glucose', 'BloodPressure', 'SkinThickness', 'Insulin',\n",
       "       'BMI', 'DiabetesPedigreeFunction', 'Age', 'Outcome'],\n",
       "      dtype='object')"
      ]
     },
     "execution_count": 13,
     "metadata": {},
     "output_type": "execute_result"
    }
   ],
   "source": [
    "df.columns"
   ]
  },
  {
   "cell_type": "markdown",
   "id": "b503ed1d",
   "metadata": {},
   "source": [
    "- 1 -> Number of people diabetes.\n",
    "- 0 -> Number of people without diabetes."
   ]
  },
  {
   "cell_type": "code",
   "execution_count": 14,
   "id": "49a01faf",
   "metadata": {},
   "outputs": [
    {
     "data": {
      "image/png": "[encoded data removed]",
      "text/plain": [
       "<Figure size 432x288 with 1 Axes>"
      ]
     },
     "metadata": {
      "needs_background": "light"
     },
     "output_type": "display_data"
    }
   ],
   "source": [
    "df.Outcome.value_counts().plot(kind='bar')\n",
    "plt.show()"
   ]
  },
  {
   "cell_type": "code",
   "execution_count": 15,
   "id": "10133195",
   "metadata": {},
   "outputs": [
    {
     "data": {
      "text/html": [
       "<div>\n",
       "<style scoped>\n",
       "    .dataframe tbody tr th:only-of-type {\n",
       "        vertical-align: middle;\n",
       "    }\n",
       "\n",
       "    .dataframe tbody tr th {\n",
       "        vertical-align: top;\n",
       "    }\n",
       "\n",
       "    .dataframe thead th {\n",
       "        text-align: right;\n",
       "    }\n",
       "</style>\n",
       "<table border=\"1\" class=\"dataframe\">\n",
       "  <thead>\n",
       "    <tr style=\"text-align: right;\">\n",
       "      <th></th>\n",
       "      <th>Pregnancies</th>\n",
       "      <th>Glucose</th>\n",
       "      <th>BloodPressure</th>\n",
       "      <th>SkinThickness</th>\n",
       "      <th>Insulin</th>\n",
       "      <th>BMI</th>\n",
       "      <th>DiabetesPedigreeFunction</th>\n",
       "      <th>Age</th>\n",
       "    </tr>\n",
       "  </thead>\n",
       "  <tbody>\n",
       "    <tr>\n",
       "      <th>0</th>\n",
       "      <td>-0.547919</td>\n",
       "      <td>-0.966911</td>\n",
       "      <td>0.046245</td>\n",
       "      <td>-0.221835</td>\n",
       "      <td>-0.692891</td>\n",
       "      <td>-0.595578</td>\n",
       "      <td>-1.168412</td>\n",
       "      <td>-0.956462</td>\n",
       "    </tr>\n",
       "    <tr>\n",
       "      <th>1</th>\n",
       "      <td>-0.844885</td>\n",
       "      <td>-0.747831</td>\n",
       "      <td>-0.057150</td>\n",
       "      <td>0.029077</td>\n",
       "      <td>-0.692891</td>\n",
       "      <td>-0.608270</td>\n",
       "      <td>1.881908</td>\n",
       "      <td>-0.956462</td>\n",
       "    </tr>\n",
       "    <tr>\n",
       "      <th>2</th>\n",
       "      <td>-0.547919</td>\n",
       "      <td>-0.653939</td>\n",
       "      <td>0.046245</td>\n",
       "      <td>1.973647</td>\n",
       "      <td>-0.197966</td>\n",
       "      <td>1.079756</td>\n",
       "      <td>0.619498</td>\n",
       "      <td>-0.701198</td>\n",
       "    </tr>\n",
       "    <tr>\n",
       "      <th>3</th>\n",
       "      <td>-0.844885</td>\n",
       "      <td>-0.372265</td>\n",
       "      <td>-0.574128</td>\n",
       "      <td>-0.159107</td>\n",
       "      <td>0.314325</td>\n",
       "      <td>-0.443275</td>\n",
       "      <td>-0.763716</td>\n",
       "      <td>-0.956462</td>\n",
       "    </tr>\n",
       "    <tr>\n",
       "      <th>4</th>\n",
       "      <td>-1.141852</td>\n",
       "      <td>-0.591345</td>\n",
       "      <td>0.304734</td>\n",
       "      <td>0.154533</td>\n",
       "      <td>-0.692891</td>\n",
       "      <td>-4.060474</td>\n",
       "      <td>0.302385</td>\n",
       "      <td>-1.041549</td>\n",
       "    </tr>\n",
       "  </tbody>\n",
       "</table>\n",
       "</div>"
      ],
      "text/plain": [
       "   Pregnancies   Glucose  BloodPressure  SkinThickness   Insulin       BMI  \\\n",
       "0    -0.547919 -0.966911       0.046245      -0.221835 -0.692891 -0.595578   \n",
       "1    -0.844885 -0.747831      -0.057150       0.029077 -0.692891 -0.608270   \n",
       "2    -0.547919 -0.653939       0.046245       1.973647 -0.197966  1.079756   \n",
       "3    -0.844885 -0.372265      -0.574128      -0.159107  0.314325 -0.443275   \n",
       "4    -1.141852 -0.591345       0.304734       0.154533 -0.692891 -4.060474   \n",
       "\n",
       "   DiabetesPedigreeFunction       Age  \n",
       "0                 -1.168412 -0.956462  \n",
       "1                  1.881908 -0.956462  \n",
       "2                  0.619498 -0.701198  \n",
       "3                 -0.763716 -0.956462  \n",
       "4                  0.302385 -1.041549  "
      ]
     },
     "execution_count": 15,
     "metadata": {},
     "output_type": "execute_result"
    }
   ],
   "source": [
    "predict_new = {\"predict\": log_predict}\n",
    "predict = pd.DataFrame(predict_new)\n",
    "\n",
    "x_test = pd.DataFrame(x_test, columns = ['Pregnancies', 'Glucose', 'BloodPressure', 'SkinThickness', 'Insulin',\n",
    "       'BMI', 'DiabetesPedigreeFunction', 'Age'])\n",
    "x_test.reset_index(drop=True, inplace=True)\n",
    "\n",
    "x_test.head()"
   ]
  },
  {
   "cell_type": "code",
   "execution_count": 16,
   "id": "356cf1e1",
   "metadata": {},
   "outputs": [
    {
     "data": {
      "text/html": [
       "<div>\n",
       "<style scoped>\n",
       "    .dataframe tbody tr th:only-of-type {\n",
       "        vertical-align: middle;\n",
       "    }\n",
       "\n",
       "    .dataframe tbody tr th {\n",
       "        vertical-align: top;\n",
       "    }\n",
       "\n",
       "    .dataframe thead th {\n",
       "        text-align: right;\n",
       "    }\n",
       "</style>\n",
       "<table border=\"1\" class=\"dataframe\">\n",
       "  <thead>\n",
       "    <tr style=\"text-align: right;\">\n",
       "      <th></th>\n",
       "      <th>BMI</th>\n",
       "      <th>predict</th>\n",
       "    </tr>\n",
       "  </thead>\n",
       "  <tbody>\n",
       "    <tr>\n",
       "      <th>0</th>\n",
       "      <td>-0.595578</td>\n",
       "      <td>0</td>\n",
       "    </tr>\n",
       "    <tr>\n",
       "      <th>1</th>\n",
       "      <td>-0.608270</td>\n",
       "      <td>0</td>\n",
       "    </tr>\n",
       "    <tr>\n",
       "      <th>2</th>\n",
       "      <td>1.079756</td>\n",
       "      <td>0</td>\n",
       "    </tr>\n",
       "    <tr>\n",
       "      <th>3</th>\n",
       "      <td>-0.443275</td>\n",
       "      <td>0</td>\n",
       "    </tr>\n",
       "    <tr>\n",
       "      <th>4</th>\n",
       "      <td>-4.060474</td>\n",
       "      <td>0</td>\n",
       "    </tr>\n",
       "  </tbody>\n",
       "</table>\n",
       "</div>"
      ],
      "text/plain": [
       "        BMI  predict\n",
       "0 -0.595578        0\n",
       "1 -0.608270        0\n",
       "2  1.079756        0\n",
       "3 -0.443275        0\n",
       "4 -4.060474        0"
      ]
     },
     "execution_count": 16,
     "metadata": {},
     "output_type": "execute_result"
    }
   ],
   "source": [
    "new_data = pd.concat([x_test[\"BMI\"], predict], axis = 1)\n",
    "new_data.head()"
   ]
  },
  {
   "cell_type": "code",
   "execution_count": 17,
   "id": "2c853b30",
   "metadata": {},
   "outputs": [],
   "source": [
    "new_x = new_data[\"BMI\"]\n",
    "new_y = new_data[\"predict\"]"
   ]
  },
  {
   "cell_type": "code",
   "execution_count": 18,
   "id": "59466040",
   "metadata": {},
   "outputs": [
    {
     "data": {
      "image/png": "[encoded data removed]",
      "text/plain": [
       "<Figure size 432x288 with 1 Axes>"
      ]
     },
     "metadata": {
      "needs_background": "light"
     },
     "output_type": "display_data"
    }
   ],
   "source": [
    "sns.regplot(x = new_x, y = new_y, data = new_data, logistic = True, ci=None)\n",
    "plt.show()"
   ]
  },
  {
   "cell_type": "markdown",
   "id": "031c058a",
   "metadata": {},
   "source": [
    "<a id = \"5\"></a><b>\n",
    "### Predict"
   ]
  },
  {
   "cell_type": "code",
   "execution_count": 19,
   "id": "d9d12d79",
   "metadata": {},
   "outputs": [],
   "source": [
    "input_data1 = (6,148,72,35,0,33.6,0.627,50)\n",
    "input_data2 = (1,85,66,29,0,26.6,0.351,31)"
   ]
  },
  {
   "cell_type": "code",
   "execution_count": 20,
   "id": "5d67b47b",
   "metadata": {},
   "outputs": [
    {
     "name": "stdout",
     "output_type": "stream",
     "text": [
      "Person is Diabetic\n"
     ]
    }
   ],
   "source": [
    "#Changing Input Data As Numpy Array\n",
    "input_data_array = np.asarray(input_data1)\n",
    "\n",
    "# Reshape the data as we are predicting for only one instance\n",
    "input_data_reshape = input_data_array.reshape(1,-1)\n",
    "\n",
    "# Standardize the data\n",
    "std_data = scaller.transform(input_data_reshape)\n",
    "\n",
    "# Prediction\n",
    "prediction = log_reg.predict(std_data)\n",
    "#print(prediction)\n",
    "\n",
    "if prediction == 0:\n",
    "    print('Person is Not Diabetic')\n",
    "else:\n",
    "    print('Person is Diabetic')"
   ]
  },
  {
   "cell_type": "code",
   "execution_count": 21,
   "id": "7a274f9c",
   "metadata": {},
   "outputs": [
    {
     "name": "stdout",
     "output_type": "stream",
     "text": [
      "Person is Not Diabetic\n"
     ]
    }
   ],
   "source": [
    "#Changing Input Data As Numpy Array\n",
    "input_data_array = np.asarray(input_data2)\n",
    "\n",
    "# Reshape the data as we are predicting for only one instance\n",
    "input_data_reshape = input_data_array.reshape(1,-1)\n",
    "\n",
    "# Standardize the data\n",
    "std_data = scaller.transform(input_data_reshape)\n",
    "\n",
    "# Prediction\n",
    "prediction = log_reg.predict(std_data)\n",
    "#print(prediction)\n",
    "\n",
    "if prediction == 0:\n",
    "    print('Person is Not Diabetic')\n",
    "else:\n",
    "    print('Person is Diabetic')"
   ]
  },
  {
   "cell_type": "markdown",
   "id": "af0f35b0",
   "metadata": {},
   "source": [
    "<a id = \"6\"></a><b>\n",
    "## 2. SVM (Support Vector Machine)"
   ]
  },
  {
   "cell_type": "markdown",
   "id": "04f0e295",
   "metadata": {},
   "source": [
    "<a id = \"7\"></a><b>\n",
    "### Cross Validation"
   ]
  },
  {
   "cell_type": "code",
   "execution_count": 22,
   "id": "3d2f59b8",
   "metadata": {},
   "outputs": [],
   "source": [
    "from sklearn.svm import SVC"
   ]
  },
  {
   "cell_type": "code",
   "execution_count": 23,
   "id": "57ed3bba",
   "metadata": {},
   "outputs": [],
   "source": [
    "scaller = StandardScaler()\n",
    "x = scaller.fit_transform(x)"
   ]
  },
  {
   "cell_type": "code",
   "execution_count": 24,
   "id": "1bbca51d",
   "metadata": {},
   "outputs": [],
   "source": [
    "reg_svc = SVC(random_state = 0, kernel = \"rbf\")\n",
    "reg_svc.fit(x_train, y_train)\n",
    "\n",
    "svm_predict = reg_svc.predict(x_test)\n",
    "svm_accuracy = accuracy_score(svm_predict, y_test)"
   ]
  },
  {
   "cell_type": "code",
   "execution_count": 25,
   "id": "cab8a61e",
   "metadata": {},
   "outputs": [
    {
     "data": {
      "text/plain": [
       "0.7677165354330708"
      ]
     },
     "execution_count": 25,
     "metadata": {},
     "output_type": "execute_result"
    }
   ],
   "source": [
    "svm_accuracy"
   ]
  },
  {
   "cell_type": "markdown",
   "id": "5763ecbe",
   "metadata": {},
   "source": [
    "<a id = \"8\"></a><b>\n",
    "### Data Visualization"
   ]
  },
  {
   "cell_type": "code",
   "execution_count": 26,
   "id": "c3b0dd22",
   "metadata": {},
   "outputs": [],
   "source": [
    "x1 = df[\"Pregnancies\"]\n",
    "x2 = df[\"Glucose\"]\n",
    "\n",
    "x_svc = pd.concat([x1, x2], axis = 1)\n",
    "y = df[\"Outcome\"]"
   ]
  },
  {
   "cell_type": "code",
   "execution_count": 27,
   "id": "3127f402",
   "metadata": {},
   "outputs": [],
   "source": [
    "scaller = StandardScaler()\n",
    "x_svc = scaller.fit_transform(x_svc)"
   ]
  },
  {
   "cell_type": "code",
   "execution_count": 28,
   "id": "76ae1b5c",
   "metadata": {},
   "outputs": [],
   "source": [
    "x_svc_train, x_svc_test, y_svc_train, y_svc_test = train_test_split(x_svc, y, test_size = 0.33, random_state = 66)"
   ]
  },
  {
   "cell_type": "code",
   "execution_count": 29,
   "id": "afd00774",
   "metadata": {},
   "outputs": [],
   "source": [
    "reg_svc_new = SVC(random_state = 0, kernel = \"rbf\")\n",
    "reg_svc_new.fit(x_svc_train, y_svc_train)\n",
    "\n",
    "svc_predict = reg_svc_new.predict(x_svc_test)\n",
    "svc_accuracy = accuracy_score(svm_predict, y_svc_test)"
   ]
  },
  {
   "cell_type": "code",
   "execution_count": 30,
   "id": "78144b16",
   "metadata": {},
   "outputs": [],
   "source": [
    "def plot_svc_decision_function(model, ax=None, plot_support=True):\n",
    "    \"\"\"Plot the decision function for a 2D SVC\"\"\"\n",
    "    if ax is None:\n",
    "        ax = plt.gca()\n",
    "    xlim = ax.get_xlim()\n",
    "    ylim = ax.get_ylim()\n",
    "    \n",
    "    # create grid to evaluate model\n",
    "    x = np.linspace(xlim[0], xlim[1], 30)\n",
    "    y = np.linspace(ylim[0], ylim[1], 30)\n",
    "    Y, X = np.meshgrid(y, x)\n",
    "    xy = np.vstack([X.ravel(), Y.ravel()]).T\n",
    "    P = model.decision_function(xy).reshape(X.shape)\n",
    "    \n",
    "    # plot decision boundary and margins\n",
    "    ax.contour(X, Y, P, colors='k',\n",
    "               levels=[-1, 0, 1], alpha=0.5,\n",
    "               linestyles=['--', '-', '--'])\n",
    "    \n",
    "    # plot support vectors\n",
    "    if plot_support:\n",
    "        ax.scatter(model.support_vectors_[:, 0],\n",
    "                   model.support_vectors_[:, 1],\n",
    "                   s=300, linewidth=1, facecolors='none');\n",
    "    ax.set_xlim(xlim)\n",
    "    ax.set_ylim(ylim)"
   ]
  },
  {
   "cell_type": "code",
   "execution_count": 31,
   "id": "ebf2a099",
   "metadata": {},
   "outputs": [
    {
     "data": {
      "image/png": "[encoded data removed]",
      "text/plain": [
       "<Figure size 432x288 with 1 Axes>"
      ]
     },
     "metadata": {
      "needs_background": "light"
     },
     "output_type": "display_data"
    }
   ],
   "source": [
    "plt.scatter(x_svc[:, 0], x_svc[:, 1], c=y, s=50, cmap='RdYlGn', alpha=0.4)\n",
    "plot_svc_decision_function(reg_svc_new);"
   ]
  },
  {
   "cell_type": "code",
   "execution_count": null,
   "id": "f6d081d2",
   "metadata": {},
   "outputs": [],
   "source": []
  },
  {
   "cell_type": "code",
   "execution_count": null,
   "id": "290d033e",
   "metadata": {},
   "outputs": [],
   "source": []
  }
 ],
 "metadata": {
  "kernelspec": {
   "display_name": "Python 3 (ipykernel)",
   "language": "python",
   "name": "python3"
  },
  "language_info": {
   "codemirror_mode": {
    "name": "ipython",
    "version": 3
   },
   "file_extension": ".py",
   "mimetype": "text/x-python",
   "name": "python",
   "nbconvert_exporter": "python",
   "pygments_lexer": "ipython3",
   "version": "3.9.6"
  }
 },
 "nbformat": 4,
 "nbformat_minor": 5
}
