{
 "cells": [
  {
   "cell_type": "markdown",
   "id": "5f8cf17a",
   "metadata": {},
   "source": [
    "# Apple or Tomatoes - Artificial Neural Network\n",
    "![image](https://storage.googleapis.com/kaggle-datasets-images/2702329/4651548/a85ddc5e31ffe4cf89906ae5062a97bf/dataset-cover.jpg?t=2022-12-04-11-54-56)"
   ]
  },
  {
   "cell_type": "code",
   "execution_count": 1,
   "id": "b58c0ac3",
   "metadata": {},
   "outputs": [],
   "source": [
    "import os\n",
    "import numpy as np\n",
    "\n",
    "import matplotlib.pyplot as plt\n",
    "from PIL import Image\n",
    "import re"
   ]
  },
  {
   "cell_type": "markdown",
   "id": "cd34235c",
   "metadata": {},
   "source": [
    "#### Rename ımage"
   ]
  },
  {
   "cell_type": "code",
   "execution_count": 2,
   "id": "62d177f7",
   "metadata": {},
   "outputs": [
    {
     "name": "stdout",
     "output_type": "stream",
     "text": [
      "[WinError 183] Halen varolan bir dosya oluşturulamaz: 'test//apples//apples10.jpeg' -> 'test//apples//apples2.jpeg'\n",
      "[WinError 183] Halen varolan bir dosya oluşturulamaz: 'test//apples//apples11.jpeg' -> 'test//apples//apples3.jpeg'\n",
      "[WinError 183] Halen varolan bir dosya oluşturulamaz: 'test//apples//apples12.jpeg' -> 'test//apples//apples4.jpeg'\n",
      "[WinError 183] Halen varolan bir dosya oluşturulamaz: 'test//apples//apples13.jpeg' -> 'test//apples//apples5.jpeg'\n",
      "[WinError 183] Halen varolan bir dosya oluşturulamaz: 'test//apples//apples14.jpeg' -> 'test//apples//apples6.jpeg'\n",
      "[WinError 183] Halen varolan bir dosya oluşturulamaz: 'test//apples//apples15.jpeg' -> 'test//apples//apples7.jpeg'\n",
      "[WinError 183] Halen varolan bir dosya oluşturulamaz: 'test//apples//apples16.jpeg' -> 'test//apples//apples8.jpeg'\n",
      "[WinError 183] Halen varolan bir dosya oluşturulamaz: 'test//apples//apples17.jpeg' -> 'test//apples//apples9.jpeg'\n",
      "[WinError 183] Halen varolan bir dosya oluşturulamaz: 'test//apples//apples18.jpeg' -> 'test//apples//apples10.jpeg'\n",
      "[WinError 183] Halen varolan bir dosya oluşturulamaz: 'test//apples//apples19.jpeg' -> 'test//apples//apples11.jpeg'\n",
      "[WinError 183] Halen varolan bir dosya oluşturulamaz: 'test//apples//apples2.jpeg' -> 'test//apples//apples12.jpeg'\n",
      "[WinError 183] Halen varolan bir dosya oluşturulamaz: 'test//apples//apples20.jpeg' -> 'test//apples//apples13.jpeg'\n",
      "[WinError 183] Halen varolan bir dosya oluşturulamaz: 'test//apples//apples21.jpeg' -> 'test//apples//apples14.jpeg'\n",
      "[WinError 183] Halen varolan bir dosya oluşturulamaz: 'test//apples//apples22.jpeg' -> 'test//apples//apples15.jpeg'\n",
      "[WinError 183] Halen varolan bir dosya oluşturulamaz: 'test//apples//apples23.jpeg' -> 'test//apples//apples16.jpeg'\n",
      "[WinError 183] Halen varolan bir dosya oluşturulamaz: 'test//apples//apples24.jpeg' -> 'test//apples//apples17.jpeg'\n",
      "[WinError 183] Halen varolan bir dosya oluşturulamaz: 'test//apples//apples25.jpeg' -> 'test//apples//apples18.jpeg'\n",
      "[WinError 183] Halen varolan bir dosya oluşturulamaz: 'test//apples//apples26.jpeg' -> 'test//apples//apples19.jpeg'\n",
      "[WinError 183] Halen varolan bir dosya oluşturulamaz: 'test//apples//apples27.jpeg' -> 'test//apples//apples20.jpeg'\n",
      "[WinError 183] Halen varolan bir dosya oluşturulamaz: 'test//apples//apples28.jpeg' -> 'test//apples//apples21.jpeg'\n",
      "[WinError 183] Halen varolan bir dosya oluşturulamaz: 'test//apples//apples29.jpeg' -> 'test//apples//apples22.jpeg'\n",
      "[WinError 183] Halen varolan bir dosya oluşturulamaz: 'test//apples//apples3.jpeg' -> 'test//apples//apples23.jpeg'\n",
      "[WinError 183] Halen varolan bir dosya oluşturulamaz: 'test//apples//apples30.jpeg' -> 'test//apples//apples24.jpeg'\n",
      "[WinError 183] Halen varolan bir dosya oluşturulamaz: 'test//apples//apples31.jpeg' -> 'test//apples//apples25.jpeg'\n",
      "[WinError 183] Halen varolan bir dosya oluşturulamaz: 'test//apples//apples32.jpeg' -> 'test//apples//apples26.jpeg'\n",
      "[WinError 183] Halen varolan bir dosya oluşturulamaz: 'test//apples//apples33.jpeg' -> 'test//apples//apples27.jpeg'\n",
      "[WinError 183] Halen varolan bir dosya oluşturulamaz: 'test//apples//apples34.jpeg' -> 'test//apples//apples28.jpeg'\n",
      "[WinError 183] Halen varolan bir dosya oluşturulamaz: 'test//apples//apples35.jpeg' -> 'test//apples//apples29.jpeg'\n",
      "[WinError 183] Halen varolan bir dosya oluşturulamaz: 'test//apples//apples36.jpeg' -> 'test//apples//apples30.jpeg'\n",
      "[WinError 183] Halen varolan bir dosya oluşturulamaz: 'test//apples//apples37.jpeg' -> 'test//apples//apples31.jpeg'\n",
      "[WinError 183] Halen varolan bir dosya oluşturulamaz: 'test//apples//apples38.jpeg' -> 'test//apples//apples32.jpeg'\n",
      "[WinError 183] Halen varolan bir dosya oluşturulamaz: 'test//apples//apples39.jpeg' -> 'test//apples//apples33.jpeg'\n",
      "[WinError 183] Halen varolan bir dosya oluşturulamaz: 'test//apples//apples4.jpeg' -> 'test//apples//apples34.jpeg'\n",
      "[WinError 183] Halen varolan bir dosya oluşturulamaz: 'test//apples//apples40.jpeg' -> 'test//apples//apples35.jpeg'\n",
      "[WinError 183] Halen varolan bir dosya oluşturulamaz: 'test//apples//apples41.jpeg' -> 'test//apples//apples36.jpeg'\n",
      "[WinError 183] Halen varolan bir dosya oluşturulamaz: 'test//apples//apples42.jpeg' -> 'test//apples//apples37.jpeg'\n",
      "[WinError 183] Halen varolan bir dosya oluşturulamaz: 'test//apples//apples43.jpeg' -> 'test//apples//apples38.jpeg'\n",
      "[WinError 183] Halen varolan bir dosya oluşturulamaz: 'test//apples//apples44.jpeg' -> 'test//apples//apples39.jpeg'\n",
      "[WinError 183] Halen varolan bir dosya oluşturulamaz: 'test//apples//apples45.jpeg' -> 'test//apples//apples40.jpeg'\n",
      "[WinError 183] Halen varolan bir dosya oluşturulamaz: 'test//apples//apples46.jpeg' -> 'test//apples//apples41.jpeg'\n",
      "[WinError 183] Halen varolan bir dosya oluşturulamaz: 'test//apples//apples47.jpeg' -> 'test//apples//apples42.jpeg'\n",
      "[WinError 183] Halen varolan bir dosya oluşturulamaz: 'test//apples//apples48.jpeg' -> 'test//apples//apples43.jpeg'\n",
      "[WinError 183] Halen varolan bir dosya oluşturulamaz: 'test//apples//apples49.jpeg' -> 'test//apples//apples44.jpeg'\n",
      "[WinError 183] Halen varolan bir dosya oluşturulamaz: 'test//apples//apples5.jpeg' -> 'test//apples//apples45.jpeg'\n",
      "[WinError 183] Halen varolan bir dosya oluşturulamaz: 'test//apples//apples50.jpeg' -> 'test//apples//apples46.jpeg'\n",
      "[WinError 183] Halen varolan bir dosya oluşturulamaz: 'test//apples//apples51.jpeg' -> 'test//apples//apples47.jpeg'\n",
      "[WinError 183] Halen varolan bir dosya oluşturulamaz: 'test//apples//apples52.jpeg' -> 'test//apples//apples48.jpeg'\n",
      "[WinError 183] Halen varolan bir dosya oluşturulamaz: 'test//apples//apples53.jpeg' -> 'test//apples//apples49.jpeg'\n",
      "[WinError 183] Halen varolan bir dosya oluşturulamaz: 'test//apples//apples54.jpeg' -> 'test//apples//apples50.jpeg'\n",
      "[WinError 183] Halen varolan bir dosya oluşturulamaz: 'test//apples//apples6.jpeg' -> 'test//apples//apples51.jpeg'\n",
      "[WinError 183] Halen varolan bir dosya oluşturulamaz: 'test//apples//apples7.jpeg' -> 'test//apples//apples52.jpeg'\n",
      "[WinError 183] Halen varolan bir dosya oluşturulamaz: 'test//apples//apples8.jpeg' -> 'test//apples//apples53.jpeg'\n",
      "[WinError 183] Halen varolan bir dosya oluşturulamaz: 'test//apples//apples9.jpeg' -> 'test//apples//apples54.jpeg'\n",
      "[WinError 183] Halen varolan bir dosya oluşturulamaz: 'train//apples//apples10.jpeg' -> 'train//apples//apples2.jpeg'\n",
      "[WinError 183] Halen varolan bir dosya oluşturulamaz: 'train//apples//apples100.jpeg' -> 'train//apples//apples3.jpeg'\n",
      "[WinError 183] Halen varolan bir dosya oluşturulamaz: 'train//apples//apples101.jpeg' -> 'train//apples//apples4.jpeg'\n",
      "[WinError 183] Halen varolan bir dosya oluşturulamaz: 'train//apples//apples102.jpeg' -> 'train//apples//apples5.jpeg'\n",
      "[WinError 183] Halen varolan bir dosya oluşturulamaz: 'train//apples//apples103.jpeg' -> 'train//apples//apples6.jpeg'\n",
      "[WinError 183] Halen varolan bir dosya oluşturulamaz: 'train//apples//apples104.jpeg' -> 'train//apples//apples7.jpeg'\n",
      "[WinError 183] Halen varolan bir dosya oluşturulamaz: 'train//apples//apples106.jpeg' -> 'train//apples//apples9.jpeg'\n",
      "[WinError 183] Halen varolan bir dosya oluşturulamaz: 'train//apples//apples107.jpeg' -> 'train//apples//apples10.jpeg'\n",
      "[WinError 183] Halen varolan bir dosya oluşturulamaz: 'train//apples//apples108.jpeg' -> 'train//apples//apples11.jpeg'\n",
      "[WinError 183] Halen varolan bir dosya oluşturulamaz: 'train//apples//apples109.jpeg' -> 'train//apples//apples12.jpeg'\n",
      "[WinError 183] Halen varolan bir dosya oluşturulamaz: 'train//apples//apples11.jpeg' -> 'train//apples//apples13.jpeg'\n",
      "[WinError 183] Halen varolan bir dosya oluşturulamaz: 'train//apples//apples110.jpeg' -> 'train//apples//apples14.jpeg'\n",
      "[WinError 183] Halen varolan bir dosya oluşturulamaz: 'train//apples//apples111.jpeg' -> 'train//apples//apples15.jpeg'\n",
      "[WinError 183] Halen varolan bir dosya oluşturulamaz: 'train//apples//apples112.jpeg' -> 'train//apples//apples16.jpeg'\n",
      "[WinError 183] Halen varolan bir dosya oluşturulamaz: 'train//apples//apples113.jpeg' -> 'train//apples//apples17.jpeg'\n",
      "[WinError 183] Halen varolan bir dosya oluşturulamaz: 'train//apples//apples114.jpeg' -> 'train//apples//apples18.jpeg'\n",
      "[WinError 183] Halen varolan bir dosya oluşturulamaz: 'train//apples//apples115.jpeg' -> 'train//apples//apples19.jpeg'\n",
      "[WinError 183] Halen varolan bir dosya oluşturulamaz: 'train//apples//apples116.jpeg' -> 'train//apples//apples20.jpeg'\n",
      "[WinError 183] Halen varolan bir dosya oluşturulamaz: 'train//apples//apples117.jpeg' -> 'train//apples//apples21.jpeg'\n",
      "[WinError 183] Halen varolan bir dosya oluşturulamaz: 'train//apples//apples118.jpeg' -> 'train//apples//apples22.jpeg'\n",
      "[WinError 183] Halen varolan bir dosya oluşturulamaz: 'train//apples//apples119.jpeg' -> 'train//apples//apples23.jpeg'\n",
      "[WinError 183] Halen varolan bir dosya oluşturulamaz: 'train//apples//apples12.jpeg' -> 'train//apples//apples24.jpeg'\n",
      "[WinError 183] Halen varolan bir dosya oluşturulamaz: 'train//apples//apples120.jpeg' -> 'train//apples//apples25.jpeg'\n",
      "[WinError 183] Halen varolan bir dosya oluşturulamaz: 'train//apples//apples121.jpeg' -> 'train//apples//apples26.jpeg'\n",
      "[WinError 183] Halen varolan bir dosya oluşturulamaz: 'train//apples//apples122.jpeg' -> 'train//apples//apples27.jpeg'\n",
      "[WinError 183] Halen varolan bir dosya oluşturulamaz: 'train//apples//apples123.jpeg' -> 'train//apples//apples28.jpeg'\n",
      "[WinError 183] Halen varolan bir dosya oluşturulamaz: 'train//apples//apples124.jpeg' -> 'train//apples//apples29.jpeg'\n",
      "[WinError 183] Halen varolan bir dosya oluşturulamaz: 'train//apples//apples125.jpeg' -> 'train//apples//apples30.jpeg'\n",
      "[WinError 183] Halen varolan bir dosya oluşturulamaz: 'train//apples//apples126.jpeg' -> 'train//apples//apples31.jpeg'\n",
      "[WinError 183] Halen varolan bir dosya oluşturulamaz: 'train//apples//apples127.jpeg' -> 'train//apples//apples32.jpeg'\n",
      "[WinError 183] Halen varolan bir dosya oluşturulamaz: 'train//apples//apples128.jpeg' -> 'train//apples//apples33.jpeg'\n",
      "[WinError 183] Halen varolan bir dosya oluşturulamaz: 'train//apples//apples129.jpeg' -> 'train//apples//apples34.jpeg'\n",
      "[WinError 183] Halen varolan bir dosya oluşturulamaz: 'train//apples//apples13.jpeg' -> 'train//apples//apples35.jpeg'\n",
      "[WinError 183] Halen varolan bir dosya oluşturulamaz: 'train//apples//apples130.jpeg' -> 'train//apples//apples36.jpeg'\n",
      "[WinError 183] Halen varolan bir dosya oluşturulamaz: 'train//apples//apples131.jpeg' -> 'train//apples//apples37.jpeg'\n",
      "[WinError 183] Halen varolan bir dosya oluşturulamaz: 'train//apples//apples132.jpeg' -> 'train//apples//apples38.jpeg'\n",
      "[WinError 183] Halen varolan bir dosya oluşturulamaz: 'train//apples//apples133.jpeg' -> 'train//apples//apples39.jpeg'\n",
      "[WinError 183] Halen varolan bir dosya oluşturulamaz: 'train//apples//apples134.jpeg' -> 'train//apples//apples40.jpeg'\n",
      "[WinError 183] Halen varolan bir dosya oluşturulamaz: 'train//apples//apples136.jpeg' -> 'train//apples//apples42.jpeg'\n",
      "[WinError 183] Halen varolan bir dosya oluşturulamaz: 'train//apples//apples137.jpeg' -> 'train//apples//apples43.jpeg'\n",
      "[WinError 183] Halen varolan bir dosya oluşturulamaz: 'train//apples//apples138.jpeg' -> 'train//apples//apples44.jpeg'\n",
      "[WinError 183] Halen varolan bir dosya oluşturulamaz: 'train//apples//apples139.jpeg' -> 'train//apples//apples45.jpeg'\n",
      "[WinError 183] Halen varolan bir dosya oluşturulamaz: 'train//apples//apples14.jpeg' -> 'train//apples//apples46.jpeg'\n",
      "[WinError 183] Halen varolan bir dosya oluşturulamaz: 'train//apples//apples140.jpeg' -> 'train//apples//apples47.jpeg'\n",
      "[WinError 183] Halen varolan bir dosya oluşturulamaz: 'train//apples//apples141.jpeg' -> 'train//apples//apples48.jpeg'\n",
      "[WinError 183] Halen varolan bir dosya oluşturulamaz: 'train//apples//apples142.jpeg' -> 'train//apples//apples49.jpeg'\n",
      "[WinError 183] Halen varolan bir dosya oluşturulamaz: 'train//apples//apples143.jpeg' -> 'train//apples//apples50.jpeg'\n",
      "[WinError 183] Halen varolan bir dosya oluşturulamaz: 'train//apples//apples144.jpeg' -> 'train//apples//apples51.jpeg'\n",
      "[WinError 183] Halen varolan bir dosya oluşturulamaz: 'train//apples//apples145.jpeg' -> 'train//apples//apples52.jpeg'\n",
      "[WinError 183] Halen varolan bir dosya oluşturulamaz: 'train//apples//apples146.jpeg' -> 'train//apples//apples53.jpeg'\n",
      "[WinError 183] Halen varolan bir dosya oluşturulamaz: 'train//apples//apples147.jpeg' -> 'train//apples//apples54.jpeg'\n",
      "[WinError 183] Halen varolan bir dosya oluşturulamaz: 'train//apples//apples148.jpeg' -> 'train//apples//apples55.jpeg'\n",
      "[WinError 183] Halen varolan bir dosya oluşturulamaz: 'train//apples//apples149.jpeg' -> 'train//apples//apples56.jpeg'\n",
      "[WinError 183] Halen varolan bir dosya oluşturulamaz: 'train//apples//apples15.jpeg' -> 'train//apples//apples57.jpeg'\n",
      "[WinError 183] Halen varolan bir dosya oluşturulamaz: 'train//apples//apples150.jpeg' -> 'train//apples//apples58.jpeg'\n",
      "[WinError 183] Halen varolan bir dosya oluşturulamaz: 'train//apples//apples151.jpeg' -> 'train//apples//apples59.jpeg'\n",
      "[WinError 183] Halen varolan bir dosya oluşturulamaz: 'train//apples//apples152.jpeg' -> 'train//apples//apples60.jpeg'\n",
      "[WinError 183] Halen varolan bir dosya oluşturulamaz: 'train//apples//apples153.jpeg' -> 'train//apples//apples61.jpeg'\n",
      "[WinError 183] Halen varolan bir dosya oluşturulamaz: 'train//apples//apples154.jpeg' -> 'train//apples//apples62.jpeg'\n",
      "[WinError 183] Halen varolan bir dosya oluşturulamaz: 'train//apples//apples155.jpeg' -> 'train//apples//apples63.jpeg'\n",
      "[WinError 183] Halen varolan bir dosya oluşturulamaz: 'train//apples//apples156.jpeg' -> 'train//apples//apples64.jpeg'\n",
      "[WinError 183] Halen varolan bir dosya oluşturulamaz: 'train//apples//apples157.jpeg' -> 'train//apples//apples65.jpeg'\n",
      "[WinError 183] Halen varolan bir dosya oluşturulamaz: 'train//apples//apples158.jpeg' -> 'train//apples//apples66.jpeg'\n",
      "[WinError 183] Halen varolan bir dosya oluşturulamaz: 'train//apples//apples159.jpeg' -> 'train//apples//apples67.jpeg'\n",
      "[WinError 183] Halen varolan bir dosya oluşturulamaz: 'train//apples//apples16.jpeg' -> 'train//apples//apples68.jpeg'\n",
      "[WinError 183] Halen varolan bir dosya oluşturulamaz: 'train//apples//apples160.jpeg' -> 'train//apples//apples69.jpeg'\n",
      "[WinError 183] Halen varolan bir dosya oluşturulamaz: 'train//apples//apples162.jpeg' -> 'train//apples//apples70.jpeg'\n",
      "[WinError 183] Halen varolan bir dosya oluşturulamaz: 'train//apples//apples163.jpeg' -> 'train//apples//apples71.jpeg'\n",
      "[WinError 183] Halen varolan bir dosya oluşturulamaz: 'train//apples//apples164.jpeg' -> 'train//apples//apples72.jpeg'\n",
      "[WinError 183] Halen varolan bir dosya oluşturulamaz: 'train//apples//apples17.jpeg' -> 'train//apples//apples73.jpeg'\n",
      "[WinError 183] Halen varolan bir dosya oluşturulamaz: 'train//apples//apples18.jpeg' -> 'train//apples//apples74.jpeg'\n",
      "[WinError 183] Halen varolan bir dosya oluşturulamaz: 'train//apples//apples19.jpeg' -> 'train//apples//apples75.jpeg'\n",
      "[WinError 183] Halen varolan bir dosya oluşturulamaz: 'train//apples//apples2.jpeg' -> 'train//apples//apples76.jpeg'\n",
      "[WinError 183] Halen varolan bir dosya oluşturulamaz: 'train//apples//apples20.jpeg' -> 'train//apples//apples77.jpeg'\n",
      "[WinError 183] Halen varolan bir dosya oluşturulamaz: 'train//apples//apples21.jpeg' -> 'train//apples//apples78.jpeg'\n",
      "[WinError 183] Halen varolan bir dosya oluşturulamaz: 'train//apples//apples22.jpeg' -> 'train//apples//apples79.jpeg'\n",
      "[WinError 183] Halen varolan bir dosya oluşturulamaz: 'train//apples//apples23.jpeg' -> 'train//apples//apples80.jpeg'\n",
      "[WinError 183] Halen varolan bir dosya oluşturulamaz: 'train//apples//apples24.jpeg' -> 'train//apples//apples81.jpeg'\n",
      "[WinError 183] Halen varolan bir dosya oluşturulamaz: 'train//apples//apples25.jpeg' -> 'train//apples//apples82.jpeg'\n",
      "[WinError 183] Halen varolan bir dosya oluşturulamaz: 'train//apples//apples26.jpeg' -> 'train//apples//apples83.jpeg'\n",
      "[WinError 183] Halen varolan bir dosya oluşturulamaz: 'train//apples//apples27.jpeg' -> 'train//apples//apples84.jpeg'\n",
      "[WinError 183] Halen varolan bir dosya oluşturulamaz: 'train//apples//apples28.jpeg' -> 'train//apples//apples85.jpeg'\n",
      "[WinError 183] Halen varolan bir dosya oluşturulamaz: 'train//apples//apples29.jpeg' -> 'train//apples//apples86.jpeg'\n",
      "[WinError 183] Halen varolan bir dosya oluşturulamaz: 'train//apples//apples3.jpeg' -> 'train//apples//apples87.jpeg'\n",
      "[WinError 183] Halen varolan bir dosya oluşturulamaz: 'train//apples//apples30.jpeg' -> 'train//apples//apples88.jpeg'\n",
      "[WinError 183] Halen varolan bir dosya oluşturulamaz: 'train//apples//apples31.jpeg' -> 'train//apples//apples89.jpeg'\n",
      "[WinError 183] Halen varolan bir dosya oluşturulamaz: 'train//apples//apples32.jpeg' -> 'train//apples//apples90.jpeg'\n",
      "[WinError 183] Halen varolan bir dosya oluşturulamaz: 'train//apples//apples34.jpeg' -> 'train//apples//apples92.jpeg'\n",
      "[WinError 183] Halen varolan bir dosya oluşturulamaz: 'train//apples//apples35.jpeg' -> 'train//apples//apples93.jpeg'\n",
      "[WinError 183] Halen varolan bir dosya oluşturulamaz: 'train//apples//apples36.jpeg' -> 'train//apples//apples94.jpeg'\n",
      "[WinError 183] Halen varolan bir dosya oluşturulamaz: 'train//apples//apples37.jpeg' -> 'train//apples//apples95.jpeg'\n",
      "[WinError 183] Halen varolan bir dosya oluşturulamaz: 'train//apples//apples38.jpeg' -> 'train//apples//apples96.jpeg'\n",
      "[WinError 183] Halen varolan bir dosya oluşturulamaz: 'train//apples//apples39.jpeg' -> 'train//apples//apples97.jpeg'\n",
      "[WinError 183] Halen varolan bir dosya oluşturulamaz: 'train//apples//apples4.jpeg' -> 'train//apples//apples98.jpeg'\n",
      "[WinError 183] Halen varolan bir dosya oluşturulamaz: 'train//apples//apples40.jpeg' -> 'train//apples//apples99.jpeg'\n",
      "[WinError 183] Halen varolan bir dosya oluşturulamaz: 'train//apples//apples42.jpeg' -> 'train//apples//apples100.jpeg'\n",
      "[WinError 183] Halen varolan bir dosya oluşturulamaz: 'train//apples//apples43.jpeg' -> 'train//apples//apples101.jpeg'\n",
      "[WinError 183] Halen varolan bir dosya oluşturulamaz: 'train//apples//apples44.jpeg' -> 'train//apples//apples102.jpeg'\n",
      "[WinError 183] Halen varolan bir dosya oluşturulamaz: 'train//apples//apples45.jpeg' -> 'train//apples//apples103.jpeg'\n",
      "[WinError 183] Halen varolan bir dosya oluşturulamaz: 'train//apples//apples46.jpeg' -> 'train//apples//apples104.jpeg'\n",
      "[WinError 183] Halen varolan bir dosya oluşturulamaz: 'train//apples//apples48.jpeg' -> 'train//apples//apples106.jpeg'\n",
      "[WinError 183] Halen varolan bir dosya oluşturulamaz: 'train//apples//apples49.jpeg' -> 'train//apples//apples107.jpeg'\n",
      "[WinError 183] Halen varolan bir dosya oluşturulamaz: 'train//apples//apples5.jpeg' -> 'train//apples//apples108.jpeg'\n",
      "[WinError 183] Halen varolan bir dosya oluşturulamaz: 'train//apples//apples50.jpeg' -> 'train//apples//apples109.jpeg'\n",
      "[WinError 183] Halen varolan bir dosya oluşturulamaz: 'train//apples//apples51.jpeg' -> 'train//apples//apples110.jpeg'\n",
      "[WinError 183] Halen varolan bir dosya oluşturulamaz: 'train//apples//apples52.jpeg' -> 'train//apples//apples111.jpeg'\n",
      "[WinError 183] Halen varolan bir dosya oluşturulamaz: 'train//apples//apples53.jpeg' -> 'train//apples//apples112.jpeg'\n",
      "[WinError 183] Halen varolan bir dosya oluşturulamaz: 'train//apples//apples54.jpeg' -> 'train//apples//apples113.jpeg'\n",
      "[WinError 183] Halen varolan bir dosya oluşturulamaz: 'train//apples//apples55.jpeg' -> 'train//apples//apples114.jpeg'\n",
      "[WinError 183] Halen varolan bir dosya oluşturulamaz: 'train//apples//apples56.jpeg' -> 'train//apples//apples115.jpeg'\n",
      "[WinError 183] Halen varolan bir dosya oluşturulamaz: 'train//apples//apples57.jpeg' -> 'train//apples//apples116.jpeg'\n",
      "[WinError 183] Halen varolan bir dosya oluşturulamaz: 'train//apples//apples58.jpeg' -> 'train//apples//apples117.jpeg'\n",
      "[WinError 183] Halen varolan bir dosya oluşturulamaz: 'train//apples//apples59.jpeg' -> 'train//apples//apples118.jpeg'\n",
      "[WinError 183] Halen varolan bir dosya oluşturulamaz: 'train//apples//apples6.jpeg' -> 'train//apples//apples119.jpeg'\n",
      "[WinError 183] Halen varolan bir dosya oluşturulamaz: 'train//apples//apples60.jpeg' -> 'train//apples//apples120.jpeg'\n",
      "[WinError 183] Halen varolan bir dosya oluşturulamaz: 'train//apples//apples61.jpeg' -> 'train//apples//apples121.jpeg'\n",
      "[WinError 183] Halen varolan bir dosya oluşturulamaz: 'train//apples//apples62.jpeg' -> 'train//apples//apples122.jpeg'\n",
      "[WinError 183] Halen varolan bir dosya oluşturulamaz: 'train//apples//apples63.jpeg' -> 'train//apples//apples123.jpeg'\n",
      "[WinError 183] Halen varolan bir dosya oluşturulamaz: 'train//apples//apples64.jpeg' -> 'train//apples//apples124.jpeg'\n",
      "[WinError 183] Halen varolan bir dosya oluşturulamaz: 'train//apples//apples65.jpeg' -> 'train//apples//apples125.jpeg'\n",
      "[WinError 183] Halen varolan bir dosya oluşturulamaz: 'train//apples//apples66.jpeg' -> 'train//apples//apples126.jpeg'\n",
      "[WinError 183] Halen varolan bir dosya oluşturulamaz: 'train//apples//apples67.jpeg' -> 'train//apples//apples127.jpeg'\n",
      "[WinError 183] Halen varolan bir dosya oluşturulamaz: 'train//apples//apples68.jpeg' -> 'train//apples//apples128.jpeg'\n",
      "[WinError 183] Halen varolan bir dosya oluşturulamaz: 'train//apples//apples69.jpeg' -> 'train//apples//apples129.jpeg'\n",
      "[WinError 183] Halen varolan bir dosya oluşturulamaz: 'train//apples//apples7.jpeg' -> 'train//apples//apples130.jpeg'\n",
      "[WinError 183] Halen varolan bir dosya oluşturulamaz: 'train//apples//apples70.jpeg' -> 'train//apples//apples131.jpeg'\n",
      "[WinError 183] Halen varolan bir dosya oluşturulamaz: 'train//apples//apples71.jpeg' -> 'train//apples//apples132.jpeg'\n",
      "[WinError 183] Halen varolan bir dosya oluşturulamaz: 'train//apples//apples72.jpeg' -> 'train//apples//apples133.jpeg'\n",
      "[WinError 183] Halen varolan bir dosya oluşturulamaz: 'train//apples//apples73.jpeg' -> 'train//apples//apples134.jpeg'\n",
      "[WinError 183] Halen varolan bir dosya oluşturulamaz: 'train//apples//apples75.jpeg' -> 'train//apples//apples136.jpeg'\n",
      "[WinError 183] Halen varolan bir dosya oluşturulamaz: 'train//apples//apples76.jpeg' -> 'train//apples//apples137.jpeg'\n",
      "[WinError 183] Halen varolan bir dosya oluşturulamaz: 'train//apples//apples77.jpeg' -> 'train//apples//apples138.jpeg'\n",
      "[WinError 183] Halen varolan bir dosya oluşturulamaz: 'train//apples//apples78.jpeg' -> 'train//apples//apples139.jpeg'\n",
      "[WinError 183] Halen varolan bir dosya oluşturulamaz: 'train//apples//apples79.jpeg' -> 'train//apples//apples140.jpeg'\n",
      "[WinError 183] Halen varolan bir dosya oluşturulamaz: 'train//apples//apples80.jpeg' -> 'train//apples//apples141.jpeg'\n",
      "[WinError 183] Halen varolan bir dosya oluşturulamaz: 'train//apples//apples81.jpeg' -> 'train//apples//apples142.jpeg'\n",
      "[WinError 183] Halen varolan bir dosya oluşturulamaz: 'train//apples//apples82.jpeg' -> 'train//apples//apples143.jpeg'\n",
      "[WinError 183] Halen varolan bir dosya oluşturulamaz: 'train//apples//apples83.jpeg' -> 'train//apples//apples144.jpeg'\n",
      "[WinError 183] Halen varolan bir dosya oluşturulamaz: 'train//apples//apples84.jpeg' -> 'train//apples//apples145.jpeg'\n",
      "[WinError 183] Halen varolan bir dosya oluşturulamaz: 'train//apples//apples85.jpeg' -> 'train//apples//apples146.jpeg'\n",
      "[WinError 183] Halen varolan bir dosya oluşturulamaz: 'train//apples//apples86.jpeg' -> 'train//apples//apples147.jpeg'\n",
      "[WinError 183] Halen varolan bir dosya oluşturulamaz: 'train//apples//apples87.jpeg' -> 'train//apples//apples148.jpeg'\n",
      "[WinError 183] Halen varolan bir dosya oluşturulamaz: 'train//apples//apples88.jpeg' -> 'train//apples//apples149.jpeg'\n",
      "[WinError 183] Halen varolan bir dosya oluşturulamaz: 'train//apples//apples89.jpeg' -> 'train//apples//apples150.jpeg'\n",
      "[WinError 183] Halen varolan bir dosya oluşturulamaz: 'train//apples//apples9.jpeg' -> 'train//apples//apples151.jpeg'\n",
      "[WinError 183] Halen varolan bir dosya oluşturulamaz: 'train//apples//apples90.jpeg' -> 'train//apples//apples152.jpeg'\n",
      "[WinError 183] Halen varolan bir dosya oluşturulamaz: 'train//apples//apples92.jpeg' -> 'train//apples//apples153.jpeg'\n",
      "[WinError 183] Halen varolan bir dosya oluşturulamaz: 'train//apples//apples93.jpeg' -> 'train//apples//apples154.jpeg'\n",
      "[WinError 183] Halen varolan bir dosya oluşturulamaz: 'train//apples//apples94.jpeg' -> 'train//apples//apples155.jpeg'\n",
      "[WinError 183] Halen varolan bir dosya oluşturulamaz: 'train//apples//apples95.jpeg' -> 'train//apples//apples156.jpeg'\n",
      "[WinError 183] Halen varolan bir dosya oluşturulamaz: 'train//apples//apples96.jpeg' -> 'train//apples//apples157.jpeg'\n",
      "[WinError 183] Halen varolan bir dosya oluşturulamaz: 'train//apples//apples97.jpeg' -> 'train//apples//apples158.jpeg'\n",
      "[WinError 183] Halen varolan bir dosya oluşturulamaz: 'train//apples//apples98.jpeg' -> 'train//apples//apples159.jpeg'\n",
      "[WinError 183] Halen varolan bir dosya oluşturulamaz: 'train//apples//apples99.jpeg' -> 'train//apples//apples160.jpeg'\n",
      "[WinError 183] Halen varolan bir dosya oluşturulamaz: 'test//tomatoes//tomatoes10.jpeg' -> 'test//tomatoes//tomatoes2.jpeg'\n",
      "[WinError 183] Halen varolan bir dosya oluşturulamaz: 'test//tomatoes//tomatoes11.jpeg' -> 'test//tomatoes//tomatoes3.jpeg'\n",
      "[WinError 183] Halen varolan bir dosya oluşturulamaz: 'test//tomatoes//tomatoes12.jpeg' -> 'test//tomatoes//tomatoes4.jpeg'\n",
      "[WinError 183] Halen varolan bir dosya oluşturulamaz: 'test//tomatoes//tomatoes13.jpeg' -> 'test//tomatoes//tomatoes5.jpeg'\n",
      "[WinError 183] Halen varolan bir dosya oluşturulamaz: 'test//tomatoes//tomatoes14.jpeg' -> 'test//tomatoes//tomatoes6.jpeg'\n",
      "[WinError 183] Halen varolan bir dosya oluşturulamaz: 'test//tomatoes//tomatoes15.jpeg' -> 'test//tomatoes//tomatoes7.jpeg'\n",
      "[WinError 183] Halen varolan bir dosya oluşturulamaz: 'test//tomatoes//tomatoes16.jpeg' -> 'test//tomatoes//tomatoes8.jpeg'\n",
      "[WinError 183] Halen varolan bir dosya oluşturulamaz: 'test//tomatoes//tomatoes17.jpeg' -> 'test//tomatoes//tomatoes9.jpeg'\n",
      "[WinError 183] Halen varolan bir dosya oluşturulamaz: 'test//tomatoes//tomatoes18.jpeg' -> 'test//tomatoes//tomatoes10.jpeg'\n",
      "[WinError 183] Halen varolan bir dosya oluşturulamaz: 'test//tomatoes//tomatoes19.jpeg' -> 'test//tomatoes//tomatoes11.jpeg'\n",
      "[WinError 183] Halen varolan bir dosya oluşturulamaz: 'test//tomatoes//tomatoes2.jpeg' -> 'test//tomatoes//tomatoes12.jpeg'\n",
      "[WinError 183] Halen varolan bir dosya oluşturulamaz: 'test//tomatoes//tomatoes20.jpeg' -> 'test//tomatoes//tomatoes13.jpeg'\n",
      "[WinError 183] Halen varolan bir dosya oluşturulamaz: 'test//tomatoes//tomatoes21.jpeg' -> 'test//tomatoes//tomatoes14.jpeg'\n",
      "[WinError 183] Halen varolan bir dosya oluşturulamaz: 'test//tomatoes//tomatoes22.jpeg' -> 'test//tomatoes//tomatoes15.jpeg'\n",
      "[WinError 183] Halen varolan bir dosya oluşturulamaz: 'test//tomatoes//tomatoes23.jpeg' -> 'test//tomatoes//tomatoes16.jpeg'\n",
      "[WinError 183] Halen varolan bir dosya oluşturulamaz: 'test//tomatoes//tomatoes24.jpeg' -> 'test//tomatoes//tomatoes17.jpeg'\n",
      "[WinError 183] Halen varolan bir dosya oluşturulamaz: 'test//tomatoes//tomatoes25.jpeg' -> 'test//tomatoes//tomatoes18.jpeg'\n",
      "[WinError 183] Halen varolan bir dosya oluşturulamaz: 'test//tomatoes//tomatoes26.jpeg' -> 'test//tomatoes//tomatoes19.jpeg'\n",
      "[WinError 183] Halen varolan bir dosya oluşturulamaz: 'test//tomatoes//tomatoes27.jpeg' -> 'test//tomatoes//tomatoes20.jpeg'\n",
      "[WinError 183] Halen varolan bir dosya oluşturulamaz: 'test//tomatoes//tomatoes28.jpeg' -> 'test//tomatoes//tomatoes21.jpeg'\n",
      "[WinError 183] Halen varolan bir dosya oluşturulamaz: 'test//tomatoes//tomatoes29.jpeg' -> 'test//tomatoes//tomatoes22.jpeg'\n",
      "[WinError 183] Halen varolan bir dosya oluşturulamaz: 'test//tomatoes//tomatoes3.jpeg' -> 'test//tomatoes//tomatoes23.jpeg'\n",
      "[WinError 183] Halen varolan bir dosya oluşturulamaz: 'test//tomatoes//tomatoes30.jpeg' -> 'test//tomatoes//tomatoes24.jpeg'\n",
      "[WinError 183] Halen varolan bir dosya oluşturulamaz: 'test//tomatoes//tomatoes31.jpeg' -> 'test//tomatoes//tomatoes25.jpeg'\n",
      "[WinError 183] Halen varolan bir dosya oluşturulamaz: 'test//tomatoes//tomatoes32.jpeg' -> 'test//tomatoes//tomatoes26.jpeg'\n",
      "[WinError 183] Halen varolan bir dosya oluşturulamaz: 'test//tomatoes//tomatoes33.jpeg' -> 'test//tomatoes//tomatoes27.jpeg'\n",
      "[WinError 183] Halen varolan bir dosya oluşturulamaz: 'test//tomatoes//tomatoes34.jpeg' -> 'test//tomatoes//tomatoes28.jpeg'\n",
      "[WinError 183] Halen varolan bir dosya oluşturulamaz: 'test//tomatoes//tomatoes35.jpeg' -> 'test//tomatoes//tomatoes29.jpeg'\n",
      "[WinError 183] Halen varolan bir dosya oluşturulamaz: 'test//tomatoes//tomatoes36.jpeg' -> 'test//tomatoes//tomatoes30.jpeg'\n",
      "[WinError 183] Halen varolan bir dosya oluşturulamaz: 'test//tomatoes//tomatoes37.jpeg' -> 'test//tomatoes//tomatoes31.jpeg'\n",
      "[WinError 183] Halen varolan bir dosya oluşturulamaz: 'test//tomatoes//tomatoes38.jpeg' -> 'test//tomatoes//tomatoes32.jpeg'\n",
      "[WinError 183] Halen varolan bir dosya oluşturulamaz: 'test//tomatoes//tomatoes39.jpeg' -> 'test//tomatoes//tomatoes33.jpeg'\n",
      "[WinError 183] Halen varolan bir dosya oluşturulamaz: 'test//tomatoes//tomatoes4.jpeg' -> 'test//tomatoes//tomatoes34.jpeg'\n",
      "[WinError 183] Halen varolan bir dosya oluşturulamaz: 'test//tomatoes//tomatoes40.jpeg' -> 'test//tomatoes//tomatoes35.jpeg'\n",
      "[WinError 183] Halen varolan bir dosya oluşturulamaz: 'test//tomatoes//tomatoes41.jpeg' -> 'test//tomatoes//tomatoes36.jpeg'\n",
      "[WinError 183] Halen varolan bir dosya oluşturulamaz: 'test//tomatoes//tomatoes42.jpeg' -> 'test//tomatoes//tomatoes37.jpeg'\n",
      "[WinError 183] Halen varolan bir dosya oluşturulamaz: 'test//tomatoes//tomatoes43.jpeg' -> 'test//tomatoes//tomatoes38.jpeg'\n",
      "[WinError 183] Halen varolan bir dosya oluşturulamaz: 'test//tomatoes//tomatoes5.jpeg' -> 'test//tomatoes//tomatoes39.jpeg'\n",
      "[WinError 183] Halen varolan bir dosya oluşturulamaz: 'test//tomatoes//tomatoes6.jpeg' -> 'test//tomatoes//tomatoes40.jpeg'\n",
      "[WinError 183] Halen varolan bir dosya oluşturulamaz: 'test//tomatoes//tomatoes7.jpeg' -> 'test//tomatoes//tomatoes41.jpeg'\n",
      "[WinError 183] Halen varolan bir dosya oluşturulamaz: 'test//tomatoes//tomatoes8.jpeg' -> 'test//tomatoes//tomatoes42.jpeg'\n",
      "[WinError 183] Halen varolan bir dosya oluşturulamaz: 'test//tomatoes//tomatoes9.jpeg' -> 'test//tomatoes//tomatoes43.jpeg'\n",
      "[WinError 183] Halen varolan bir dosya oluşturulamaz: 'train//tomatoes//tomatoes10.jpeg' -> 'train//tomatoes//tomatoes2.jpeg'\n",
      "[WinError 183] Halen varolan bir dosya oluşturulamaz: 'train//tomatoes//tomatoes100.jpeg' -> 'train//tomatoes//tomatoes3.jpeg'\n",
      "[WinError 183] Halen varolan bir dosya oluşturulamaz: 'train//tomatoes//tomatoes101.jpeg' -> 'train//tomatoes//tomatoes4.jpeg'\n",
      "[WinError 183] Halen varolan bir dosya oluşturulamaz: 'train//tomatoes//tomatoes102.jpeg' -> 'train//tomatoes//tomatoes5.jpeg'\n",
      "[WinError 183] Halen varolan bir dosya oluşturulamaz: 'train//tomatoes//tomatoes103.jpeg' -> 'train//tomatoes//tomatoes6.jpeg'\n",
      "[WinError 183] Halen varolan bir dosya oluşturulamaz: 'train//tomatoes//tomatoes104.jpeg' -> 'train//tomatoes//tomatoes7.jpeg'\n",
      "[WinError 183] Halen varolan bir dosya oluşturulamaz: 'train//tomatoes//tomatoes105.jpeg' -> 'train//tomatoes//tomatoes8.jpeg'\n",
      "[WinError 183] Halen varolan bir dosya oluşturulamaz: 'train//tomatoes//tomatoes106.jpeg' -> 'train//tomatoes//tomatoes9.jpeg'\n",
      "[WinError 183] Halen varolan bir dosya oluşturulamaz: 'train//tomatoes//tomatoes107.jpeg' -> 'train//tomatoes//tomatoes10.jpeg'\n",
      "[WinError 183] Halen varolan bir dosya oluşturulamaz: 'train//tomatoes//tomatoes108.jpeg' -> 'train//tomatoes//tomatoes11.jpeg'\n",
      "[WinError 183] Halen varolan bir dosya oluşturulamaz: 'train//tomatoes//tomatoes109.jpeg' -> 'train//tomatoes//tomatoes12.jpeg'\n",
      "[WinError 183] Halen varolan bir dosya oluşturulamaz: 'train//tomatoes//tomatoes11.jpeg' -> 'train//tomatoes//tomatoes13.jpeg'\n",
      "[WinError 183] Halen varolan bir dosya oluşturulamaz: 'train//tomatoes//tomatoes110.jpeg' -> 'train//tomatoes//tomatoes14.jpeg'\n",
      "[WinError 183] Halen varolan bir dosya oluşturulamaz: 'train//tomatoes//tomatoes111.jpeg' -> 'train//tomatoes//tomatoes15.jpeg'\n",
      "[WinError 183] Halen varolan bir dosya oluşturulamaz: 'train//tomatoes//tomatoes112.jpeg' -> 'train//tomatoes//tomatoes16.jpeg'\n",
      "[WinError 183] Halen varolan bir dosya oluşturulamaz: 'train//tomatoes//tomatoes113.jpeg' -> 'train//tomatoes//tomatoes17.jpeg'\n",
      "[WinError 183] Halen varolan bir dosya oluşturulamaz: 'train//tomatoes//tomatoes114.jpeg' -> 'train//tomatoes//tomatoes18.jpeg'\n",
      "[WinError 183] Halen varolan bir dosya oluşturulamaz: 'train//tomatoes//tomatoes115.jpeg' -> 'train//tomatoes//tomatoes19.jpeg'\n",
      "[WinError 183] Halen varolan bir dosya oluşturulamaz: 'train//tomatoes//tomatoes116.jpeg' -> 'train//tomatoes//tomatoes20.jpeg'\n",
      "[WinError 183] Halen varolan bir dosya oluşturulamaz: 'train//tomatoes//tomatoes117.jpeg' -> 'train//tomatoes//tomatoes21.jpeg'\n",
      "[WinError 183] Halen varolan bir dosya oluşturulamaz: 'train//tomatoes//tomatoes118.jpeg' -> 'train//tomatoes//tomatoes22.jpeg'\n",
      "[WinError 183] Halen varolan bir dosya oluşturulamaz: 'train//tomatoes//tomatoes119.jpeg' -> 'train//tomatoes//tomatoes23.jpeg'\n",
      "[WinError 183] Halen varolan bir dosya oluşturulamaz: 'train//tomatoes//tomatoes12.jpeg' -> 'train//tomatoes//tomatoes24.jpeg'\n",
      "[WinError 183] Halen varolan bir dosya oluşturulamaz: 'train//tomatoes//tomatoes120.jpeg' -> 'train//tomatoes//tomatoes25.jpeg'\n",
      "[WinError 183] Halen varolan bir dosya oluşturulamaz: 'train//tomatoes//tomatoes121.jpeg' -> 'train//tomatoes//tomatoes26.jpeg'\n",
      "[WinError 183] Halen varolan bir dosya oluşturulamaz: 'train//tomatoes//tomatoes122.jpeg' -> 'train//tomatoes//tomatoes27.jpeg'\n",
      "[WinError 183] Halen varolan bir dosya oluşturulamaz: 'train//tomatoes//tomatoes123.jpeg' -> 'train//tomatoes//tomatoes28.jpeg'\n",
      "[WinError 183] Halen varolan bir dosya oluşturulamaz: 'train//tomatoes//tomatoes124.jpeg' -> 'train//tomatoes//tomatoes29.jpeg'\n",
      "[WinError 183] Halen varolan bir dosya oluşturulamaz: 'train//tomatoes//tomatoes125.jpeg' -> 'train//tomatoes//tomatoes30.jpeg'\n",
      "[WinError 183] Halen varolan bir dosya oluşturulamaz: 'train//tomatoes//tomatoes126.jpeg' -> 'train//tomatoes//tomatoes31.jpeg'\n",
      "[WinError 183] Halen varolan bir dosya oluşturulamaz: 'train//tomatoes//tomatoes127.jpeg' -> 'train//tomatoes//tomatoes32.jpeg'\n",
      "[WinError 183] Halen varolan bir dosya oluşturulamaz: 'train//tomatoes//tomatoes128.jpeg' -> 'train//tomatoes//tomatoes33.jpeg'\n",
      "[WinError 183] Halen varolan bir dosya oluşturulamaz: 'train//tomatoes//tomatoes129.jpeg' -> 'train//tomatoes//tomatoes34.jpeg'\n",
      "[WinError 183] Halen varolan bir dosya oluşturulamaz: 'train//tomatoes//tomatoes13.jpeg' -> 'train//tomatoes//tomatoes35.jpeg'\n",
      "[WinError 183] Halen varolan bir dosya oluşturulamaz: 'train//tomatoes//tomatoes130.jpeg' -> 'train//tomatoes//tomatoes36.jpeg'\n",
      "[WinError 183] Halen varolan bir dosya oluşturulamaz: 'train//tomatoes//tomatoes14.jpeg' -> 'train//tomatoes//tomatoes37.jpeg'\n",
      "[WinError 183] Halen varolan bir dosya oluşturulamaz: 'train//tomatoes//tomatoes15.jpeg' -> 'train//tomatoes//tomatoes38.jpeg'\n",
      "[WinError 183] Halen varolan bir dosya oluşturulamaz: 'train//tomatoes//tomatoes16.jpeg' -> 'train//tomatoes//tomatoes39.jpeg'\n",
      "[WinError 183] Halen varolan bir dosya oluşturulamaz: 'train//tomatoes//tomatoes17.jpeg' -> 'train//tomatoes//tomatoes40.jpeg'\n",
      "[WinError 183] Halen varolan bir dosya oluşturulamaz: 'train//tomatoes//tomatoes18.jpeg' -> 'train//tomatoes//tomatoes41.jpeg'\n",
      "[WinError 183] Halen varolan bir dosya oluşturulamaz: 'train//tomatoes//tomatoes19.jpeg' -> 'train//tomatoes//tomatoes42.jpeg'\n",
      "[WinError 183] Halen varolan bir dosya oluşturulamaz: 'train//tomatoes//tomatoes2.jpeg' -> 'train//tomatoes//tomatoes43.jpeg'\n",
      "[WinError 183] Halen varolan bir dosya oluşturulamaz: 'train//tomatoes//tomatoes20.jpeg' -> 'train//tomatoes//tomatoes44.jpeg'\n",
      "[WinError 183] Halen varolan bir dosya oluşturulamaz: 'train//tomatoes//tomatoes21.jpeg' -> 'train//tomatoes//tomatoes45.jpeg'\n",
      "[WinError 183] Halen varolan bir dosya oluşturulamaz: 'train//tomatoes//tomatoes22.jpeg' -> 'train//tomatoes//tomatoes46.jpeg'\n",
      "[WinError 183] Halen varolan bir dosya oluşturulamaz: 'train//tomatoes//tomatoes23.jpeg' -> 'train//tomatoes//tomatoes47.jpeg'\n",
      "[WinError 183] Halen varolan bir dosya oluşturulamaz: 'train//tomatoes//tomatoes24.jpeg' -> 'train//tomatoes//tomatoes48.jpeg'\n",
      "[WinError 183] Halen varolan bir dosya oluşturulamaz: 'train//tomatoes//tomatoes25.jpeg' -> 'train//tomatoes//tomatoes49.jpeg'\n",
      "[WinError 183] Halen varolan bir dosya oluşturulamaz: 'train//tomatoes//tomatoes26.jpeg' -> 'train//tomatoes//tomatoes50.jpeg'\n",
      "[WinError 183] Halen varolan bir dosya oluşturulamaz: 'train//tomatoes//tomatoes27.jpeg' -> 'train//tomatoes//tomatoes51.jpeg'\n",
      "[WinError 183] Halen varolan bir dosya oluşturulamaz: 'train//tomatoes//tomatoes28.jpeg' -> 'train//tomatoes//tomatoes52.jpeg'\n",
      "[WinError 183] Halen varolan bir dosya oluşturulamaz: 'train//tomatoes//tomatoes29.jpeg' -> 'train//tomatoes//tomatoes53.jpeg'\n",
      "[WinError 183] Halen varolan bir dosya oluşturulamaz: 'train//tomatoes//tomatoes3.jpeg' -> 'train//tomatoes//tomatoes54.jpeg'\n",
      "[WinError 183] Halen varolan bir dosya oluşturulamaz: 'train//tomatoes//tomatoes30.jpeg' -> 'train//tomatoes//tomatoes55.jpeg'\n",
      "[WinError 183] Halen varolan bir dosya oluşturulamaz: 'train//tomatoes//tomatoes31.jpeg' -> 'train//tomatoes//tomatoes56.jpeg'\n",
      "[WinError 183] Halen varolan bir dosya oluşturulamaz: 'train//tomatoes//tomatoes32.jpeg' -> 'train//tomatoes//tomatoes57.jpeg'\n",
      "[WinError 183] Halen varolan bir dosya oluşturulamaz: 'train//tomatoes//tomatoes33.jpeg' -> 'train//tomatoes//tomatoes58.jpeg'\n",
      "[WinError 183] Halen varolan bir dosya oluşturulamaz: 'train//tomatoes//tomatoes34.jpeg' -> 'train//tomatoes//tomatoes59.jpeg'\n",
      "[WinError 183] Halen varolan bir dosya oluşturulamaz: 'train//tomatoes//tomatoes35.jpeg' -> 'train//tomatoes//tomatoes60.jpeg'\n",
      "[WinError 183] Halen varolan bir dosya oluşturulamaz: 'train//tomatoes//tomatoes36.jpeg' -> 'train//tomatoes//tomatoes61.jpeg'\n",
      "[WinError 183] Halen varolan bir dosya oluşturulamaz: 'train//tomatoes//tomatoes37.jpeg' -> 'train//tomatoes//tomatoes62.jpeg'\n",
      "[WinError 183] Halen varolan bir dosya oluşturulamaz: 'train//tomatoes//tomatoes38.jpeg' -> 'train//tomatoes//tomatoes63.jpeg'\n",
      "[WinError 183] Halen varolan bir dosya oluşturulamaz: 'train//tomatoes//tomatoes39.jpeg' -> 'train//tomatoes//tomatoes64.jpeg'\n",
      "[WinError 183] Halen varolan bir dosya oluşturulamaz: 'train//tomatoes//tomatoes4.jpeg' -> 'train//tomatoes//tomatoes65.jpeg'\n",
      "[WinError 183] Halen varolan bir dosya oluşturulamaz: 'train//tomatoes//tomatoes40.jpeg' -> 'train//tomatoes//tomatoes66.jpeg'\n",
      "[WinError 183] Halen varolan bir dosya oluşturulamaz: 'train//tomatoes//tomatoes41.jpeg' -> 'train//tomatoes//tomatoes67.jpeg'\n",
      "[WinError 183] Halen varolan bir dosya oluşturulamaz: 'train//tomatoes//tomatoes42.jpeg' -> 'train//tomatoes//tomatoes68.jpeg'\n",
      "[WinError 183] Halen varolan bir dosya oluşturulamaz: 'train//tomatoes//tomatoes43.jpeg' -> 'train//tomatoes//tomatoes69.jpeg'\n",
      "[WinError 183] Halen varolan bir dosya oluşturulamaz: 'train//tomatoes//tomatoes44.jpeg' -> 'train//tomatoes//tomatoes70.jpeg'\n",
      "[WinError 183] Halen varolan bir dosya oluşturulamaz: 'train//tomatoes//tomatoes45.jpeg' -> 'train//tomatoes//tomatoes71.jpeg'\n",
      "[WinError 183] Halen varolan bir dosya oluşturulamaz: 'train//tomatoes//tomatoes46.jpeg' -> 'train//tomatoes//tomatoes72.jpeg'\n",
      "[WinError 183] Halen varolan bir dosya oluşturulamaz: 'train//tomatoes//tomatoes47.jpeg' -> 'train//tomatoes//tomatoes73.jpeg'\n",
      "[WinError 183] Halen varolan bir dosya oluşturulamaz: 'train//tomatoes//tomatoes48.jpeg' -> 'train//tomatoes//tomatoes74.jpeg'\n",
      "[WinError 183] Halen varolan bir dosya oluşturulamaz: 'train//tomatoes//tomatoes49.jpeg' -> 'train//tomatoes//tomatoes75.jpeg'\n",
      "[WinError 183] Halen varolan bir dosya oluşturulamaz: 'train//tomatoes//tomatoes5.jpeg' -> 'train//tomatoes//tomatoes76.jpeg'\n",
      "[WinError 183] Halen varolan bir dosya oluşturulamaz: 'train//tomatoes//tomatoes50.jpeg' -> 'train//tomatoes//tomatoes77.jpeg'\n",
      "[WinError 183] Halen varolan bir dosya oluşturulamaz: 'train//tomatoes//tomatoes51.jpeg' -> 'train//tomatoes//tomatoes78.jpeg'\n",
      "[WinError 183] Halen varolan bir dosya oluşturulamaz: 'train//tomatoes//tomatoes52.jpeg' -> 'train//tomatoes//tomatoes79.jpeg'\n",
      "[WinError 183] Halen varolan bir dosya oluşturulamaz: 'train//tomatoes//tomatoes53.jpeg' -> 'train//tomatoes//tomatoes80.jpeg'\n",
      "[WinError 183] Halen varolan bir dosya oluşturulamaz: 'train//tomatoes//tomatoes54.jpeg' -> 'train//tomatoes//tomatoes81.jpeg'\n",
      "[WinError 183] Halen varolan bir dosya oluşturulamaz: 'train//tomatoes//tomatoes55.jpeg' -> 'train//tomatoes//tomatoes82.jpeg'\n",
      "[WinError 183] Halen varolan bir dosya oluşturulamaz: 'train//tomatoes//tomatoes56.jpeg' -> 'train//tomatoes//tomatoes83.jpeg'\n",
      "[WinError 183] Halen varolan bir dosya oluşturulamaz: 'train//tomatoes//tomatoes57.jpeg' -> 'train//tomatoes//tomatoes84.jpeg'\n",
      "[WinError 183] Halen varolan bir dosya oluşturulamaz: 'train//tomatoes//tomatoes58.jpeg' -> 'train//tomatoes//tomatoes85.jpeg'\n",
      "[WinError 183] Halen varolan bir dosya oluşturulamaz: 'train//tomatoes//tomatoes59.jpeg' -> 'train//tomatoes//tomatoes86.jpeg'\n",
      "[WinError 183] Halen varolan bir dosya oluşturulamaz: 'train//tomatoes//tomatoes6.jpeg' -> 'train//tomatoes//tomatoes87.jpeg'\n",
      "[WinError 183] Halen varolan bir dosya oluşturulamaz: 'train//tomatoes//tomatoes60.jpeg' -> 'train//tomatoes//tomatoes88.jpeg'\n",
      "[WinError 183] Halen varolan bir dosya oluşturulamaz: 'train//tomatoes//tomatoes61.jpeg' -> 'train//tomatoes//tomatoes89.jpeg'\n",
      "[WinError 183] Halen varolan bir dosya oluşturulamaz: 'train//tomatoes//tomatoes62.jpeg' -> 'train//tomatoes//tomatoes90.jpeg'\n",
      "[WinError 183] Halen varolan bir dosya oluşturulamaz: 'train//tomatoes//tomatoes63.jpeg' -> 'train//tomatoes//tomatoes91.jpeg'\n",
      "[WinError 183] Halen varolan bir dosya oluşturulamaz: 'train//tomatoes//tomatoes64.jpeg' -> 'train//tomatoes//tomatoes92.jpeg'\n",
      "[WinError 183] Halen varolan bir dosya oluşturulamaz: 'train//tomatoes//tomatoes65.jpeg' -> 'train//tomatoes//tomatoes93.jpeg'\n",
      "[WinError 183] Halen varolan bir dosya oluşturulamaz: 'train//tomatoes//tomatoes66.jpeg' -> 'train//tomatoes//tomatoes94.jpeg'\n",
      "[WinError 183] Halen varolan bir dosya oluşturulamaz: 'train//tomatoes//tomatoes67.jpeg' -> 'train//tomatoes//tomatoes95.jpeg'\n",
      "[WinError 183] Halen varolan bir dosya oluşturulamaz: 'train//tomatoes//tomatoes68.jpeg' -> 'train//tomatoes//tomatoes96.jpeg'\n",
      "[WinError 183] Halen varolan bir dosya oluşturulamaz: 'train//tomatoes//tomatoes69.jpeg' -> 'train//tomatoes//tomatoes97.jpeg'\n",
      "[WinError 183] Halen varolan bir dosya oluşturulamaz: 'train//tomatoes//tomatoes7.jpeg' -> 'train//tomatoes//tomatoes98.jpeg'\n",
      "[WinError 183] Halen varolan bir dosya oluşturulamaz: 'train//tomatoes//tomatoes70.jpeg' -> 'train//tomatoes//tomatoes99.jpeg'\n",
      "[WinError 183] Halen varolan bir dosya oluşturulamaz: 'train//tomatoes//tomatoes71.jpeg' -> 'train//tomatoes//tomatoes100.jpeg'\n",
      "[WinError 183] Halen varolan bir dosya oluşturulamaz: 'train//tomatoes//tomatoes72.jpeg' -> 'train//tomatoes//tomatoes101.jpeg'\n",
      "[WinError 183] Halen varolan bir dosya oluşturulamaz: 'train//tomatoes//tomatoes73.jpeg' -> 'train//tomatoes//tomatoes102.jpeg'\n",
      "[WinError 183] Halen varolan bir dosya oluşturulamaz: 'train//tomatoes//tomatoes74.jpeg' -> 'train//tomatoes//tomatoes103.jpeg'\n",
      "[WinError 183] Halen varolan bir dosya oluşturulamaz: 'train//tomatoes//tomatoes75.jpeg' -> 'train//tomatoes//tomatoes104.jpeg'\n",
      "[WinError 183] Halen varolan bir dosya oluşturulamaz: 'train//tomatoes//tomatoes76.jpeg' -> 'train//tomatoes//tomatoes105.jpeg'\n",
      "[WinError 183] Halen varolan bir dosya oluşturulamaz: 'train//tomatoes//tomatoes77.jpeg' -> 'train//tomatoes//tomatoes106.jpeg'\n",
      "[WinError 183] Halen varolan bir dosya oluşturulamaz: 'train//tomatoes//tomatoes78.jpeg' -> 'train//tomatoes//tomatoes107.jpeg'\n",
      "[WinError 183] Halen varolan bir dosya oluşturulamaz: 'train//tomatoes//tomatoes79.jpeg' -> 'train//tomatoes//tomatoes108.jpeg'\n",
      "[WinError 183] Halen varolan bir dosya oluşturulamaz: 'train//tomatoes//tomatoes8.jpeg' -> 'train//tomatoes//tomatoes109.jpeg'\n",
      "[WinError 183] Halen varolan bir dosya oluşturulamaz: 'train//tomatoes//tomatoes80.jpeg' -> 'train//tomatoes//tomatoes110.jpeg'\n",
      "[WinError 183] Halen varolan bir dosya oluşturulamaz: 'train//tomatoes//tomatoes81.jpeg' -> 'train//tomatoes//tomatoes111.jpeg'\n",
      "[WinError 183] Halen varolan bir dosya oluşturulamaz: 'train//tomatoes//tomatoes82.jpeg' -> 'train//tomatoes//tomatoes112.jpeg'\n",
      "[WinError 183] Halen varolan bir dosya oluşturulamaz: 'train//tomatoes//tomatoes83.jpeg' -> 'train//tomatoes//tomatoes113.jpeg'\n",
      "[WinError 183] Halen varolan bir dosya oluşturulamaz: 'train//tomatoes//tomatoes84.jpeg' -> 'train//tomatoes//tomatoes114.jpeg'\n",
      "[WinError 183] Halen varolan bir dosya oluşturulamaz: 'train//tomatoes//tomatoes85.jpeg' -> 'train//tomatoes//tomatoes115.jpeg'\n",
      "[WinError 183] Halen varolan bir dosya oluşturulamaz: 'train//tomatoes//tomatoes86.jpeg' -> 'train//tomatoes//tomatoes116.jpeg'\n",
      "[WinError 183] Halen varolan bir dosya oluşturulamaz: 'train//tomatoes//tomatoes87.jpeg' -> 'train//tomatoes//tomatoes117.jpeg'\n",
      "[WinError 183] Halen varolan bir dosya oluşturulamaz: 'train//tomatoes//tomatoes88.jpeg' -> 'train//tomatoes//tomatoes118.jpeg'\n",
      "[WinError 183] Halen varolan bir dosya oluşturulamaz: 'train//tomatoes//tomatoes89.jpeg' -> 'train//tomatoes//tomatoes119.jpeg'\n",
      "[WinError 183] Halen varolan bir dosya oluşturulamaz: 'train//tomatoes//tomatoes9.jpeg' -> 'train//tomatoes//tomatoes120.jpeg'\n",
      "[WinError 183] Halen varolan bir dosya oluşturulamaz: 'train//tomatoes//tomatoes90.jpeg' -> 'train//tomatoes//tomatoes121.jpeg'\n",
      "[WinError 183] Halen varolan bir dosya oluşturulamaz: 'train//tomatoes//tomatoes91.jpeg' -> 'train//tomatoes//tomatoes122.jpeg'\n",
      "[WinError 183] Halen varolan bir dosya oluşturulamaz: 'train//tomatoes//tomatoes92.jpeg' -> 'train//tomatoes//tomatoes123.jpeg'\n",
      "[WinError 183] Halen varolan bir dosya oluşturulamaz: 'train//tomatoes//tomatoes93.jpeg' -> 'train//tomatoes//tomatoes124.jpeg'\n",
      "[WinError 183] Halen varolan bir dosya oluşturulamaz: 'train//tomatoes//tomatoes94.jpeg' -> 'train//tomatoes//tomatoes125.jpeg'\n",
      "[WinError 183] Halen varolan bir dosya oluşturulamaz: 'train//tomatoes//tomatoes95.jpeg' -> 'train//tomatoes//tomatoes126.jpeg'\n",
      "[WinError 183] Halen varolan bir dosya oluşturulamaz: 'train//tomatoes//tomatoes96.jpeg' -> 'train//tomatoes//tomatoes127.jpeg'\n",
      "[WinError 183] Halen varolan bir dosya oluşturulamaz: 'train//tomatoes//tomatoes97.jpeg' -> 'train//tomatoes//tomatoes128.jpeg'\n",
      "[WinError 183] Halen varolan bir dosya oluşturulamaz: 'train//tomatoes//tomatoes98.jpeg' -> 'train//tomatoes//tomatoes129.jpeg'\n",
      "[WinError 183] Halen varolan bir dosya oluşturulamaz: 'train//tomatoes//tomatoes99.jpeg' -> 'train//tomatoes//tomatoes130.jpeg'\n"
     ]
    }
   ],
   "source": [
    "def renamed_image(path, line):\n",
    "    i = 1\n",
    "    for filename in os.listdir(path):\n",
    "        try:\n",
    "        \n",
    "            f, extension = os.path.splitext(filename)\n",
    "            name = path + filename\n",
    "            new_name = path + line + str(i) + extension\n",
    "            os.rename(name, new_name)\n",
    "            i = i + 1\n",
    "        except Exception as e:\n",
    "            i = i + 1\n",
    "            print(e)\n",
    "            continue\n",
    "            \n",
    "apples = \"apples\"\n",
    "tomatoes = \"tomatoes\"\n",
    "\n",
    "path_test_apples = \"test//apples//\"\n",
    "path_train_apples = \"train//apples//\"\n",
    "path_test_tomatoes = \"test//tomatoes//\"\n",
    "path_train_tomatoes = \"train//tomatoes//\"\n",
    "\n",
    "renamed_image(path_test_apples, apples)\n",
    "renamed_image(path_train_apples, apples)\n",
    "renamed_image(path_test_tomatoes, tomatoes)\n",
    "renamed_image(path_train_tomatoes, tomatoes)"
   ]
  },
  {
   "cell_type": "markdown",
   "id": "ef03ba57",
   "metadata": {},
   "source": [
    "#### Resize Image"
   ]
  },
  {
   "cell_type": "code",
   "execution_count": 3,
   "id": "fd691056",
   "metadata": {},
   "outputs": [],
   "source": [
    "def resized_imaged(path):\n",
    "    for filename in os.listdir(path):\n",
    "        try:\n",
    "            img = Image.open(path + filename)\n",
    "            new_img = img.resize((64, 64))\n",
    "            new_img.save(path + filename)\n",
    "        except Exception as e:\n",
    "            continue\n",
    "            \n",
    "resized_imaged(path_test_tomatoes)\n",
    "resized_imaged(path_train_tomatoes)\n",
    "resized_imaged(path_test_apples)\n",
    "resized_imaged(path_train_apples)"
   ]
  },
  {
   "cell_type": "markdown",
   "id": "e8bc591d",
   "metadata": {},
   "source": [
    "#### Eğitim sürecini yeniden boyutlandır."
   ]
  },
  {
   "cell_type": "code",
   "execution_count": 4,
   "id": "513a832b",
   "metadata": {},
   "outputs": [],
   "source": [
    "def get_image(path):\n",
    "    all_image_array = []\n",
    "    label_array = []\n",
    "    \n",
    "    for filename in os.listdir(path):\n",
    "        try:\n",
    "            if re.match(r\"apples\", filename):\n",
    "                label_array.append(1)\n",
    "            else:\n",
    "                label_array.append(0)\n",
    "\n",
    "            img = Image.open(path + filename)\n",
    "            img_array = np.asarray(img)\n",
    "\n",
    "            all_image_array.append(img_array)\n",
    "        except Exception as e:\n",
    "            continue\n",
    "    return np.array(all_image_array), np.array(label_array).reshape(1, -1)\n",
    "\n",
    "x_test_apples, y_test_apples = get_image(path_test_apples)\n",
    "x_train_apples, y_train_apples = get_image(path_train_apples)\n",
    "x_test_tomatoes, y_test_tomatoes = get_image(path_test_tomatoes)\n",
    "x_train_tomatoes, y_train_tomatoes = get_image(path_train_tomatoes)"
   ]
  },
  {
   "cell_type": "code",
   "execution_count": 5,
   "id": "a4ea2ea3",
   "metadata": {},
   "outputs": [
    {
     "name": "stdout",
     "output_type": "stream",
     "text": [
      "x_test_apples:  (54, 64, 64, 3)\n",
      "x_train_apples:  (160, 64, 64, 3)\n",
      "x_test_tomatoes:  (43, 64, 64, 3)\n",
      "x_train_tomatoes:  (130, 64, 64, 3)\n",
      "-----------------------------\n",
      "y_test_apples:  (1, 54)\n",
      "y_train_apples:  (1, 160)\n",
      "y_test_tomatoes:  (1, 43)\n",
      "y_train_tomatoes:  (1, 130)\n"
     ]
    }
   ],
   "source": [
    "print(\"x_test_apples: \", x_test_apples.shape)\n",
    "print(\"x_train_apples: \", x_train_apples.shape)\n",
    "print(\"x_test_tomatoes: \", x_test_tomatoes.shape)\n",
    "print(\"x_train_tomatoes: \", x_train_tomatoes.shape)\n",
    "\n",
    "print(\"-----------------------------\")\n",
    "\n",
    "print(\"y_test_apples: \", y_test_apples.shape)\n",
    "print(\"y_train_apples: \", y_train_apples.shape)\n",
    "print(\"y_test_tomatoes: \", y_test_tomatoes.shape)\n",
    "print(\"y_train_tomatoes: \", y_train_tomatoes.shape)"
   ]
  },
  {
   "cell_type": "code",
   "execution_count": 6,
   "id": "201ae2fc",
   "metadata": {},
   "outputs": [
    {
     "name": "stdout",
     "output_type": "stream",
     "text": [
      "x_train shape:  (290, 64, 64, 3)\n",
      "x_test shape:  (97, 64, 64, 3)\n",
      "y_train shape:  (1, 290)\n",
      "y_test shape:  (1, 97)\n"
     ]
    }
   ],
   "source": [
    "x_train = np.concatenate((x_train_apples, x_train_tomatoes), axis = 0)\n",
    "print(\"x_train shape: \", x_train.shape)\n",
    "\n",
    "x_test = np.concatenate((x_test_apples, x_test_tomatoes), axis = 0)\n",
    "print(\"x_test shape: \", x_test.shape)\n",
    "\n",
    "y_train = np.concatenate((y_train_apples.T, y_train_tomatoes.T), axis = 0)\n",
    "y_train = y_train.T\n",
    "print(\"y_train shape: \", y_train.shape)\n",
    "\n",
    "y_test = np.concatenate((y_test_apples.T, y_test_tomatoes.T), axis = 0)\n",
    "y_test = y_test.T\n",
    "print(\"y_test shape: \", y_test.shape)"
   ]
  },
  {
   "cell_type": "markdown",
   "id": "4558070a",
   "metadata": {},
   "source": [
    "#### Create classes"
   ]
  },
  {
   "cell_type": "code",
   "execution_count": 7,
   "id": "0298e16c",
   "metadata": {},
   "outputs": [],
   "source": [
    "class_list = [\"tomatoes\", \"apples\"]\n",
    "classes = np.array(class_list)"
   ]
  },
  {
   "cell_type": "code",
   "execution_count": 8,
   "id": "c1b5d441",
   "metadata": {},
   "outputs": [
    {
     "name": "stdout",
     "output_type": "stream",
     "text": [
      "y: [0]  It is a tomatoes\n"
     ]
    },
    {
     "data": {
      "image/png": "[encoded data removed]",
      "text/plain": [
       "<Figure size 432x288 with 1 Axes>"
      ]
     },
     "metadata": {
      "needs_background": "light"
     },
     "output_type": "display_data"
    }
   ],
   "source": [
    "index = 200\n",
    "plt.imshow(x_train[index])\n",
    "print(\"y: \" + str(y_train[:, index]) + \"  It is a \" + str(np.squeeze(classes[y_train[:, index]])))\n",
    "plt.show()"
   ]
  },
  {
   "cell_type": "markdown",
   "id": "fa24b235",
   "metadata": {},
   "source": [
    "#### Flatten Image"
   ]
  },
  {
   "cell_type": "code",
   "execution_count": 9,
   "id": "1934dcdc",
   "metadata": {},
   "outputs": [
    {
     "name": "stdout",
     "output_type": "stream",
     "text": [
      "x_test shape:  (12288, 97)\n",
      "x_train shape:  (12288, 290)\n"
     ]
    }
   ],
   "source": [
    "x_train_flatten = x_train.reshape(x_train.shape[0], -1).T\n",
    "x_test_flatten = x_test.reshape(x_test.shape[0], -1).T\n",
    "\n",
    "print(\"x_test shape: \", x_test_flatten.shape)\n",
    "print(\"x_train shape: \", x_train_flatten.shape)"
   ]
  },
  {
   "cell_type": "code",
   "execution_count": 10,
   "id": "45abbfd2",
   "metadata": {},
   "outputs": [],
   "source": [
    "x_train = x_train_flatten / 255\n",
    "x_test = x_test_flatten / 255"
   ]
  },
  {
   "cell_type": "code",
   "execution_count": 11,
   "id": "9cba9b45",
   "metadata": {},
   "outputs": [
    {
     "name": "stdout",
     "output_type": "stream",
     "text": [
      "x_test shape:  (12288, 97)\n",
      "x_train shape:  (12288, 290)\n"
     ]
    }
   ],
   "source": [
    "print(\"x_test shape: \", x_test.shape)\n",
    "print(\"x_train shape: \", x_train.shape)\n"
   ]
  },
  {
   "cell_type": "markdown",
   "id": "c7e1fb92",
   "metadata": {},
   "source": [
    "## Artificial Neural Network"
   ]
  },
  {
   "cell_type": "markdown",
   "id": "99272ec2",
   "metadata": {},
   "source": [
    "### 1. Initialize paramaters"
   ]
  },
  {
   "cell_type": "code",
   "execution_count": 12,
   "id": "b9e30f7a",
   "metadata": {},
   "outputs": [],
   "source": [
    "def initialize_weight_and_bias_NN(x_train, y_train):\n",
    "    paramaters = {\n",
    "        \"w1\": np.random.randn(3, x_train.shape[0]) * 0.1,\n",
    "        \"b1\": np.zeros((3, 1)),\n",
    "        \"w2\": np.random.randn(y_train.shape[0], 3) * 0.1,\n",
    "        \"b2\": np.zeros((y_train.shape[0], 1))\n",
    "    }\n",
    "    return paramaters"
   ]
  },
  {
   "cell_type": "markdown",
   "id": "791b5703",
   "metadata": {},
   "source": [
    "### 2. Sigmoid Function"
   ]
  },
  {
   "cell_type": "code",
   "execution_count": 13,
   "id": "4feadad2",
   "metadata": {},
   "outputs": [],
   "source": [
    "def sigmoid_NN(z):\n",
    "    y_head = 1 / (1 + np.exp(-z))\n",
    "    return y_head"
   ]
  },
  {
   "cell_type": "markdown",
   "id": "d46d9648",
   "metadata": {},
   "source": [
    "### 3. Forward Propogation"
   ]
  },
  {
   "cell_type": "code",
   "execution_count": 14,
   "id": "05a9d7d4",
   "metadata": {},
   "outputs": [],
   "source": [
    "def forward_propogation_NN(x_train, paramaters):\n",
    "    Z1 = np.dot(paramaters[\"w1\"], x_train) + paramaters[\"b1\"]\n",
    "    A1 = np.tanh(Z1)\n",
    "    \n",
    "    Z2 = np.dot(paramaters[\"w2\"], A1) + paramaters[\"b2\"]\n",
    "    A2 = sigmoid_NN(Z2)\n",
    "    \n",
    "    cache = {\n",
    "        \"A1\": A1,\n",
    "        \"Z1\": Z1,\n",
    "        \"A2\": A2,\n",
    "        \"Z2\": Z2\n",
    "    }\n",
    "    \n",
    "    return A2, cache"
   ]
  },
  {
   "cell_type": "markdown",
   "id": "5ced9a75",
   "metadata": {},
   "source": [
    "### 4. Cost Function "
   ]
  },
  {
   "cell_type": "code",
   "execution_count": 15,
   "id": "2a046689",
   "metadata": {},
   "outputs": [],
   "source": [
    "def cost_function_NN(y_train, A2):\n",
    "    loss = np.multiply(np.log(A2), y_train)\n",
    "    cost = - np.sum(loss)/y_train.shape[1]\n",
    "    return cost"
   ]
  },
  {
   "cell_type": "markdown",
   "id": "a32d2a7f",
   "metadata": {},
   "source": [
    "### 5. Backward Propogation "
   ]
  },
  {
   "cell_type": "code",
   "execution_count": 16,
   "id": "fadf87f1",
   "metadata": {},
   "outputs": [],
   "source": [
    "def backward_propogation_NN(x_train, y_train, cache, paramaters):\n",
    "    dz2 = cache[\"A2\"] - y_train\n",
    "    dw2 = np.dot(dz2, cache[\"A1\"].T)/x_train.shape[1]\n",
    "    db2 = np.sum(dz2, axis = 1, keepdims = True) / x_train.shape[1]\n",
    "    \n",
    "    dz1 = np.dot(paramaters[\"w2\"].T, dz2) * (1 - np.power(cache[\"A1\"], 2))\n",
    "    dw1 = np.dot(dz1, x_train.T) / x_train.shape[1]\n",
    "    db1 = np.sum(dz1, axis = 1, keepdims = True) / x_train.shape[1]    \n",
    "    \n",
    "    grads = {\n",
    "        \"dw1\": dw1,\n",
    "        \"db1\": db1,\n",
    "        \"dw2\": dw2,\n",
    "        \"db2\": db2\n",
    "    }\n",
    "    \n",
    "    return grads"
   ]
  },
  {
   "cell_type": "markdown",
   "id": "6f8cf8f7",
   "metadata": {},
   "source": [
    "### 6. Update"
   ]
  },
  {
   "cell_type": "code",
   "execution_count": 17,
   "id": "aad1add2",
   "metadata": {},
   "outputs": [],
   "source": [
    "def update_NN(grads, paramaters, learning_rate):\n",
    "    paramaters = {\n",
    "        \"w1\": paramaters[\"w1\"] - grads[\"dw1\"] * learning_rate,\n",
    "        \"b1\": paramaters[\"b1\"] - grads[\"db1\"] * learning_rate,\n",
    "        \"w2\": paramaters[\"w2\"] - grads[\"dw2\"] * learning_rate,\n",
    "        \"b2\": paramaters[\"b2\"] - grads[\"db2\"] * learning_rate\n",
    "    }\n",
    "    return paramaters"
   ]
  },
  {
   "cell_type": "markdown",
   "id": "d7a14778",
   "metadata": {},
   "source": [
    "### 7. Predict"
   ]
  },
  {
   "cell_type": "code",
   "execution_count": 18,
   "id": "420f1ff9",
   "metadata": {},
   "outputs": [],
   "source": [
    "def predict_NN(x_test, paramaters):\n",
    "    A2, cache = forward_propogation_NN(x_test, paramaters)\n",
    "    y_predict = np.zeros((1, x_test.shape[1]))\n",
    "    \n",
    "    for i in range(A2.shape[1]):\n",
    "        if A2[0, i] >= 0.5:\n",
    "            y_predict[0, i] = 1\n",
    "        else:\n",
    "            y_predict[0, i] = 0\n",
    "    return y_predict   "
   ]
  },
  {
   "cell_type": "markdown",
   "id": "b20b1d16",
   "metadata": {},
   "source": [
    "### Arficial Neural Network"
   ]
  },
  {
   "cell_type": "code",
   "execution_count": 19,
   "id": "5fa1ceab",
   "metadata": {},
   "outputs": [],
   "source": [
    "def artificial_neural_network(x_train, y_train, x_test, y_test, learning_rate, number_iteration, print_cost):\n",
    "    paramaters = initialize_weight_and_bias_NN(x_train, y_train)\n",
    "    cost_list = []\n",
    "    index_list = []\n",
    "    \n",
    "    for i in range(number_iteration):\n",
    "        # forward propogation\n",
    "        A2, cache = forward_propogation_NN(x_train, paramaters)\n",
    "        \n",
    "        # cost function\n",
    "        cost = cost_function_NN(y_train, A2)\n",
    "        \n",
    "        # backwark propogation\n",
    "        grads = backward_propogation_NN(x_train, y_train, cache, paramaters)\n",
    "        \n",
    "        # update\n",
    "        paramaters = update_NN(grads, paramaters, learning_rate)\n",
    "        \n",
    "        if i%100 == 0:\n",
    "            cost_list.append(cost)\n",
    "            index_list.append(i)\n",
    "            if print_cost: \n",
    "                print(\"Number iteration {}:{}\".format(i, cost))\n",
    "            \n",
    "    \n",
    "    plt.plot(index_list, cost_list)\n",
    "    plt.ylabel(\"Cost\")\n",
    "    plt.xlabel(\"Number iteration\")\n",
    "    plt.show()\n",
    "    \n",
    "    y_predict_train = predict_NN(x_train, paramaters)\n",
    "    y_predict_test = predict_NN(x_test, paramaters)\n",
    "    \n",
    "    print(\"Test accuracy: {}\".format(100 - np.mean(np.abs(y_predict_test - y_test)) * 100))\n",
    "    print(\"Train accuracy: {}\".format(100 - np.mean(np.abs(y_predict_train - y_train)) * 100))\n",
    "    \n",
    "    d = {\n",
    "        \"cost\": cost,\n",
    "        \"cache\": cache,\n",
    "        \"grads\": grads,\n",
    "        \"paramaters\": paramaters\n",
    "    }\n",
    "    return d"
   ]
  },
  {
   "cell_type": "code",
   "execution_count": 20,
   "id": "a6296866",
   "metadata": {},
   "outputs": [
    {
     "name": "stdout",
     "output_type": "stream",
     "text": [
      "Number iteration 0:0.37537030907247004\n",
      "Number iteration 100:0.3628479455265236\n",
      "Number iteration 200:0.3567010584892113\n",
      "Number iteration 300:0.35098997779580365\n",
      "Number iteration 400:0.34724039713692456\n",
      "Number iteration 500:0.3447353487223999\n",
      "Number iteration 600:0.34267776831161345\n",
      "Number iteration 700:0.34085456931736063\n",
      "Number iteration 800:0.3392463251234447\n",
      "Number iteration 900:0.33780841974566095\n",
      "Number iteration 1000:0.33643608518801577\n",
      "Number iteration 1100:0.33503661324956047\n",
      "Number iteration 1200:0.33356842840355627\n",
      "Number iteration 1300:0.3320276010224677\n",
      "Number iteration 1400:0.33042597985572136\n",
      "Number iteration 1500:0.3287801633250088\n",
      "Number iteration 1600:0.3271081370703176\n",
      "Number iteration 1700:0.32542853206209665\n",
      "Number iteration 1800:0.323760245060231\n",
      "Number iteration 1900:0.3221217154107828\n",
      "Number iteration 2000:0.3205296508823553\n",
      "Number iteration 2100:0.3189968699018166\n",
      "Number iteration 2200:0.31752836404527046\n",
      "Number iteration 2300:0.31611464615358076\n",
      "Number iteration 2400:0.3147248149161636\n"
     ]
    },
    {
     "data": {
      "image/png": "[encoded data removed]",
      "text/plain": [
       "<Figure size 432x288 with 1 Axes>"
      ]
     },
     "metadata": {
      "needs_background": "light"
     },
     "output_type": "display_data"
    },
    {
     "name": "stdout",
     "output_type": "stream",
     "text": [
      "Test accuracy: 62.88659793814433\n",
      "Train accuracy: 63.793103448275865\n"
     ]
    }
   ],
   "source": [
    "d = artificial_neural_network(x_train, y_train, x_test, y_test, learning_rate = 0.001, number_iteration = 2500, print_cost = True)"
   ]
  },
  {
   "cell_type": "markdown",
   "id": "e6db71ef",
   "metadata": {},
   "source": [
    "### Learning Rate Plot"
   ]
  },
  {
   "cell_type": "code",
   "execution_count": 21,
   "id": "269f9de6",
   "metadata": {},
   "outputs": [
    {
     "name": "stdout",
     "output_type": "stream",
     "text": [
      "learning rate:  0.01\n"
     ]
    },
    {
     "data": {
      "image/png": "[encoded data removed]",
      "text/plain": [
       "<Figure size 432x288 with 1 Axes>"
      ]
     },
     "metadata": {
      "needs_background": "light"
     },
     "output_type": "display_data"
    },
    {
     "name": "stdout",
     "output_type": "stream",
     "text": [
      "Test accuracy: 68.04123711340206\n",
      "Train accuracy: 89.65517241379311\n",
      "\n",
      " ------------------ \n",
      "\n",
      "learning rate:  0.001\n"
     ]
    },
    {
     "data": {
      "image/png": "[encoded data removed]",
      "text/plain": [
       "<Figure size 432x288 with 1 Axes>"
      ]
     },
     "metadata": {
      "needs_background": "light"
     },
     "output_type": "display_data"
    },
    {
     "name": "stdout",
     "output_type": "stream",
     "text": [
      "Test accuracy: 50.51546391752577\n",
      "Train accuracy: 61.724137931034484\n",
      "\n",
      " ------------------ \n",
      "\n",
      "learning rate:  0.0001\n"
     ]
    },
    {
     "data": {
      "image/png": "[encoded data removed]",
      "text/plain": [
       "<Figure size 432x288 with 1 Axes>"
      ]
     },
     "metadata": {
      "needs_background": "light"
     },
     "output_type": "display_data"
    },
    {
     "name": "stdout",
     "output_type": "stream",
     "text": [
      "Test accuracy: 45.36082474226804\n",
      "Train accuracy: 44.13793103448276\n",
      "\n",
      " ------------------ \n",
      "\n"
     ]
    }
   ],
   "source": [
    "learning_rates = [0.01, 0.001, 0.0001]\n",
    "models = {}\n",
    "for i in learning_rates:\n",
    "    print(\"learning rate: \", i)\n",
    "    models[str(i)] = artificial_neural_network(x_train, y_train, x_test, y_test, learning_rate = i, number_iteration = 2500, print_cost = False)\n",
    "    print(\"\\n ------------------ \\n\")"
   ]
  },
  {
   "cell_type": "markdown",
   "id": "276603f3",
   "metadata": {},
   "source": [
    "## My image prediction "
   ]
  },
  {
   "cell_type": "code",
   "execution_count": 22,
   "id": "6e817648",
   "metadata": {},
   "outputs": [
    {
     "name": "stdout",
     "output_type": "stream",
     "text": [
      "İt is a 59% apples\n"
     ]
    },
    {
     "data": {
      "image/png": "[encoded data removed]",
      "text/plain": [
       "<Figure size 432x288 with 1 Axes>"
      ]
     },
     "metadata": {
      "needs_background": "light"
     },
     "output_type": "display_data"
    }
   ],
   "source": [
    "my_image = Image.open(\"test//apples//apples20.jpeg\")\n",
    "\n",
    "img_resize = my_image.resize((64, 64))\n",
    "np_array = np.asarray(img_resize)\n",
    "\n",
    "img_flatten = np_array / 255\n",
    "my_image = img_flatten.reshape(1, -1).T\n",
    "\n",
    "my_image_predict = predict_NN(my_image, d[\"paramaters\"]) \n",
    "print(\"İt is a \" + str(int(100-np.mean(np.abs(my_image_predict - my_image)) * 100)) + \"% \" + classes[int(np.squeeze(my_image_predict))])\n",
    "plt.imshow(img_resize)\n",
    "plt.show()"
   ]
  },
  {
   "cell_type": "markdown",
   "id": "f0f51417",
   "metadata": {},
   "source": [
    "## L-Layer Artificial Neural Network"
   ]
  },
  {
   "cell_type": "code",
   "execution_count": 23,
   "id": "4b649d93",
   "metadata": {},
   "outputs": [],
   "source": [
    "x_train, y_train, x_test, y_test = x_train.T, y_train.T, x_test.T, y_test.T"
   ]
  },
  {
   "cell_type": "code",
   "execution_count": 24,
   "id": "0b786470",
   "metadata": {},
   "outputs": [
    {
     "name": "stdout",
     "output_type": "stream",
     "text": [
      "Epoch 1/100\n",
      "10/10 [==============================] - 1s 15ms/step - loss: 0.6827 - accuracy: 0.5517 - val_loss: 0.6704 - val_accuracy: 0.5567\n",
      "Epoch 2/100\n",
      "10/10 [==============================] - 0s 4ms/step - loss: 0.6746 - accuracy: 0.5517 - val_loss: 0.6668 - val_accuracy: 0.5567\n",
      "Epoch 3/100\n",
      "10/10 [==============================] - 0s 4ms/step - loss: 0.6676 - accuracy: 0.5517 - val_loss: 0.6625 - val_accuracy: 0.5567\n",
      "Epoch 4/100\n",
      "10/10 [==============================] - 0s 4ms/step - loss: 0.6652 - accuracy: 0.5517 - val_loss: 0.6595 - val_accuracy: 0.5464\n",
      "Epoch 5/100\n",
      "10/10 [==============================] - 0s 4ms/step - loss: 0.6588 - accuracy: 0.5862 - val_loss: 0.6613 - val_accuracy: 0.5876\n",
      "Epoch 6/100\n",
      "10/10 [==============================] - 0s 4ms/step - loss: 0.6661 - accuracy: 0.6690 - val_loss: 0.6560 - val_accuracy: 0.5773\n",
      "Epoch 7/100\n",
      "10/10 [==============================] - 0s 4ms/step - loss: 0.6541 - accuracy: 0.5862 - val_loss: 0.6491 - val_accuracy: 0.6082\n",
      "Epoch 8/100\n",
      "10/10 [==============================] - 0s 4ms/step - loss: 0.6467 - accuracy: 0.6621 - val_loss: 0.6586 - val_accuracy: 0.6082\n",
      "Epoch 9/100\n",
      "10/10 [==============================] - 0s 4ms/step - loss: 0.6471 - accuracy: 0.6483 - val_loss: 0.6409 - val_accuracy: 0.5979\n",
      "Epoch 10/100\n",
      "10/10 [==============================] - 0s 4ms/step - loss: 0.6343 - accuracy: 0.6310 - val_loss: 0.6408 - val_accuracy: 0.6082\n",
      "Epoch 11/100\n",
      "10/10 [==============================] - 0s 4ms/step - loss: 0.6659 - accuracy: 0.5793 - val_loss: 0.6304 - val_accuracy: 0.6082\n",
      "Epoch 12/100\n",
      "10/10 [==============================] - 0s 4ms/step - loss: 0.6221 - accuracy: 0.6517 - val_loss: 0.6289 - val_accuracy: 0.5876\n",
      "Epoch 13/100\n",
      "10/10 [==============================] - 0s 4ms/step - loss: 0.6005 - accuracy: 0.6759 - val_loss: 0.6312 - val_accuracy: 0.6495\n",
      "Epoch 14/100\n",
      "10/10 [==============================] - 0s 4ms/step - loss: 0.6008 - accuracy: 0.6690 - val_loss: 0.6288 - val_accuracy: 0.6495\n",
      "Epoch 15/100\n",
      "10/10 [==============================] - 0s 4ms/step - loss: 0.5956 - accuracy: 0.6828 - val_loss: 0.6309 - val_accuracy: 0.6495\n",
      "Epoch 16/100\n",
      "10/10 [==============================] - 0s 4ms/step - loss: 0.5784 - accuracy: 0.6862 - val_loss: 0.6333 - val_accuracy: 0.6289\n",
      "Epoch 17/100\n",
      "10/10 [==============================] - 0s 4ms/step - loss: 0.5815 - accuracy: 0.6862 - val_loss: 0.6553 - val_accuracy: 0.6392\n",
      "Epoch 18/100\n",
      "10/10 [==============================] - 0s 4ms/step - loss: 0.6067 - accuracy: 0.6828 - val_loss: 0.6346 - val_accuracy: 0.6082\n",
      "Epoch 19/100\n",
      "10/10 [==============================] - 0s 4ms/step - loss: 0.5683 - accuracy: 0.7207 - val_loss: 0.6436 - val_accuracy: 0.6082\n",
      "Epoch 20/100\n",
      "10/10 [==============================] - 0s 4ms/step - loss: 0.5750 - accuracy: 0.7069 - val_loss: 0.6294 - val_accuracy: 0.6082\n",
      "Epoch 21/100\n",
      "10/10 [==============================] - 0s 4ms/step - loss: 0.5757 - accuracy: 0.7034 - val_loss: 0.6481 - val_accuracy: 0.6082\n",
      "Epoch 22/100\n",
      "10/10 [==============================] - 0s 4ms/step - loss: 0.5606 - accuracy: 0.7138 - val_loss: 0.6384 - val_accuracy: 0.6289\n",
      "Epoch 23/100\n",
      "10/10 [==============================] - 0s 4ms/step - loss: 0.5702 - accuracy: 0.6966 - val_loss: 0.6657 - val_accuracy: 0.6082\n",
      "Epoch 24/100\n",
      "10/10 [==============================] - 0s 4ms/step - loss: 0.5409 - accuracy: 0.7379 - val_loss: 0.6934 - val_accuracy: 0.6082\n",
      "Epoch 25/100\n",
      "10/10 [==============================] - 0s 4ms/step - loss: 0.6231 - accuracy: 0.6690 - val_loss: 0.6588 - val_accuracy: 0.6495\n",
      "Epoch 26/100\n",
      "10/10 [==============================] - 0s 4ms/step - loss: 0.5566 - accuracy: 0.7241 - val_loss: 0.6302 - val_accuracy: 0.6701\n",
      "Epoch 27/100\n",
      "10/10 [==============================] - 0s 4ms/step - loss: 0.5341 - accuracy: 0.7552 - val_loss: 0.6291 - val_accuracy: 0.6392\n",
      "Epoch 28/100\n",
      "10/10 [==============================] - 0s 4ms/step - loss: 0.5299 - accuracy: 0.7586 - val_loss: 0.6498 - val_accuracy: 0.6598\n",
      "Epoch 29/100\n",
      "10/10 [==============================] - 0s 4ms/step - loss: 0.5190 - accuracy: 0.7759 - val_loss: 0.6703 - val_accuracy: 0.6598\n",
      "Epoch 30/100\n",
      "10/10 [==============================] - 0s 5ms/step - loss: 0.5135 - accuracy: 0.7724 - val_loss: 0.6522 - val_accuracy: 0.6701\n",
      "Epoch 31/100\n",
      "10/10 [==============================] - 0s 4ms/step - loss: 0.5093 - accuracy: 0.7759 - val_loss: 0.6645 - val_accuracy: 0.6082\n",
      "Epoch 32/100\n",
      "10/10 [==============================] - 0s 5ms/step - loss: 0.4959 - accuracy: 0.7690 - val_loss: 0.6890 - val_accuracy: 0.6186\n",
      "Epoch 33/100\n",
      "10/10 [==============================] - 0s 4ms/step - loss: 0.4912 - accuracy: 0.7793 - val_loss: 0.6788 - val_accuracy: 0.6392\n",
      "Epoch 34/100\n",
      "10/10 [==============================] - 0s 4ms/step - loss: 0.4953 - accuracy: 0.7517 - val_loss: 0.6998 - val_accuracy: 0.6186\n",
      "Epoch 35/100\n",
      "10/10 [==============================] - 0s 4ms/step - loss: 0.4958 - accuracy: 0.7655 - val_loss: 0.6622 - val_accuracy: 0.6392\n",
      "Epoch 36/100\n",
      "10/10 [==============================] - 0s 4ms/step - loss: 0.4698 - accuracy: 0.8103 - val_loss: 0.6580 - val_accuracy: 0.6289\n",
      "Epoch 37/100\n",
      "10/10 [==============================] - 0s 4ms/step - loss: 0.4690 - accuracy: 0.7690 - val_loss: 0.7137 - val_accuracy: 0.6289\n",
      "Epoch 38/100\n",
      "10/10 [==============================] - 0s 4ms/step - loss: 0.4614 - accuracy: 0.8000 - val_loss: 0.6660 - val_accuracy: 0.6392\n",
      "Epoch 39/100\n",
      "10/10 [==============================] - 0s 4ms/step - loss: 0.4725 - accuracy: 0.7793 - val_loss: 0.7733 - val_accuracy: 0.6082\n",
      "Epoch 40/100\n",
      "10/10 [==============================] - 0s 4ms/step - loss: 0.5546 - accuracy: 0.7103 - val_loss: 0.6673 - val_accuracy: 0.6289\n",
      "Epoch 41/100\n",
      "10/10 [==============================] - 0s 4ms/step - loss: 0.4192 - accuracy: 0.8103 - val_loss: 0.6653 - val_accuracy: 0.6495\n",
      "Epoch 42/100\n",
      "10/10 [==============================] - 0s 3ms/step - loss: 0.4177 - accuracy: 0.8103 - val_loss: 0.6952 - val_accuracy: 0.6289\n",
      "Epoch 43/100\n",
      "10/10 [==============================] - 0s 4ms/step - loss: 0.4558 - accuracy: 0.7931 - val_loss: 0.6650 - val_accuracy: 0.6289\n",
      "Epoch 44/100\n",
      "10/10 [==============================] - 0s 4ms/step - loss: 0.5176 - accuracy: 0.7448 - val_loss: 0.9682 - val_accuracy: 0.4845\n",
      "Epoch 45/100\n",
      "10/10 [==============================] - 0s 4ms/step - loss: 0.4754 - accuracy: 0.7724 - val_loss: 0.6695 - val_accuracy: 0.6082\n",
      "Epoch 46/100\n",
      "10/10 [==============================] - 0s 4ms/step - loss: 0.5075 - accuracy: 0.7207 - val_loss: 0.7487 - val_accuracy: 0.6495\n",
      "Epoch 47/100\n",
      "10/10 [==============================] - 0s 4ms/step - loss: 0.4985 - accuracy: 0.7517 - val_loss: 0.6982 - val_accuracy: 0.6082\n",
      "Epoch 48/100\n",
      "10/10 [==============================] - 0s 4ms/step - loss: 0.4063 - accuracy: 0.8138 - val_loss: 0.6781 - val_accuracy: 0.6392\n",
      "Epoch 49/100\n",
      "10/10 [==============================] - 0s 4ms/step - loss: 0.4310 - accuracy: 0.7897 - val_loss: 0.6984 - val_accuracy: 0.6392\n",
      "Epoch 50/100\n",
      "10/10 [==============================] - 0s 4ms/step - loss: 0.4569 - accuracy: 0.7897 - val_loss: 0.7049 - val_accuracy: 0.6495\n",
      "Epoch 51/100\n",
      "10/10 [==============================] - 0s 4ms/step - loss: 0.4716 - accuracy: 0.7897 - val_loss: 0.7783 - val_accuracy: 0.5361\n",
      "Epoch 52/100\n",
      "10/10 [==============================] - 0s 4ms/step - loss: 0.4146 - accuracy: 0.8207 - val_loss: 0.6684 - val_accuracy: 0.6598\n",
      "Epoch 53/100\n",
      "10/10 [==============================] - 0s 3ms/step - loss: 0.3987 - accuracy: 0.8310 - val_loss: 0.6443 - val_accuracy: 0.6701\n",
      "Epoch 54/100\n",
      "10/10 [==============================] - 0s 3ms/step - loss: 0.3573 - accuracy: 0.8586 - val_loss: 0.6563 - val_accuracy: 0.6392\n",
      "Epoch 55/100\n",
      "10/10 [==============================] - 0s 4ms/step - loss: 0.3495 - accuracy: 0.8586 - val_loss: 0.6571 - val_accuracy: 0.6701\n",
      "Epoch 56/100\n",
      "10/10 [==============================] - 0s 4ms/step - loss: 0.3569 - accuracy: 0.8621 - val_loss: 0.6531 - val_accuracy: 0.6701\n",
      "Epoch 57/100\n",
      "10/10 [==============================] - 0s 4ms/step - loss: 0.3419 - accuracy: 0.8586 - val_loss: 0.6498 - val_accuracy: 0.6495\n",
      "Epoch 58/100\n",
      "10/10 [==============================] - 0s 4ms/step - loss: 0.3408 - accuracy: 0.8552 - val_loss: 0.7754 - val_accuracy: 0.5876\n"
     ]
    },
    {
     "name": "stdout",
     "output_type": "stream",
     "text": [
      "Epoch 59/100\n",
      "10/10 [==============================] - 0s 4ms/step - loss: 0.3633 - accuracy: 0.8586 - val_loss: 0.8138 - val_accuracy: 0.5670\n",
      "Epoch 60/100\n",
      "10/10 [==============================] - 0s 4ms/step - loss: 0.3496 - accuracy: 0.8310 - val_loss: 0.6860 - val_accuracy: 0.6392\n",
      "Epoch 61/100\n",
      "10/10 [==============================] - 0s 4ms/step - loss: 0.3195 - accuracy: 0.8724 - val_loss: 0.6676 - val_accuracy: 0.6804\n",
      "Epoch 62/100\n",
      "10/10 [==============================] - 0s 4ms/step - loss: 0.2918 - accuracy: 0.8931 - val_loss: 0.7004 - val_accuracy: 0.6907\n",
      "Epoch 63/100\n",
      "10/10 [==============================] - 0s 3ms/step - loss: 0.2899 - accuracy: 0.8828 - val_loss: 0.7033 - val_accuracy: 0.7010\n",
      "Epoch 64/100\n",
      "10/10 [==============================] - 0s 3ms/step - loss: 0.2913 - accuracy: 0.8759 - val_loss: 0.7362 - val_accuracy: 0.7113\n",
      "Epoch 65/100\n",
      "10/10 [==============================] - 0s 4ms/step - loss: 0.2695 - accuracy: 0.8931 - val_loss: 0.7069 - val_accuracy: 0.6907\n",
      "Epoch 66/100\n",
      "10/10 [==============================] - 0s 4ms/step - loss: 0.2945 - accuracy: 0.8793 - val_loss: 0.6920 - val_accuracy: 0.6598\n",
      "Epoch 67/100\n",
      "10/10 [==============================] - 0s 4ms/step - loss: 0.3031 - accuracy: 0.8793 - val_loss: 0.7371 - val_accuracy: 0.7010\n",
      "Epoch 68/100\n",
      "10/10 [==============================] - 0s 4ms/step - loss: 0.2654 - accuracy: 0.8931 - val_loss: 0.7167 - val_accuracy: 0.6907\n",
      "Epoch 69/100\n",
      "10/10 [==============================] - ETA: 0s - loss: 0.2703 - accuracy: 0.84 - 0s 4ms/step - loss: 0.2524 - accuracy: 0.9034 - val_loss: 0.7140 - val_accuracy: 0.6289\n",
      "Epoch 70/100\n",
      "10/10 [==============================] - 0s 4ms/step - loss: 0.2959 - accuracy: 0.8690 - val_loss: 0.7436 - val_accuracy: 0.6495\n",
      "Epoch 71/100\n",
      "10/10 [==============================] - 0s 4ms/step - loss: 0.2392 - accuracy: 0.9207 - val_loss: 0.8213 - val_accuracy: 0.6907\n",
      "Epoch 72/100\n",
      "10/10 [==============================] - 0s 4ms/step - loss: 0.2501 - accuracy: 0.9034 - val_loss: 0.9559 - val_accuracy: 0.6495\n",
      "Epoch 73/100\n",
      "10/10 [==============================] - 0s 4ms/step - loss: 0.3343 - accuracy: 0.8414 - val_loss: 0.7824 - val_accuracy: 0.6907\n",
      "Epoch 74/100\n",
      "10/10 [==============================] - 0s 4ms/step - loss: 0.2524 - accuracy: 0.9138 - val_loss: 0.7560 - val_accuracy: 0.7113\n",
      "Epoch 75/100\n",
      "10/10 [==============================] - 0s 4ms/step - loss: 0.2477 - accuracy: 0.9000 - val_loss: 0.8327 - val_accuracy: 0.7113\n",
      "Epoch 76/100\n",
      "10/10 [==============================] - 0s 4ms/step - loss: 0.2549 - accuracy: 0.9069 - val_loss: 0.8753 - val_accuracy: 0.7010\n",
      "Epoch 77/100\n",
      "10/10 [==============================] - 0s 4ms/step - loss: 0.2240 - accuracy: 0.9241 - val_loss: 0.8337 - val_accuracy: 0.7010\n",
      "Epoch 78/100\n",
      "10/10 [==============================] - 0s 4ms/step - loss: 0.2590 - accuracy: 0.8897 - val_loss: 0.9560 - val_accuracy: 0.6907\n",
      "Epoch 79/100\n",
      "10/10 [==============================] - 0s 4ms/step - loss: 0.2447 - accuracy: 0.9069 - val_loss: 0.8577 - val_accuracy: 0.7113\n",
      "Epoch 80/100\n",
      "10/10 [==============================] - 0s 4ms/step - loss: 0.2185 - accuracy: 0.9276 - val_loss: 0.7793 - val_accuracy: 0.6804\n",
      "Epoch 81/100\n",
      "10/10 [==============================] - 0s 4ms/step - loss: 0.2840 - accuracy: 0.8862 - val_loss: 0.8313 - val_accuracy: 0.6701\n",
      "Epoch 82/100\n",
      "10/10 [==============================] - 0s 4ms/step - loss: 0.2262 - accuracy: 0.9069 - val_loss: 0.7650 - val_accuracy: 0.6598\n",
      "Epoch 83/100\n",
      "10/10 [==============================] - 0s 4ms/step - loss: 0.1704 - accuracy: 0.9586 - val_loss: 0.7529 - val_accuracy: 0.6804\n",
      "Epoch 84/100\n",
      "10/10 [==============================] - 0s 4ms/step - loss: 0.3363 - accuracy: 0.8241 - val_loss: 0.7422 - val_accuracy: 0.6804\n",
      "Epoch 85/100\n",
      "10/10 [==============================] - 0s 3ms/step - loss: 0.1726 - accuracy: 0.9517 - val_loss: 0.8158 - val_accuracy: 0.7113\n",
      "Epoch 86/100\n",
      "10/10 [==============================] - 0s 4ms/step - loss: 0.3105 - accuracy: 0.8655 - val_loss: 0.7124 - val_accuracy: 0.7010\n",
      "Epoch 87/100\n",
      "10/10 [==============================] - 0s 3ms/step - loss: 0.2088 - accuracy: 0.9310 - val_loss: 0.7204 - val_accuracy: 0.7113\n",
      "Epoch 88/100\n",
      "10/10 [==============================] - 0s 3ms/step - loss: 0.1514 - accuracy: 0.9552 - val_loss: 0.7454 - val_accuracy: 0.6598\n",
      "Epoch 89/100\n",
      "10/10 [==============================] - 0s 4ms/step - loss: 0.1510 - accuracy: 0.9621 - val_loss: 0.7709 - val_accuracy: 0.6598\n",
      "Epoch 90/100\n",
      "10/10 [==============================] - 0s 4ms/step - loss: 0.1526 - accuracy: 0.9586 - val_loss: 0.7652 - val_accuracy: 0.6495\n",
      "Epoch 91/100\n",
      "10/10 [==============================] - 0s 4ms/step - loss: 0.1456 - accuracy: 0.9483 - val_loss: 0.7870 - val_accuracy: 0.6495\n",
      "Epoch 92/100\n",
      "10/10 [==============================] - 0s 3ms/step - loss: 0.1357 - accuracy: 0.9655 - val_loss: 0.8386 - val_accuracy: 0.6804\n",
      "Epoch 93/100\n",
      "10/10 [==============================] - 0s 3ms/step - loss: 0.1560 - accuracy: 0.9552 - val_loss: 0.7964 - val_accuracy: 0.6392\n",
      "Epoch 94/100\n",
      "10/10 [==============================] - 0s 4ms/step - loss: 0.1390 - accuracy: 0.9552 - val_loss: 0.9293 - val_accuracy: 0.7010\n",
      "Epoch 95/100\n",
      "10/10 [==============================] - 0s 4ms/step - loss: 0.1714 - accuracy: 0.9345 - val_loss: 0.9186 - val_accuracy: 0.7010\n",
      "Epoch 96/100\n",
      "10/10 [==============================] - 0s 4ms/step - loss: 0.1376 - accuracy: 0.9586 - val_loss: 0.9453 - val_accuracy: 0.7010\n",
      "Epoch 97/100\n",
      "10/10 [==============================] - 0s 4ms/step - loss: 0.1505 - accuracy: 0.9552 - val_loss: 1.1132 - val_accuracy: 0.6907\n",
      "Epoch 98/100\n",
      "10/10 [==============================] - 0s 4ms/step - loss: 0.2293 - accuracy: 0.9172 - val_loss: 0.8502 - val_accuracy: 0.6598\n",
      "Epoch 99/100\n",
      "10/10 [==============================] - 0s 4ms/step - loss: 0.1072 - accuracy: 0.9655 - val_loss: 0.8771 - val_accuracy: 0.6804\n",
      "Epoch 100/100\n",
      "10/10 [==============================] - 0s 4ms/step - loss: 0.1208 - accuracy: 0.9621 - val_loss: 0.9727 - val_accuracy: 0.6495\n",
      "4/4 [==============================] - 0s 997us/step - loss: 0.9727 - accuracy: 0.6495\n",
      "loss:  0.9726641774177551\n",
      "acccuracy:  0.6494845151901245\n"
     ]
    }
   ],
   "source": [
    "from keras.wrappers.scikit_learn import KerasClassifier\n",
    "from sklearn.model_selection import cross_val_score\n",
    "from keras import Sequential\n",
    "from keras.layers import Dense\n",
    "\n",
    "classifier = Sequential()\n",
    "classifier.add(Dense(units = 16, kernel_initializer = \"uniform\", activation = \"relu\", input_dim = x_train.shape[1]))\n",
    "classifier.add(Dense(units = 8, kernel_initializer = \"uniform\", activation = \"relu\"))\n",
    "classifier.add(Dense(units = 1, kernel_initializer = \"uniform\", activation = \"sigmoid\"))\n",
    "classifier.compile(optimizer = \"adam\", loss = \"binary_crossentropy\", metrics = [\"accuracy\"])\n",
    "\n",
    "classifier.fit(x_train, y_train, epochs = 100, validation_data = (x_test, y_test))\n",
    "\n",
    "loss, acccuracy = classifier.evaluate(x_test, y_test)\n",
    "print(\"loss: \", loss)\n",
    "print(\"acccuracy: \", acccuracy)"
   ]
  },
  {
   "cell_type": "code",
   "execution_count": 25,
   "id": "d77ba45b",
   "metadata": {},
   "outputs": [
    {
     "data": {
      "image/png": "[encoded data removed]",
      "text/plain": [
       "<Figure size 432x288 with 1 Axes>"
      ]
     },
     "metadata": {
      "needs_background": "light"
     },
     "output_type": "display_data"
    }
   ],
   "source": [
    "my_img = Image.open(\"test//tomatoes//tomatoes3.jpeg\")\n",
    "\n",
    "img_resize = my_img.resize((64, 64))\n",
    "np_array = np.array(img_resize)\n",
    "\n",
    "img_flatten = np_array / 255\n",
    "new_my_img = img_flatten.reshape(1, -1)\n",
    "\n",
    "prediction = classifier.predict(new_my_img)\n",
    "if prediction > 0.5:\n",
    "    index = 1\n",
    "else:\n",
    "    index = 0\n",
    "plt.imshow(my_img)\n",
    "plt.axis(\"off\")\n",
    "plt.show()"
   ]
  }
 ],
 "metadata": {
  "kernelspec": {
   "display_name": "Python 3 (ipykernel)",
   "language": "python",
   "name": "python3"
  },
  "language_info": {
   "codemirror_mode": {
    "name": "ipython",
    "version": 3
   },
   "file_extension": ".py",
   "mimetype": "text/x-python",
   "name": "python",
   "nbconvert_exporter": "python",
   "pygments_lexer": "ipython3",
   "version": "3.9.6"
  }
 },
 "nbformat": 4,
 "nbformat_minor": 5
}
