{
 "cells": [
  {
   "cell_type": "code",
   "execution_count": 1,
   "id": "749cbe0b",
   "metadata": {},
   "outputs": [],
   "source": [
    "import pandas as pd\n",
    "import numpy as np\n",
    "\n",
    "import matplotlib.pyplot as plt\n",
    "import seaborn as sns"
   ]
  },
  {
   "cell_type": "code",
   "execution_count": 2,
   "id": "8176d788",
   "metadata": {},
   "outputs": [],
   "source": [
    "data = pd.read_csv(\"SupermarketPurchase.csv\")"
   ]
  },
  {
   "cell_type": "code",
   "execution_count": 3,
   "id": "45cd5cde",
   "metadata": {},
   "outputs": [
    {
     "data": {
      "text/html": [
       "<div>\n",
       "<style scoped>\n",
       "    .dataframe tbody tr th:only-of-type {\n",
       "        vertical-align: middle;\n",
       "    }\n",
       "\n",
       "    .dataframe tbody tr th {\n",
       "        vertical-align: top;\n",
       "    }\n",
       "\n",
       "    .dataframe thead th {\n",
       "        text-align: right;\n",
       "    }\n",
       "</style>\n",
       "<table border=\"1\" class=\"dataframe\">\n",
       "  <thead>\n",
       "    <tr style=\"text-align: right;\">\n",
       "      <th></th>\n",
       "      <th>Cust_id</th>\n",
       "      <th>AVG_Actual_price_12</th>\n",
       "      <th>Purchase_Value</th>\n",
       "      <th>No_of_Items</th>\n",
       "      <th>Total_Discount</th>\n",
       "      <th>MONTH_SINCE_LAST_TRANSACTION</th>\n",
       "    </tr>\n",
       "  </thead>\n",
       "  <tbody>\n",
       "    <tr>\n",
       "      <th>0</th>\n",
       "      <td>1</td>\n",
       "      <td>300.000000</td>\n",
       "      <td>1200.00</td>\n",
       "      <td>4</td>\n",
       "      <td>0.00</td>\n",
       "      <td>11</td>\n",
       "    </tr>\n",
       "    <tr>\n",
       "      <th>1</th>\n",
       "      <td>2</td>\n",
       "      <td>2563.282500</td>\n",
       "      <td>41012.52</td>\n",
       "      <td>16</td>\n",
       "      <td>78737.48</td>\n",
       "      <td>2</td>\n",
       "    </tr>\n",
       "    <tr>\n",
       "      <th>2</th>\n",
       "      <td>4</td>\n",
       "      <td>3510.000000</td>\n",
       "      <td>7020.00</td>\n",
       "      <td>2</td>\n",
       "      <td>780.00</td>\n",
       "      <td>4</td>\n",
       "    </tr>\n",
       "    <tr>\n",
       "      <th>3</th>\n",
       "      <td>8</td>\n",
       "      <td>4530.000000</td>\n",
       "      <td>13590.00</td>\n",
       "      <td>3</td>\n",
       "      <td>1510.00</td>\n",
       "      <td>1</td>\n",
       "    </tr>\n",
       "    <tr>\n",
       "      <th>4</th>\n",
       "      <td>9</td>\n",
       "      <td>2428.076923</td>\n",
       "      <td>33455.00</td>\n",
       "      <td>15</td>\n",
       "      <td>17445.00</td>\n",
       "      <td>6</td>\n",
       "    </tr>\n",
       "  </tbody>\n",
       "</table>\n",
       "</div>"
      ],
      "text/plain": [
       "   Cust_id  AVG_Actual_price_12  Purchase_Value  No_of_Items  Total_Discount  \\\n",
       "0        1           300.000000         1200.00            4            0.00   \n",
       "1        2          2563.282500        41012.52           16        78737.48   \n",
       "2        4          3510.000000         7020.00            2          780.00   \n",
       "3        8          4530.000000        13590.00            3         1510.00   \n",
       "4        9          2428.076923        33455.00           15        17445.00   \n",
       "\n",
       "   MONTH_SINCE_LAST_TRANSACTION  \n",
       "0                            11  \n",
       "1                             2  \n",
       "2                             4  \n",
       "3                             1  \n",
       "4                             6  "
      ]
     },
     "execution_count": 3,
     "metadata": {},
     "output_type": "execute_result"
    }
   ],
   "source": [
    "data.head()"
   ]
  },
  {
   "cell_type": "code",
   "execution_count": 4,
   "id": "a8566676",
   "metadata": {},
   "outputs": [
    {
     "name": "stdout",
     "output_type": "stream",
     "text": [
      "<class 'pandas.core.frame.DataFrame'>\n",
      "RangeIndex: 702 entries, 0 to 701\n",
      "Data columns (total 6 columns):\n",
      " #   Column                        Non-Null Count  Dtype  \n",
      "---  ------                        --------------  -----  \n",
      " 0   Cust_id                       702 non-null    int64  \n",
      " 1   AVG_Actual_price_12           702 non-null    float64\n",
      " 2   Purchase_Value                702 non-null    float64\n",
      " 3   No_of_Items                   702 non-null    int64  \n",
      " 4   Total_Discount                702 non-null    float64\n",
      " 5   MONTH_SINCE_LAST_TRANSACTION  702 non-null    int64  \n",
      "dtypes: float64(3), int64(3)\n",
      "memory usage: 33.0 KB\n"
     ]
    }
   ],
   "source": [
    "data.info()"
   ]
  },
  {
   "cell_type": "markdown",
   "id": "45c63656",
   "metadata": {},
   "source": [
    "### 2) Visualization"
   ]
  },
  {
   "cell_type": "code",
   "execution_count": 5,
   "id": "bb29b4d2",
   "metadata": {},
   "outputs": [
    {
     "data": {
      "image/png": "[encoded data removed]",
      "text/plain": [
       "<Figure size 720x720 with 6 Axes>"
      ]
     },
     "metadata": {
      "needs_background": "light"
     },
     "output_type": "display_data"
    }
   ],
   "source": [
    "data.hist(figsize =(10,10))\n",
    "plt.show()"
   ]
  },
  {
   "cell_type": "code",
   "execution_count": 6,
   "id": "84232baf",
   "metadata": {},
   "outputs": [
    {
     "data": {
      "image/png": "[encoded data removed]",
      "text/plain": [
       "<Figure size 432x288 with 1 Axes>"
      ]
     },
     "metadata": {
      "needs_background": "light"
     },
     "output_type": "display_data"
    }
   ],
   "source": [
    "plt.scatter(data[\"Purchase_Value\"], data[\"Total_Discount\"])\n",
    "plt.xlabel(\"Purchase_Value\")\n",
    "plt.ylabel(\"Total_Discount\")\n",
    "plt.show()"
   ]
  },
  {
   "cell_type": "markdown",
   "id": "be90e2df",
   "metadata": {},
   "source": [
    "### 3)Clustering"
   ]
  },
  {
   "cell_type": "markdown",
   "id": "b1b05c21",
   "metadata": {},
   "source": [
    "#### 3.1. KMeans"
   ]
  },
  {
   "cell_type": "code",
   "execution_count": 7,
   "id": "4a3142bd",
   "metadata": {},
   "outputs": [],
   "source": [
    "data.drop([\"Cust_id\"], axis = 1 ,inplace = True)"
   ]
  },
  {
   "cell_type": "code",
   "execution_count": 8,
   "id": "213749d3",
   "metadata": {},
   "outputs": [
    {
     "data": {
      "text/html": [
       "<div>\n",
       "<style scoped>\n",
       "    .dataframe tbody tr th:only-of-type {\n",
       "        vertical-align: middle;\n",
       "    }\n",
       "\n",
       "    .dataframe tbody tr th {\n",
       "        vertical-align: top;\n",
       "    }\n",
       "\n",
       "    .dataframe thead th {\n",
       "        text-align: right;\n",
       "    }\n",
       "</style>\n",
       "<table border=\"1\" class=\"dataframe\">\n",
       "  <thead>\n",
       "    <tr style=\"text-align: right;\">\n",
       "      <th></th>\n",
       "      <th>AVG_Actual_price_12</th>\n",
       "      <th>Purchase_Value</th>\n",
       "      <th>No_of_Items</th>\n",
       "      <th>Total_Discount</th>\n",
       "      <th>MONTH_SINCE_LAST_TRANSACTION</th>\n",
       "    </tr>\n",
       "  </thead>\n",
       "  <tbody>\n",
       "    <tr>\n",
       "      <th>0</th>\n",
       "      <td>300.000000</td>\n",
       "      <td>1200.00</td>\n",
       "      <td>4</td>\n",
       "      <td>0.00</td>\n",
       "      <td>11</td>\n",
       "    </tr>\n",
       "    <tr>\n",
       "      <th>1</th>\n",
       "      <td>2563.282500</td>\n",
       "      <td>41012.52</td>\n",
       "      <td>16</td>\n",
       "      <td>78737.48</td>\n",
       "      <td>2</td>\n",
       "    </tr>\n",
       "    <tr>\n",
       "      <th>2</th>\n",
       "      <td>3510.000000</td>\n",
       "      <td>7020.00</td>\n",
       "      <td>2</td>\n",
       "      <td>780.00</td>\n",
       "      <td>4</td>\n",
       "    </tr>\n",
       "    <tr>\n",
       "      <th>3</th>\n",
       "      <td>4530.000000</td>\n",
       "      <td>13590.00</td>\n",
       "      <td>3</td>\n",
       "      <td>1510.00</td>\n",
       "      <td>1</td>\n",
       "    </tr>\n",
       "    <tr>\n",
       "      <th>4</th>\n",
       "      <td>2428.076923</td>\n",
       "      <td>33455.00</td>\n",
       "      <td>15</td>\n",
       "      <td>17445.00</td>\n",
       "      <td>6</td>\n",
       "    </tr>\n",
       "  </tbody>\n",
       "</table>\n",
       "</div>"
      ],
      "text/plain": [
       "   AVG_Actual_price_12  Purchase_Value  No_of_Items  Total_Discount  \\\n",
       "0           300.000000         1200.00            4            0.00   \n",
       "1          2563.282500        41012.52           16        78737.48   \n",
       "2          3510.000000         7020.00            2          780.00   \n",
       "3          4530.000000        13590.00            3         1510.00   \n",
       "4          2428.076923        33455.00           15        17445.00   \n",
       "\n",
       "   MONTH_SINCE_LAST_TRANSACTION  \n",
       "0                            11  \n",
       "1                             2  \n",
       "2                             4  \n",
       "3                             1  \n",
       "4                             6  "
      ]
     },
     "execution_count": 8,
     "metadata": {},
     "output_type": "execute_result"
    }
   ],
   "source": [
    "data.head()"
   ]
  },
  {
   "cell_type": "code",
   "execution_count": 9,
   "id": "b0c84bf2",
   "metadata": {},
   "outputs": [
    {
     "data": {
      "image/png": "[encoded data removed]",
      "text/plain": [
       "<Figure size 432x288 with 1 Axes>"
      ]
     },
     "metadata": {
      "needs_background": "light"
     },
     "output_type": "display_data"
    }
   ],
   "source": [
    "# find n value\n",
    "\n",
    "from sklearn.cluster import KMeans\n",
    "\n",
    "cwss = []\n",
    "\n",
    "for i in range(1, 15):\n",
    "    kmean = KMeans(n_clusters = i)\n",
    "    kmean.fit(data)\n",
    "    cwss.append(kmean.inertia_)\n",
    "\n",
    "plt.plot(range(1, 15), cwss, \"-o\")\n",
    "plt.xlabel('Number of cluster')\n",
    "plt.ylabel('Inertia')\n",
    "plt.show()"
   ]
  },
  {
   "cell_type": "code",
   "execution_count": 10,
   "id": "f1725c17",
   "metadata": {},
   "outputs": [
    {
     "data": {
      "image/png": "[encoded data removed]",
      "text/plain": [
       "<Figure size 432x288 with 1 Axes>"
      ]
     },
     "metadata": {
      "needs_background": "light"
     },
     "output_type": "display_data"
    }
   ],
   "source": [
    "# KMean n = 3 için\n",
    "\n",
    "kmean2 = KMeans(n_clusters = 3)\n",
    "cluster = kmean2.fit_predict(data)\n",
    "data[\"kmean_label\"] = cluster\n",
    "\n",
    "plt.scatter(data[\"Purchase_Value\"], data[\"Total_Discount\"], c = data[\"kmean_label\"])\n",
    "plt.xlabel(\"Purchase_Value\")\n",
    "plt.ylabel(\"Total_Discount\")\n",
    "plt.show()"
   ]
  },
  {
   "cell_type": "markdown",
   "id": "813187da",
   "metadata": {},
   "source": [
    "#### 3.2. Hierarchy Clustering"
   ]
  },
  {
   "cell_type": "markdown",
   "id": "0051f513",
   "metadata": {},
   "source": [
    "##### Dendogram"
   ]
  },
  {
   "cell_type": "code",
   "execution_count": 11,
   "id": "22eaa08c",
   "metadata": {},
   "outputs": [
    {
     "data": {
      "image/png": "[encoded data removed]",
      "text/plain": [
       "<Figure size 432x288 with 1 Axes>"
      ]
     },
     "metadata": {
      "needs_background": "light"
     },
     "output_type": "display_data"
    }
   ],
   "source": [
    "from scipy.cluster.hierarchy import linkage, dendrogram\n",
    "\n",
    "merg = linkage(data.iloc[0:25,:], method = \"single\")\n",
    "dendrogram(merg, leaf_rotation = 90, leaf_font_size = 6)\n",
    "plt.show()"
   ]
  },
  {
   "cell_type": "code",
   "execution_count": null,
   "id": "724ff0bc",
   "metadata": {},
   "outputs": [],
   "source": [
    "# HC\n",
    "\n",
    "from sklearn.cluster import AgglomerativeClustering\n",
    "hc = AgglomerativeClustering(n_clusters = 3, affinity = \"euclidean\", linkage = \"ward\")\n",
    "hc.fit_predict(data)\n",
    "\n",
    "data[\"kmean_label\"] = cluster\n",
    "\n",
    "plt.scatter(data[\"Purchase_Value\"], data[\"Total_Discount\"], c = data[\"kmean_label\"])\n",
    "plt.xlabel(\"Purchase_Value\")\n",
    "plt.ylabel(\"Total_Discount\")\n",
    "plt.show()"
   ]
  }
 ],
 "metadata": {
  "kernelspec": {
   "display_name": "Python 3 (ipykernel)",
   "language": "python",
   "name": "python3"
  },
  "language_info": {
   "codemirror_mode": {
    "name": "ipython",
    "version": 3
   },
   "file_extension": ".py",
   "mimetype": "text/x-python",
   "name": "python",
   "nbconvert_exporter": "python",
   "pygments_lexer": "ipython3",
   "version": "3.9.6"
  }
 },
 "nbformat": 4,
 "nbformat_minor": 5
}
